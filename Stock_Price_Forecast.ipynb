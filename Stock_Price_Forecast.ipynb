{
  "nbformat": 4,
  "nbformat_minor": 0,
  "metadata": {
    "colab": {
      "name": "Stock_Price_Forecast",
      "provenance": [],
      "collapsed_sections": [],
      "include_colab_link": true
    },
    "kernelspec": {
      "name": "python3",
      "display_name": "Python 3"
    }
  },
  "cells": [
    {
      "cell_type": "markdown",
      "metadata": {
        "id": "view-in-github",
        "colab_type": "text"
      },
      "source": [
        "<a href=\"https://colab.research.google.com/github/soumyabrataroy/StockPriceForecast/blob/main/Stock_Price_Forecast.ipynb\" target=\"_parent\"><img src=\"https://colab.research.google.com/assets/colab-badge.svg\" alt=\"Open In Colab\"/></a>"
      ]
    },
    {
      "cell_type": "code",
      "metadata": {
        "id": "DZ1UuRiu0RJ2"
      },
      "source": [
        "pip install yfinance"
      ],
      "execution_count": null,
      "outputs": []
    },
    {
      "cell_type": "markdown",
      "metadata": {
        "id": "D5uJVLka1UmC"
      },
      "source": [
        "Getting Stock Price"
      ]
    },
    {
      "cell_type": "code",
      "metadata": {
        "id": "-3nQRvrE0BgB"
      },
      "source": [
        "# Importing different libraries\n",
        "import numpy as np\n",
        "import pandas as pd\n",
        "import matplotlib.pyplot as plt\n",
        "import seaborn as sns\n",
        "import yfinance as yf\n",
        "%matplotlib inline\n",
        "\n",
        "# used Reliance industries stock price \n",
        "data = yf.Ticker('RELIANCE.BO')\n",
        "\n",
        "# get historical market data of stock from the begining\n",
        "hist_stock = data.history(period=\"max\")"
      ],
      "execution_count": 2,
      "outputs": []
    },
    {
      "cell_type": "markdown",
      "metadata": {
        "id": "gKbur0q71aso"
      },
      "source": [
        "Getting SENSEX data"
      ]
    },
    {
      "cell_type": "code",
      "metadata": {
        "id": "tqrLae4_0GJH"
      },
      "source": [
        "# Sensex Ticker is '^BSESN' in Yahoo Finance website\n",
        "data = yf.Ticker('^BSESN')\n",
        "\n",
        "# get historical market data of stock\n",
        "hist_sensex = data.history(period=\"max\")"
      ],
      "execution_count": 3,
      "outputs": []
    },
    {
      "cell_type": "code",
      "metadata": {
        "colab": {
          "base_uri": "https://localhost:8080/",
          "height": 295
        },
        "id": "mk-vgTNX1pxY",
        "outputId": "3b4afb22-b73a-4e20-c117-2157350cab57"
      },
      "source": [
        "# Here I have visualizes the stock data for Reliance\n",
        "plt.figure(figsize=(10,4))\n",
        "plt.plot(hist_stock.index, hist_stock['Close'])\n",
        "plt.xlabel(\"Date\")\n",
        "plt.ylabel(\"Close\")\n",
        "plt.title(\"Historical Close\");"
      ],
      "execution_count": 4,
      "outputs": [
        {
          "output_type": "display_data",
          "data": {
            "image/png": "[encoded data removed]",
            "text/plain": [
              "<Figure size 720x288 with 1 Axes>"
            ]
          },
          "metadata": {
            "tags": [],
            "needs_background": "light"
          }
        }
      ]
    },
    {
      "cell_type": "markdown",
      "metadata": {
        "id": "dqLSPYaH8ewh"
      },
      "source": [
        "**Stock Price Data**"
      ]
    },
    {
      "cell_type": "code",
      "metadata": {
        "colab": {
          "base_uri": "https://localhost:8080/",
          "height": 234
        },
        "id": "AjBLIEC611eW",
        "outputId": "0625c7a5-d20f-4ab5-cc81-ee9f8b393513"
      },
      "source": [
        "hist_stock.head()"
      ],
      "execution_count": 5,
      "outputs": [
        {
          "output_type": "execute_result",
          "data": {
            "text/html": [
              "<div>\n",
              "<style scoped>\n",
              "    .dataframe tbody tr th:only-of-type {\n",
              "        vertical-align: middle;\n",
              "    }\n",
              "\n",
              "    .dataframe tbody tr th {\n",
              "        vertical-align: top;\n",
              "    }\n",
              "\n",
              "    .dataframe thead th {\n",
              "        text-align: right;\n",
              "    }\n",
              "</style>\n",
              "<table border=\"1\" class=\"dataframe\">\n",
              "  <thead>\n",
              "    <tr style=\"text-align: right;\">\n",
              "      <th></th>\n",
              "      <th>Open</th>\n",
              "      <th>High</th>\n",
              "      <th>Low</th>\n",
              "      <th>Close</th>\n",
              "      <th>Volume</th>\n",
              "      <th>Dividends</th>\n",
              "      <th>Stock Splits</th>\n",
              "    </tr>\n",
              "    <tr>\n",
              "      <th>Date</th>\n",
              "      <th></th>\n",
              "      <th></th>\n",
              "      <th></th>\n",
              "      <th></th>\n",
              "      <th></th>\n",
              "      <th></th>\n",
              "      <th></th>\n",
              "    </tr>\n",
              "  </thead>\n",
              "  <tbody>\n",
              "    <tr>\n",
              "      <th>1995-07-10</th>\n",
              "      <td>16.961103</td>\n",
              "      <td>16.993410</td>\n",
              "      <td>16.702647</td>\n",
              "      <td>16.767262</td>\n",
              "      <td>2988972750</td>\n",
              "      <td>0.0</td>\n",
              "      <td>0.0</td>\n",
              "    </tr>\n",
              "    <tr>\n",
              "      <th>1995-07-11</th>\n",
              "      <td>16.767262</td>\n",
              "      <td>16.767262</td>\n",
              "      <td>16.767262</td>\n",
              "      <td>16.767262</td>\n",
              "      <td>0</td>\n",
              "      <td>0.0</td>\n",
              "      <td>0.0</td>\n",
              "    </tr>\n",
              "    <tr>\n",
              "      <th>1995-07-12</th>\n",
              "      <td>16.896490</td>\n",
              "      <td>17.090332</td>\n",
              "      <td>16.864183</td>\n",
              "      <td>17.090332</td>\n",
              "      <td>3814050240</td>\n",
              "      <td>0.0</td>\n",
              "      <td>0.0</td>\n",
              "    </tr>\n",
              "    <tr>\n",
              "      <th>1995-07-13</th>\n",
              "      <td>17.122640</td>\n",
              "      <td>17.187254</td>\n",
              "      <td>17.025720</td>\n",
              "      <td>17.058027</td>\n",
              "      <td>3284069714</td>\n",
              "      <td>0.0</td>\n",
              "      <td>0.0</td>\n",
              "    </tr>\n",
              "    <tr>\n",
              "      <th>1995-07-14</th>\n",
              "      <td>17.090329</td>\n",
              "      <td>17.251863</td>\n",
              "      <td>17.025715</td>\n",
              "      <td>17.122635</td>\n",
              "      <td>2625803256</td>\n",
              "      <td>0.0</td>\n",
              "      <td>0.0</td>\n",
              "    </tr>\n",
              "  </tbody>\n",
              "</table>\n",
              "</div>"
            ],
            "text/plain": [
              "                 Open       High  ...  Dividends  Stock Splits\n",
              "Date                              ...                         \n",
              "1995-07-10  16.961103  16.993410  ...        0.0           0.0\n",
              "1995-07-11  16.767262  16.767262  ...        0.0           0.0\n",
              "1995-07-12  16.896490  17.090332  ...        0.0           0.0\n",
              "1995-07-13  17.122640  17.187254  ...        0.0           0.0\n",
              "1995-07-14  17.090329  17.251863  ...        0.0           0.0\n",
              "\n",
              "[5 rows x 7 columns]"
            ]
          },
          "metadata": {
            "tags": []
          },
          "execution_count": 5
        }
      ]
    },
    {
      "cell_type": "markdown",
      "metadata": {
        "id": "4Ht3TaDg8knI"
      },
      "source": [
        "SENSEX Data"
      ]
    },
    {
      "cell_type": "code",
      "metadata": {
        "colab": {
          "base_uri": "https://localhost:8080/",
          "height": 234
        },
        "id": "SvAtTvdP2GnE",
        "outputId": "f4708ad7-7028-41a0-db41-f2fd5f934803"
      },
      "source": [
        "hist_sensex.head()"
      ],
      "execution_count": 6,
      "outputs": [
        {
          "output_type": "execute_result",
          "data": {
            "text/html": [
              "<div>\n",
              "<style scoped>\n",
              "    .dataframe tbody tr th:only-of-type {\n",
              "        vertical-align: middle;\n",
              "    }\n",
              "\n",
              "    .dataframe tbody tr th {\n",
              "        vertical-align: top;\n",
              "    }\n",
              "\n",
              "    .dataframe thead th {\n",
              "        text-align: right;\n",
              "    }\n",
              "</style>\n",
              "<table border=\"1\" class=\"dataframe\">\n",
              "  <thead>\n",
              "    <tr style=\"text-align: right;\">\n",
              "      <th></th>\n",
              "      <th>Open</th>\n",
              "      <th>High</th>\n",
              "      <th>Low</th>\n",
              "      <th>Close</th>\n",
              "      <th>Volume</th>\n",
              "      <th>Dividends</th>\n",
              "      <th>Stock Splits</th>\n",
              "    </tr>\n",
              "    <tr>\n",
              "      <th>Date</th>\n",
              "      <th></th>\n",
              "      <th></th>\n",
              "      <th></th>\n",
              "      <th></th>\n",
              "      <th></th>\n",
              "      <th></th>\n",
              "      <th></th>\n",
              "    </tr>\n",
              "  </thead>\n",
              "  <tbody>\n",
              "    <tr>\n",
              "      <th>1997-07-01</th>\n",
              "      <td>4263.109863</td>\n",
              "      <td>4301.770020</td>\n",
              "      <td>4247.660156</td>\n",
              "      <td>4300.859863</td>\n",
              "      <td>0</td>\n",
              "      <td>0</td>\n",
              "      <td>0</td>\n",
              "    </tr>\n",
              "    <tr>\n",
              "      <th>1997-07-02</th>\n",
              "      <td>4302.959961</td>\n",
              "      <td>4395.310059</td>\n",
              "      <td>4295.399902</td>\n",
              "      <td>4333.899902</td>\n",
              "      <td>0</td>\n",
              "      <td>0</td>\n",
              "      <td>0</td>\n",
              "    </tr>\n",
              "    <tr>\n",
              "      <th>1997-07-03</th>\n",
              "      <td>4335.790039</td>\n",
              "      <td>4393.290039</td>\n",
              "      <td>4299.970215</td>\n",
              "      <td>4323.459961</td>\n",
              "      <td>0</td>\n",
              "      <td>0</td>\n",
              "      <td>0</td>\n",
              "    </tr>\n",
              "    <tr>\n",
              "      <th>1997-07-04</th>\n",
              "      <td>4332.700195</td>\n",
              "      <td>4347.589844</td>\n",
              "      <td>4300.580078</td>\n",
              "      <td>4323.819824</td>\n",
              "      <td>0</td>\n",
              "      <td>0</td>\n",
              "      <td>0</td>\n",
              "    </tr>\n",
              "    <tr>\n",
              "      <th>1997-07-07</th>\n",
              "      <td>4326.810059</td>\n",
              "      <td>4391.009766</td>\n",
              "      <td>4289.490234</td>\n",
              "      <td>4291.450195</td>\n",
              "      <td>0</td>\n",
              "      <td>0</td>\n",
              "      <td>0</td>\n",
              "    </tr>\n",
              "  </tbody>\n",
              "</table>\n",
              "</div>"
            ],
            "text/plain": [
              "                   Open         High  ...  Dividends  Stock Splits\n",
              "Date                                  ...                         \n",
              "1997-07-01  4263.109863  4301.770020  ...          0             0\n",
              "1997-07-02  4302.959961  4395.310059  ...          0             0\n",
              "1997-07-03  4335.790039  4393.290039  ...          0             0\n",
              "1997-07-04  4332.700195  4347.589844  ...          0             0\n",
              "1997-07-07  4326.810059  4391.009766  ...          0             0\n",
              "\n",
              "[5 rows x 7 columns]"
            ]
          },
          "metadata": {
            "tags": []
          },
          "execution_count": 6
        }
      ]
    },
    {
      "cell_type": "markdown",
      "metadata": {
        "id": "feWEVSdX9xwc"
      },
      "source": [
        "Create Merged Data"
      ]
    },
    {
      "cell_type": "code",
      "metadata": {
        "id": "H03A66BB8dPK"
      },
      "source": [
        "# for simplicity, took only Stock 'Close' and 'Volume' data\n",
        "stock_close = hist_stock[['Close','Volume']]\n",
        "\n",
        "# for simplicity, took only Sensex 'Close' and 'Volume' data\n",
        "sensex_close = hist_sensex[['Close','Volume']]\n",
        "\n",
        "#Inner Join the above two data tables\n",
        "merged_data = pd.merge(stock_close, sensex_close , on =None, how ='inner', left_index=True, right_index=True, suffixes=('_stock', '_sensex'))"
      ],
      "execution_count": 7,
      "outputs": []
    },
    {
      "cell_type": "markdown",
      "metadata": {
        "id": "0A6zcU3_96gv"
      },
      "source": [
        "**Getting only Stock close and sensex data together**"
      ]
    },
    {
      "cell_type": "code",
      "metadata": {
        "id": "b9pKKe229Op4"
      },
      "source": [
        "data = merged_data[['Close_stock','Close_sensex']]"
      ],
      "execution_count": 8,
      "outputs": []
    },
    {
      "cell_type": "code",
      "metadata": {
        "colab": {
          "base_uri": "https://localhost:8080/"
        },
        "id": "B7o5nqDN9dnK",
        "outputId": "f40dd276-20eb-459a-95cb-ce1b014443df"
      },
      "source": [
        "# Null value check\n",
        "data.isnull().sum()"
      ],
      "execution_count": 9,
      "outputs": [
        {
          "output_type": "execute_result",
          "data": {
            "text/plain": [
              "Close_stock     0\n",
              "Close_sensex    0\n",
              "dtype: int64"
            ]
          },
          "metadata": {
            "tags": []
          },
          "execution_count": 9
        }
      ]
    },
    {
      "cell_type": "markdown",
      "metadata": {
        "id": "KyHUk1Gx-QUD"
      },
      "source": [
        "200 Days Moving Average"
      ]
    },
    {
      "cell_type": "code",
      "metadata": {
        "id": "l0s3u3z59mb9"
      },
      "source": [
        "data.insert(loc=1,column='200_MA_stock', value = data['Close_stock'].rolling(200).mean())"
      ],
      "execution_count": 10,
      "outputs": []
    },
    {
      "cell_type": "code",
      "metadata": {
        "colab": {
          "base_uri": "https://localhost:8080/",
          "height": 234
        },
        "id": "YJEzd7gT-bbb",
        "outputId": "c92b601b-1c53-42ae-8c77-da558dc62f86"
      },
      "source": [
        "data.head()"
      ],
      "execution_count": 11,
      "outputs": [
        {
          "output_type": "execute_result",
          "data": {
            "text/html": [
              "<div>\n",
              "<style scoped>\n",
              "    .dataframe tbody tr th:only-of-type {\n",
              "        vertical-align: middle;\n",
              "    }\n",
              "\n",
              "    .dataframe tbody tr th {\n",
              "        vertical-align: top;\n",
              "    }\n",
              "\n",
              "    .dataframe thead th {\n",
              "        text-align: right;\n",
              "    }\n",
              "</style>\n",
              "<table border=\"1\" class=\"dataframe\">\n",
              "  <thead>\n",
              "    <tr style=\"text-align: right;\">\n",
              "      <th></th>\n",
              "      <th>Close_stock</th>\n",
              "      <th>200_MA_stock</th>\n",
              "      <th>Close_sensex</th>\n",
              "    </tr>\n",
              "    <tr>\n",
              "      <th>Date</th>\n",
              "      <th></th>\n",
              "      <th></th>\n",
              "      <th></th>\n",
              "    </tr>\n",
              "  </thead>\n",
              "  <tbody>\n",
              "    <tr>\n",
              "      <th>1997-07-01</th>\n",
              "      <td>25.414921</td>\n",
              "      <td>NaN</td>\n",
              "      <td>4300.859863</td>\n",
              "    </tr>\n",
              "    <tr>\n",
              "      <th>1997-07-02</th>\n",
              "      <td>25.346138</td>\n",
              "      <td>NaN</td>\n",
              "      <td>4333.899902</td>\n",
              "    </tr>\n",
              "    <tr>\n",
              "      <th>1997-07-03</th>\n",
              "      <td>25.002228</td>\n",
              "      <td>NaN</td>\n",
              "      <td>4323.459961</td>\n",
              "    </tr>\n",
              "    <tr>\n",
              "      <th>1997-07-04</th>\n",
              "      <td>24.572340</td>\n",
              "      <td>NaN</td>\n",
              "      <td>4323.819824</td>\n",
              "    </tr>\n",
              "    <tr>\n",
              "      <th>1997-07-07</th>\n",
              "      <td>24.881859</td>\n",
              "      <td>NaN</td>\n",
              "      <td>4291.450195</td>\n",
              "    </tr>\n",
              "  </tbody>\n",
              "</table>\n",
              "</div>"
            ],
            "text/plain": [
              "            Close_stock  200_MA_stock  Close_sensex\n",
              "Date                                               \n",
              "1997-07-01    25.414921           NaN   4300.859863\n",
              "1997-07-02    25.346138           NaN   4333.899902\n",
              "1997-07-03    25.002228           NaN   4323.459961\n",
              "1997-07-04    24.572340           NaN   4323.819824\n",
              "1997-07-07    24.881859           NaN   4291.450195"
            ]
          },
          "metadata": {
            "tags": []
          },
          "execution_count": 11
        }
      ]
    },
    {
      "cell_type": "markdown",
      "metadata": {
        "id": "dTFhwNR3sUOy"
      },
      "source": [
        "Creating the RSI indicator"
      ]
    },
    {
      "cell_type": "code",
      "metadata": {
        "colab": {
          "base_uri": "https://localhost:8080/"
        },
        "id": "04wOlqu0-ix5",
        "outputId": "e2fc108d-0ae4-4602-dbe6-942dd24866ba"
      },
      "source": [
        "change = data['Close_stock'].diff(1)\n",
        "\n",
        "\n",
        "is_gain, is_loss = change > 0, change < 0\n",
        "gain, loss = change, -change\n",
        "\n",
        "\n",
        "gain[is_loss] = 0\n",
        "loss[is_gain] = 0\n",
        "\n",
        "\n",
        "gain.name = 'gain'\n",
        "loss.name = 'loss'\n",
        "\n",
        "\n",
        "n = 14\n",
        "avg_gain = change * np.nan\n",
        "avg_loss = change * np.nan\n",
        "\n",
        "\n",
        "avg_gain[n] = gain[:n+1].mean()\n",
        "avg_loss[n] = loss[:n+1].mean()\n",
        "\n",
        "\n",
        "avg_gain.name = 'avg_gain'\n",
        "avg_loss.name = 'avg_loss'\n",
        "\n",
        "\n",
        "avg_df = pd.concat([gain, loss, avg_gain, avg_loss], axis=1)\n",
        "print(avg_df.iloc[:16,:])"
      ],
      "execution_count": 12,
      "outputs": [
        {
          "output_type": "stream",
          "text": [
            "                gain      loss  avg_gain  avg_loss\n",
            "Date                                              \n",
            "1997-07-01       NaN       NaN       NaN       NaN\n",
            "1997-07-02  0.000000  0.068783       NaN       NaN\n",
            "1997-07-03  0.000000  0.343910       NaN       NaN\n",
            "1997-07-04  0.000000  0.429888       NaN       NaN\n",
            "1997-07-07  0.309519  0.000000       NaN       NaN\n",
            "1997-07-08  0.017199  0.000000       NaN       NaN\n",
            "1997-07-09  0.103170  0.000000       NaN       NaN\n",
            "1997-07-10  0.000000  0.034393       NaN       NaN\n",
            "1997-07-11  0.000000  0.464272       NaN       NaN\n",
            "1997-07-14  0.000000  0.567455       NaN       NaN\n",
            "1997-07-15  0.171955  0.000000       NaN       NaN\n",
            "1997-07-16  0.000000  0.068779       NaN       NaN\n",
            "1997-07-17  0.085972  0.000000       NaN       NaN\n",
            "1997-07-18  0.000000  0.550257       NaN       NaN\n",
            "1997-07-21  0.292328  0.000000   0.07001  0.180553\n",
            "1997-07-22  0.000000  0.017199       NaN       NaN\n"
          ],
          "name": "stdout"
        }
      ]
    },
    {
      "cell_type": "code",
      "metadata": {
        "id": "oD9roSJD-8xD"
      },
      "source": [
        "period = n\n",
        "\n",
        "\n",
        "# used (len(avg_df)-1) because if I use len(avg_df), the assigning value will be out of bound\n",
        "for n in range(period,len(avg_df)-1):\n",
        "    \n",
        "    avg_df['avg_gain'][n+1] = (((avg_df['avg_gain'][n])*(period-1))+(avg_df['gain'][n+1]))/period\n",
        "    avg_df['avg_loss'][n+1] = (((avg_df['avg_loss'][n])*(period-1))+(avg_df['loss'][n+1]))/period"
      ],
      "execution_count": 13,
      "outputs": []
    },
    {
      "cell_type": "code",
      "metadata": {
        "colab": {
          "base_uri": "https://localhost:8080/",
          "height": 388
        },
        "id": "6kgviUrLAHBL",
        "outputId": "610e617c-26a2-4a1c-b44e-20ad59e0a3e6"
      },
      "source": [
        "avg_df.tail(10)"
      ],
      "execution_count": 14,
      "outputs": [
        {
          "output_type": "execute_result",
          "data": {
            "text/html": [
              "<div>\n",
              "<style scoped>\n",
              "    .dataframe tbody tr th:only-of-type {\n",
              "        vertical-align: middle;\n",
              "    }\n",
              "\n",
              "    .dataframe tbody tr th {\n",
              "        vertical-align: top;\n",
              "    }\n",
              "\n",
              "    .dataframe thead th {\n",
              "        text-align: right;\n",
              "    }\n",
              "</style>\n",
              "<table border=\"1\" class=\"dataframe\">\n",
              "  <thead>\n",
              "    <tr style=\"text-align: right;\">\n",
              "      <th></th>\n",
              "      <th>gain</th>\n",
              "      <th>loss</th>\n",
              "      <th>avg_gain</th>\n",
              "      <th>avg_loss</th>\n",
              "    </tr>\n",
              "    <tr>\n",
              "      <th>Date</th>\n",
              "      <th></th>\n",
              "      <th></th>\n",
              "      <th></th>\n",
              "      <th></th>\n",
              "    </tr>\n",
              "  </thead>\n",
              "  <tbody>\n",
              "    <tr>\n",
              "      <th>2021-07-05</th>\n",
              "      <td>20.699951</td>\n",
              "      <td>0.000000</td>\n",
              "      <td>12.083947</td>\n",
              "      <td>10.855220</td>\n",
              "    </tr>\n",
              "    <tr>\n",
              "      <th>2021-07-06</th>\n",
              "      <td>0.000000</td>\n",
              "      <td>23.949951</td>\n",
              "      <td>11.220808</td>\n",
              "      <td>11.790558</td>\n",
              "    </tr>\n",
              "    <tr>\n",
              "      <th>2021-07-07</th>\n",
              "      <td>0.000000</td>\n",
              "      <td>15.800049</td>\n",
              "      <td>10.419322</td>\n",
              "      <td>12.076950</td>\n",
              "    </tr>\n",
              "    <tr>\n",
              "      <th>2021-07-08</th>\n",
              "      <td>0.000000</td>\n",
              "      <td>17.250000</td>\n",
              "      <td>9.675085</td>\n",
              "      <td>12.446454</td>\n",
              "    </tr>\n",
              "    <tr>\n",
              "      <th>2021-07-09</th>\n",
              "      <td>0.000000</td>\n",
              "      <td>19.699951</td>\n",
              "      <td>8.984007</td>\n",
              "      <td>12.964561</td>\n",
              "    </tr>\n",
              "    <tr>\n",
              "      <th>2021-07-12</th>\n",
              "      <td>11.250000</td>\n",
              "      <td>0.000000</td>\n",
              "      <td>9.145864</td>\n",
              "      <td>12.038521</td>\n",
              "    </tr>\n",
              "    <tr>\n",
              "      <th>2021-07-13</th>\n",
              "      <td>15.100098</td>\n",
              "      <td>0.000000</td>\n",
              "      <td>9.571166</td>\n",
              "      <td>11.178626</td>\n",
              "    </tr>\n",
              "    <tr>\n",
              "      <th>2021-07-14</th>\n",
              "      <td>0.000000</td>\n",
              "      <td>13.550049</td>\n",
              "      <td>8.887511</td>\n",
              "      <td>11.348014</td>\n",
              "    </tr>\n",
              "    <tr>\n",
              "      <th>2021-07-15</th>\n",
              "      <td>0.000000</td>\n",
              "      <td>2.750000</td>\n",
              "      <td>8.252689</td>\n",
              "      <td>10.733870</td>\n",
              "    </tr>\n",
              "    <tr>\n",
              "      <th>2021-07-16</th>\n",
              "      <td>28.550049</td>\n",
              "      <td>0.000000</td>\n",
              "      <td>9.702501</td>\n",
              "      <td>9.967165</td>\n",
              "    </tr>\n",
              "  </tbody>\n",
              "</table>\n",
              "</div>"
            ],
            "text/plain": [
              "                 gain       loss   avg_gain   avg_loss\n",
              "Date                                                  \n",
              "2021-07-05  20.699951   0.000000  12.083947  10.855220\n",
              "2021-07-06   0.000000  23.949951  11.220808  11.790558\n",
              "2021-07-07   0.000000  15.800049  10.419322  12.076950\n",
              "2021-07-08   0.000000  17.250000   9.675085  12.446454\n",
              "2021-07-09   0.000000  19.699951   8.984007  12.964561\n",
              "2021-07-12  11.250000   0.000000   9.145864  12.038521\n",
              "2021-07-13  15.100098   0.000000   9.571166  11.178626\n",
              "2021-07-14   0.000000  13.550049   8.887511  11.348014\n",
              "2021-07-15   0.000000   2.750000   8.252689  10.733870\n",
              "2021-07-16  28.550049   0.000000   9.702501   9.967165"
            ]
          },
          "metadata": {
            "tags": []
          },
          "execution_count": 14
        }
      ]
    },
    {
      "cell_type": "code",
      "metadata": {
        "colab": {
          "base_uri": "https://localhost:8080/",
          "height": 447
        },
        "id": "ocQVwodFAJ0b",
        "outputId": "873260bc-8c85-41c3-ca04-623fbda2d71a"
      },
      "source": [
        "avg_df['Relative Strength'] = avg_df['avg_gain']/avg_df['avg_loss']\n",
        "avg_df['RSI'] = avg_df['Relative Strength'].apply(lambda x: 100-(100/(x+1)))\n",
        "avg_df"
      ],
      "execution_count": 15,
      "outputs": [
        {
          "output_type": "execute_result",
          "data": {
            "text/html": [
              "<div>\n",
              "<style scoped>\n",
              "    .dataframe tbody tr th:only-of-type {\n",
              "        vertical-align: middle;\n",
              "    }\n",
              "\n",
              "    .dataframe tbody tr th {\n",
              "        vertical-align: top;\n",
              "    }\n",
              "\n",
              "    .dataframe thead th {\n",
              "        text-align: right;\n",
              "    }\n",
              "</style>\n",
              "<table border=\"1\" class=\"dataframe\">\n",
              "  <thead>\n",
              "    <tr style=\"text-align: right;\">\n",
              "      <th></th>\n",
              "      <th>gain</th>\n",
              "      <th>loss</th>\n",
              "      <th>avg_gain</th>\n",
              "      <th>avg_loss</th>\n",
              "      <th>Relative Strength</th>\n",
              "      <th>RSI</th>\n",
              "    </tr>\n",
              "    <tr>\n",
              "      <th>Date</th>\n",
              "      <th></th>\n",
              "      <th></th>\n",
              "      <th></th>\n",
              "      <th></th>\n",
              "      <th></th>\n",
              "      <th></th>\n",
              "    </tr>\n",
              "  </thead>\n",
              "  <tbody>\n",
              "    <tr>\n",
              "      <th>1997-07-01</th>\n",
              "      <td>NaN</td>\n",
              "      <td>NaN</td>\n",
              "      <td>NaN</td>\n",
              "      <td>NaN</td>\n",
              "      <td>NaN</td>\n",
              "      <td>NaN</td>\n",
              "    </tr>\n",
              "    <tr>\n",
              "      <th>1997-07-02</th>\n",
              "      <td>0.000000</td>\n",
              "      <td>0.068783</td>\n",
              "      <td>NaN</td>\n",
              "      <td>NaN</td>\n",
              "      <td>NaN</td>\n",
              "      <td>NaN</td>\n",
              "    </tr>\n",
              "    <tr>\n",
              "      <th>1997-07-03</th>\n",
              "      <td>0.000000</td>\n",
              "      <td>0.343910</td>\n",
              "      <td>NaN</td>\n",
              "      <td>NaN</td>\n",
              "      <td>NaN</td>\n",
              "      <td>NaN</td>\n",
              "    </tr>\n",
              "    <tr>\n",
              "      <th>1997-07-04</th>\n",
              "      <td>0.000000</td>\n",
              "      <td>0.429888</td>\n",
              "      <td>NaN</td>\n",
              "      <td>NaN</td>\n",
              "      <td>NaN</td>\n",
              "      <td>NaN</td>\n",
              "    </tr>\n",
              "    <tr>\n",
              "      <th>1997-07-07</th>\n",
              "      <td>0.309519</td>\n",
              "      <td>0.000000</td>\n",
              "      <td>NaN</td>\n",
              "      <td>NaN</td>\n",
              "      <td>NaN</td>\n",
              "      <td>NaN</td>\n",
              "    </tr>\n",
              "    <tr>\n",
              "      <th>...</th>\n",
              "      <td>...</td>\n",
              "      <td>...</td>\n",
              "      <td>...</td>\n",
              "      <td>...</td>\n",
              "      <td>...</td>\n",
              "      <td>...</td>\n",
              "    </tr>\n",
              "    <tr>\n",
              "      <th>2021-07-12</th>\n",
              "      <td>11.250000</td>\n",
              "      <td>0.000000</td>\n",
              "      <td>9.145864</td>\n",
              "      <td>12.038521</td>\n",
              "      <td>0.759717</td>\n",
              "      <td>43.172667</td>\n",
              "    </tr>\n",
              "    <tr>\n",
              "      <th>2021-07-13</th>\n",
              "      <td>15.100098</td>\n",
              "      <td>0.000000</td>\n",
              "      <td>9.571166</td>\n",
              "      <td>11.178626</td>\n",
              "      <td>0.856202</td>\n",
              "      <td>46.126564</td>\n",
              "    </tr>\n",
              "    <tr>\n",
              "      <th>2021-07-14</th>\n",
              "      <td>0.000000</td>\n",
              "      <td>13.550049</td>\n",
              "      <td>8.887511</td>\n",
              "      <td>11.348014</td>\n",
              "      <td>0.783178</td>\n",
              "      <td>43.920340</td>\n",
              "    </tr>\n",
              "    <tr>\n",
              "      <th>2021-07-15</th>\n",
              "      <td>0.000000</td>\n",
              "      <td>2.750000</td>\n",
              "      <td>8.252689</td>\n",
              "      <td>10.733870</td>\n",
              "      <td>0.768846</td>\n",
              "      <td>43.465955</td>\n",
              "    </tr>\n",
              "    <tr>\n",
              "      <th>2021-07-16</th>\n",
              "      <td>28.550049</td>\n",
              "      <td>0.000000</td>\n",
              "      <td>9.702501</td>\n",
              "      <td>9.967165</td>\n",
              "      <td>0.973446</td>\n",
              "      <td>49.327228</td>\n",
              "    </tr>\n",
              "  </tbody>\n",
              "</table>\n",
              "<p>5912 rows × 6 columns</p>\n",
              "</div>"
            ],
            "text/plain": [
              "                 gain       loss  ...  Relative Strength        RSI\n",
              "Date                              ...                              \n",
              "1997-07-01        NaN        NaN  ...                NaN        NaN\n",
              "1997-07-02   0.000000   0.068783  ...                NaN        NaN\n",
              "1997-07-03   0.000000   0.343910  ...                NaN        NaN\n",
              "1997-07-04   0.000000   0.429888  ...                NaN        NaN\n",
              "1997-07-07   0.309519   0.000000  ...                NaN        NaN\n",
              "...               ...        ...  ...                ...        ...\n",
              "2021-07-12  11.250000   0.000000  ...           0.759717  43.172667\n",
              "2021-07-13  15.100098   0.000000  ...           0.856202  46.126564\n",
              "2021-07-14   0.000000  13.550049  ...           0.783178  43.920340\n",
              "2021-07-15   0.000000   2.750000  ...           0.768846  43.465955\n",
              "2021-07-16  28.550049   0.000000  ...           0.973446  49.327228\n",
              "\n",
              "[5912 rows x 6 columns]"
            ]
          },
          "metadata": {
            "tags": []
          },
          "execution_count": 15
        }
      ]
    },
    {
      "cell_type": "code",
      "metadata": {
        "id": "O9Z-Of_BANLc",
        "colab": {
          "base_uri": "https://localhost:8080/",
          "height": 447
        },
        "outputId": "6f0ed3ed-e522-416f-b4d4-4ef382ee9edc"
      },
      "source": [
        "# quickly inserting the RSI values in the main data frame\n",
        "data.insert(loc=2,column='RSI', value = avg_df['RSI'])\n",
        "data"
      ],
      "execution_count": 16,
      "outputs": [
        {
          "output_type": "execute_result",
          "data": {
            "text/html": [
              "<div>\n",
              "<style scoped>\n",
              "    .dataframe tbody tr th:only-of-type {\n",
              "        vertical-align: middle;\n",
              "    }\n",
              "\n",
              "    .dataframe tbody tr th {\n",
              "        vertical-align: top;\n",
              "    }\n",
              "\n",
              "    .dataframe thead th {\n",
              "        text-align: right;\n",
              "    }\n",
              "</style>\n",
              "<table border=\"1\" class=\"dataframe\">\n",
              "  <thead>\n",
              "    <tr style=\"text-align: right;\">\n",
              "      <th></th>\n",
              "      <th>Close_stock</th>\n",
              "      <th>200_MA_stock</th>\n",
              "      <th>RSI</th>\n",
              "      <th>Close_sensex</th>\n",
              "    </tr>\n",
              "    <tr>\n",
              "      <th>Date</th>\n",
              "      <th></th>\n",
              "      <th></th>\n",
              "      <th></th>\n",
              "      <th></th>\n",
              "    </tr>\n",
              "  </thead>\n",
              "  <tbody>\n",
              "    <tr>\n",
              "      <th>1997-07-01</th>\n",
              "      <td>25.414921</td>\n",
              "      <td>NaN</td>\n",
              "      <td>NaN</td>\n",
              "      <td>4300.859863</td>\n",
              "    </tr>\n",
              "    <tr>\n",
              "      <th>1997-07-02</th>\n",
              "      <td>25.346138</td>\n",
              "      <td>NaN</td>\n",
              "      <td>NaN</td>\n",
              "      <td>4333.899902</td>\n",
              "    </tr>\n",
              "    <tr>\n",
              "      <th>1997-07-03</th>\n",
              "      <td>25.002228</td>\n",
              "      <td>NaN</td>\n",
              "      <td>NaN</td>\n",
              "      <td>4323.459961</td>\n",
              "    </tr>\n",
              "    <tr>\n",
              "      <th>1997-07-04</th>\n",
              "      <td>24.572340</td>\n",
              "      <td>NaN</td>\n",
              "      <td>NaN</td>\n",
              "      <td>4323.819824</td>\n",
              "    </tr>\n",
              "    <tr>\n",
              "      <th>1997-07-07</th>\n",
              "      <td>24.881859</td>\n",
              "      <td>NaN</td>\n",
              "      <td>NaN</td>\n",
              "      <td>4291.450195</td>\n",
              "    </tr>\n",
              "    <tr>\n",
              "      <th>...</th>\n",
              "      <td>...</td>\n",
              "      <td>...</td>\n",
              "      <td>...</td>\n",
              "      <td>...</td>\n",
              "    </tr>\n",
              "    <tr>\n",
              "      <th>2021-07-12</th>\n",
              "      <td>2084.449951</td>\n",
              "      <td>2043.309777</td>\n",
              "      <td>43.172667</td>\n",
              "      <td>52372.691406</td>\n",
              "    </tr>\n",
              "    <tr>\n",
              "      <th>2021-07-13</th>\n",
              "      <td>2099.550049</td>\n",
              "      <td>2042.347646</td>\n",
              "      <td>46.126564</td>\n",
              "      <td>52769.730469</td>\n",
              "    </tr>\n",
              "    <tr>\n",
              "      <th>2021-07-14</th>\n",
              "      <td>2086.000000</td>\n",
              "      <td>2041.287115</td>\n",
              "      <td>43.920340</td>\n",
              "      <td>52904.050781</td>\n",
              "    </tr>\n",
              "    <tr>\n",
              "      <th>2021-07-15</th>\n",
              "      <td>2083.250000</td>\n",
              "      <td>2040.463778</td>\n",
              "      <td>43.465955</td>\n",
              "      <td>53158.851562</td>\n",
              "    </tr>\n",
              "    <tr>\n",
              "      <th>2021-07-16</th>\n",
              "      <td>2111.800049</td>\n",
              "      <td>2040.002485</td>\n",
              "      <td>49.327228</td>\n",
              "      <td>53140.058594</td>\n",
              "    </tr>\n",
              "  </tbody>\n",
              "</table>\n",
              "<p>5912 rows × 4 columns</p>\n",
              "</div>"
            ],
            "text/plain": [
              "            Close_stock  200_MA_stock        RSI  Close_sensex\n",
              "Date                                                          \n",
              "1997-07-01    25.414921           NaN        NaN   4300.859863\n",
              "1997-07-02    25.346138           NaN        NaN   4333.899902\n",
              "1997-07-03    25.002228           NaN        NaN   4323.459961\n",
              "1997-07-04    24.572340           NaN        NaN   4323.819824\n",
              "1997-07-07    24.881859           NaN        NaN   4291.450195\n",
              "...                 ...           ...        ...           ...\n",
              "2021-07-12  2084.449951   2043.309777  43.172667  52372.691406\n",
              "2021-07-13  2099.550049   2042.347646  46.126564  52769.730469\n",
              "2021-07-14  2086.000000   2041.287115  43.920340  52904.050781\n",
              "2021-07-15  2083.250000   2040.463778  43.465955  53158.851562\n",
              "2021-07-16  2111.800049   2040.002485  49.327228  53140.058594\n",
              "\n",
              "[5912 rows x 4 columns]"
            ]
          },
          "metadata": {
            "tags": []
          },
          "execution_count": 16
        }
      ]
    },
    {
      "cell_type": "code",
      "metadata": {
        "id": "rtUYOtz5AQSX",
        "colab": {
          "base_uri": "https://localhost:8080/",
          "height": 447
        },
        "outputId": "cb0d8f91-a30d-4f6a-8d98-046f54c24ed8"
      },
      "source": [
        "#removing Null values from the data\n",
        "data  = data.dropna()\n",
        "data"
      ],
      "execution_count": 17,
      "outputs": [
        {
          "output_type": "execute_result",
          "data": {
            "text/html": [
              "<div>\n",
              "<style scoped>\n",
              "    .dataframe tbody tr th:only-of-type {\n",
              "        vertical-align: middle;\n",
              "    }\n",
              "\n",
              "    .dataframe tbody tr th {\n",
              "        vertical-align: top;\n",
              "    }\n",
              "\n",
              "    .dataframe thead th {\n",
              "        text-align: right;\n",
              "    }\n",
              "</style>\n",
              "<table border=\"1\" class=\"dataframe\">\n",
              "  <thead>\n",
              "    <tr style=\"text-align: right;\">\n",
              "      <th></th>\n",
              "      <th>Close_stock</th>\n",
              "      <th>200_MA_stock</th>\n",
              "      <th>RSI</th>\n",
              "      <th>Close_sensex</th>\n",
              "    </tr>\n",
              "    <tr>\n",
              "      <th>Date</th>\n",
              "      <th></th>\n",
              "      <th></th>\n",
              "      <th></th>\n",
              "      <th></th>\n",
              "    </tr>\n",
              "  </thead>\n",
              "  <tbody>\n",
              "    <tr>\n",
              "      <th>1998-04-29</th>\n",
              "      <td>26.095861</td>\n",
              "      <td>23.834225</td>\n",
              "      <td>52.388887</td>\n",
              "      <td>3970.280029</td>\n",
              "    </tr>\n",
              "    <tr>\n",
              "      <th>1998-04-30</th>\n",
              "      <td>26.315964</td>\n",
              "      <td>23.838730</td>\n",
              "      <td>53.785882</td>\n",
              "      <td>4006.810059</td>\n",
              "    </tr>\n",
              "    <tr>\n",
              "      <th>1998-05-04</th>\n",
              "      <td>26.824949</td>\n",
              "      <td>23.846124</td>\n",
              "      <td>56.932891</td>\n",
              "      <td>4135.810059</td>\n",
              "    </tr>\n",
              "    <tr>\n",
              "      <th>1998-05-05</th>\n",
              "      <td>26.714897</td>\n",
              "      <td>23.854688</td>\n",
              "      <td>56.044239</td>\n",
              "      <td>4147.290039</td>\n",
              "    </tr>\n",
              "    <tr>\n",
              "      <th>1998-05-06</th>\n",
              "      <td>26.839439</td>\n",
              "      <td>23.866023</td>\n",
              "      <td>56.864786</td>\n",
              "      <td>4069.790039</td>\n",
              "    </tr>\n",
              "    <tr>\n",
              "      <th>...</th>\n",
              "      <td>...</td>\n",
              "      <td>...</td>\n",
              "      <td>...</td>\n",
              "      <td>...</td>\n",
              "    </tr>\n",
              "    <tr>\n",
              "      <th>2021-07-12</th>\n",
              "      <td>2084.449951</td>\n",
              "      <td>2043.309777</td>\n",
              "      <td>43.172667</td>\n",
              "      <td>52372.691406</td>\n",
              "    </tr>\n",
              "    <tr>\n",
              "      <th>2021-07-13</th>\n",
              "      <td>2099.550049</td>\n",
              "      <td>2042.347646</td>\n",
              "      <td>46.126564</td>\n",
              "      <td>52769.730469</td>\n",
              "    </tr>\n",
              "    <tr>\n",
              "      <th>2021-07-14</th>\n",
              "      <td>2086.000000</td>\n",
              "      <td>2041.287115</td>\n",
              "      <td>43.920340</td>\n",
              "      <td>52904.050781</td>\n",
              "    </tr>\n",
              "    <tr>\n",
              "      <th>2021-07-15</th>\n",
              "      <td>2083.250000</td>\n",
              "      <td>2040.463778</td>\n",
              "      <td>43.465955</td>\n",
              "      <td>53158.851562</td>\n",
              "    </tr>\n",
              "    <tr>\n",
              "      <th>2021-07-16</th>\n",
              "      <td>2111.800049</td>\n",
              "      <td>2040.002485</td>\n",
              "      <td>49.327228</td>\n",
              "      <td>53140.058594</td>\n",
              "    </tr>\n",
              "  </tbody>\n",
              "</table>\n",
              "<p>5713 rows × 4 columns</p>\n",
              "</div>"
            ],
            "text/plain": [
              "            Close_stock  200_MA_stock        RSI  Close_sensex\n",
              "Date                                                          \n",
              "1998-04-29    26.095861     23.834225  52.388887   3970.280029\n",
              "1998-04-30    26.315964     23.838730  53.785882   4006.810059\n",
              "1998-05-04    26.824949     23.846124  56.932891   4135.810059\n",
              "1998-05-05    26.714897     23.854688  56.044239   4147.290039\n",
              "1998-05-06    26.839439     23.866023  56.864786   4069.790039\n",
              "...                 ...           ...        ...           ...\n",
              "2021-07-12  2084.449951   2043.309777  43.172667  52372.691406\n",
              "2021-07-13  2099.550049   2042.347646  46.126564  52769.730469\n",
              "2021-07-14  2086.000000   2041.287115  43.920340  52904.050781\n",
              "2021-07-15  2083.250000   2040.463778  43.465955  53158.851562\n",
              "2021-07-16  2111.800049   2040.002485  49.327228  53140.058594\n",
              "\n",
              "[5713 rows x 4 columns]"
            ]
          },
          "metadata": {
            "tags": []
          },
          "execution_count": 17
        }
      ]
    },
    {
      "cell_type": "code",
      "metadata": {
        "id": "RCBEv_ZQATVq"
      },
      "source": [
        "#rearranging the data for the model\n",
        "new_data = data[['Close_sensex','RSI','200_MA_stock','Close_stock']]"
      ],
      "execution_count": 18,
      "outputs": []
    },
    {
      "cell_type": "code",
      "metadata": {
        "colab": {
          "base_uri": "https://localhost:8080/",
          "height": 447
        },
        "id": "Fv-SRUL0LtFG",
        "outputId": "6de1dcb7-b337-4043-9353-2e0c3a158734"
      },
      "source": [
        "new_data"
      ],
      "execution_count": 19,
      "outputs": [
        {
          "output_type": "execute_result",
          "data": {
            "text/html": [
              "<div>\n",
              "<style scoped>\n",
              "    .dataframe tbody tr th:only-of-type {\n",
              "        vertical-align: middle;\n",
              "    }\n",
              "\n",
              "    .dataframe tbody tr th {\n",
              "        vertical-align: top;\n",
              "    }\n",
              "\n",
              "    .dataframe thead th {\n",
              "        text-align: right;\n",
              "    }\n",
              "</style>\n",
              "<table border=\"1\" class=\"dataframe\">\n",
              "  <thead>\n",
              "    <tr style=\"text-align: right;\">\n",
              "      <th></th>\n",
              "      <th>Close_sensex</th>\n",
              "      <th>RSI</th>\n",
              "      <th>200_MA_stock</th>\n",
              "      <th>Close_stock</th>\n",
              "    </tr>\n",
              "    <tr>\n",
              "      <th>Date</th>\n",
              "      <th></th>\n",
              "      <th></th>\n",
              "      <th></th>\n",
              "      <th></th>\n",
              "    </tr>\n",
              "  </thead>\n",
              "  <tbody>\n",
              "    <tr>\n",
              "      <th>1998-04-29</th>\n",
              "      <td>3970.280029</td>\n",
              "      <td>52.388887</td>\n",
              "      <td>23.834225</td>\n",
              "      <td>26.095861</td>\n",
              "    </tr>\n",
              "    <tr>\n",
              "      <th>1998-04-30</th>\n",
              "      <td>4006.810059</td>\n",
              "      <td>53.785882</td>\n",
              "      <td>23.838730</td>\n",
              "      <td>26.315964</td>\n",
              "    </tr>\n",
              "    <tr>\n",
              "      <th>1998-05-04</th>\n",
              "      <td>4135.810059</td>\n",
              "      <td>56.932891</td>\n",
              "      <td>23.846124</td>\n",
              "      <td>26.824949</td>\n",
              "    </tr>\n",
              "    <tr>\n",
              "      <th>1998-05-05</th>\n",
              "      <td>4147.290039</td>\n",
              "      <td>56.044239</td>\n",
              "      <td>23.854688</td>\n",
              "      <td>26.714897</td>\n",
              "    </tr>\n",
              "    <tr>\n",
              "      <th>1998-05-06</th>\n",
              "      <td>4069.790039</td>\n",
              "      <td>56.864786</td>\n",
              "      <td>23.866023</td>\n",
              "      <td>26.839439</td>\n",
              "    </tr>\n",
              "    <tr>\n",
              "      <th>...</th>\n",
              "      <td>...</td>\n",
              "      <td>...</td>\n",
              "      <td>...</td>\n",
              "      <td>...</td>\n",
              "    </tr>\n",
              "    <tr>\n",
              "      <th>2021-07-12</th>\n",
              "      <td>52372.691406</td>\n",
              "      <td>43.172667</td>\n",
              "      <td>2043.309777</td>\n",
              "      <td>2084.449951</td>\n",
              "    </tr>\n",
              "    <tr>\n",
              "      <th>2021-07-13</th>\n",
              "      <td>52769.730469</td>\n",
              "      <td>46.126564</td>\n",
              "      <td>2042.347646</td>\n",
              "      <td>2099.550049</td>\n",
              "    </tr>\n",
              "    <tr>\n",
              "      <th>2021-07-14</th>\n",
              "      <td>52904.050781</td>\n",
              "      <td>43.920340</td>\n",
              "      <td>2041.287115</td>\n",
              "      <td>2086.000000</td>\n",
              "    </tr>\n",
              "    <tr>\n",
              "      <th>2021-07-15</th>\n",
              "      <td>53158.851562</td>\n",
              "      <td>43.465955</td>\n",
              "      <td>2040.463778</td>\n",
              "      <td>2083.250000</td>\n",
              "    </tr>\n",
              "    <tr>\n",
              "      <th>2021-07-16</th>\n",
              "      <td>53140.058594</td>\n",
              "      <td>49.327228</td>\n",
              "      <td>2040.002485</td>\n",
              "      <td>2111.800049</td>\n",
              "    </tr>\n",
              "  </tbody>\n",
              "</table>\n",
              "<p>5713 rows × 4 columns</p>\n",
              "</div>"
            ],
            "text/plain": [
              "            Close_sensex        RSI  200_MA_stock  Close_stock\n",
              "Date                                                          \n",
              "1998-04-29   3970.280029  52.388887     23.834225    26.095861\n",
              "1998-04-30   4006.810059  53.785882     23.838730    26.315964\n",
              "1998-05-04   4135.810059  56.932891     23.846124    26.824949\n",
              "1998-05-05   4147.290039  56.044239     23.854688    26.714897\n",
              "1998-05-06   4069.790039  56.864786     23.866023    26.839439\n",
              "...                  ...        ...           ...          ...\n",
              "2021-07-12  52372.691406  43.172667   2043.309777  2084.449951\n",
              "2021-07-13  52769.730469  46.126564   2042.347646  2099.550049\n",
              "2021-07-14  52904.050781  43.920340   2041.287115  2086.000000\n",
              "2021-07-15  53158.851562  43.465955   2040.463778  2083.250000\n",
              "2021-07-16  53140.058594  49.327228   2040.002485  2111.800049\n",
              "\n",
              "[5713 rows x 4 columns]"
            ]
          },
          "metadata": {
            "tags": []
          },
          "execution_count": 19
        }
      ]
    },
    {
      "cell_type": "markdown",
      "metadata": {
        "id": "y4btdWmVmYBD"
      },
      "source": [
        "Training set"
      ]
    },
    {
      "cell_type": "code",
      "metadata": {
        "colab": {
          "base_uri": "https://localhost:8080/"
        },
        "id": "_d3QKBedmFAz",
        "outputId": "e5532ff7-8319-4a15-b8f5-cd7c0b71c913"
      },
      "source": [
        "#getting the all the data except last 5 values\n",
        "training_set = new_data.iloc[:-5,:].values\n",
        "training_set.shape"
      ],
      "execution_count": 20,
      "outputs": [
        {
          "output_type": "execute_result",
          "data": {
            "text/plain": [
              "(5708, 4)"
            ]
          },
          "metadata": {
            "tags": []
          },
          "execution_count": 20
        }
      ]
    },
    {
      "cell_type": "code",
      "metadata": {
        "colab": {
          "base_uri": "https://localhost:8080/"
        },
        "id": "wzwk_c_eQFGV",
        "outputId": "db8ce091-0f76-485e-ea56-ff6a53936cb4"
      },
      "source": [
        "training_set"
      ],
      "execution_count": 21,
      "outputs": [
        {
          "output_type": "execute_result",
          "data": {
            "text/plain": [
              "array([[3.97028003e+03, 5.23888868e+01, 2.38342252e+01, 2.60958614e+01],\n",
              "       [4.00681006e+03, 5.37858825e+01, 2.38387304e+01, 2.63159637e+01],\n",
              "       [4.13581006e+03, 5.69328914e+01, 2.38461244e+01, 2.68249493e+01],\n",
              "       ...,\n",
              "       [5.30547617e+04, 4.63157714e+01, 2.04666618e+03, 2.11014990e+03],\n",
              "       [5.25689414e+04, 4.37360391e+01, 2.04565585e+03, 2.09289990e+03],\n",
              "       [5.23861914e+04, 4.09320884e+01, 2.04446951e+03, 2.07319995e+03]])"
            ]
          },
          "metadata": {
            "tags": []
          },
          "execution_count": 21
        }
      ]
    },
    {
      "cell_type": "markdown",
      "metadata": {
        "id": "tq_xGBq2wVG5"
      },
      "source": [
        "Test Set"
      ]
    },
    {
      "cell_type": "code",
      "metadata": {
        "colab": {
          "base_uri": "https://localhost:8080/"
        },
        "id": "260huM9QmV_M",
        "outputId": "5744fe4d-d9cf-4c4a-8874-92d809efa49b"
      },
      "source": [
        "#getting only last 5 values of the dataset\n",
        "test_set = new_data.iloc[len(new_data)-5:,:].values\n",
        "test_set.shape"
      ],
      "execution_count": 22,
      "outputs": [
        {
          "output_type": "execute_result",
          "data": {
            "text/plain": [
              "(5, 4)"
            ]
          },
          "metadata": {
            "tags": []
          },
          "execution_count": 22
        }
      ]
    },
    {
      "cell_type": "code",
      "metadata": {
        "colab": {
          "base_uri": "https://localhost:8080/"
        },
        "id": "1Wk4Vvyi8_g0",
        "outputId": "8c230b8c-7a07-4e5d-af72-c43344d19e85"
      },
      "source": [
        "test_set"
      ],
      "execution_count": 23,
      "outputs": [
        {
          "output_type": "execute_result",
          "data": {
            "text/plain": [
              "array([[5.23726914e+04, 4.31726674e+01, 2.04330978e+03, 2.08444995e+03],\n",
              "       [5.27697305e+04, 4.61265636e+01, 2.04234765e+03, 2.09955005e+03],\n",
              "       [5.29040508e+04, 4.39203404e+01, 2.04128712e+03, 2.08600000e+03],\n",
              "       [5.31588516e+04, 4.34659553e+01, 2.04046378e+03, 2.08325000e+03],\n",
              "       [5.31400586e+04, 4.93272277e+01, 2.04000249e+03, 2.11180005e+03]])"
            ]
          },
          "metadata": {
            "tags": []
          },
          "execution_count": 23
        }
      ]
    },
    {
      "cell_type": "markdown",
      "metadata": {
        "id": "gkn7b4B0m4oo"
      },
      "source": [
        "As per above to arrange the data as per 28 days time interval, I need to specify it below and also need to give total number of columns (except index) of the dataset"
      ]
    },
    {
      "cell_type": "code",
      "metadata": {
        "id": "rwB-mQNYmrdK"
      },
      "source": [
        "day = 28\n",
        "column = 4\n",
        "week = day"
      ],
      "execution_count": 24,
      "outputs": []
    },
    {
      "cell_type": "markdown",
      "metadata": {
        "id": "DawxwS3LnUrn"
      },
      "source": [
        "Feature Scaling"
      ]
    },
    {
      "cell_type": "code",
      "metadata": {
        "id": "IOMNH41ynSNg"
      },
      "source": [
        "#using min max scaler\n",
        "from sklearn.preprocessing import MinMaxScaler\n",
        "sc = MinMaxScaler(feature_range = (0,1))\n",
        "# scaling training set\n",
        "training_set_scaled = sc.fit_transform(training_set)\n",
        "\n",
        "sc_output = MinMaxScaler(feature_range = (0,1))\n",
        "#scaling training Stock price only\n",
        "output = sc_output.fit_transform(training_set[:,column-1].reshape(-1,1))"
      ],
      "execution_count": 27,
      "outputs": []
    },
    {
      "cell_type": "markdown",
      "metadata": {
        "id": "QpTtpY9foWkT"
      },
      "source": [
        "Arrenging X_train, Y_train"
      ]
    },
    {
      "cell_type": "code",
      "metadata": {
        "id": "PDv4A3CHoSLJ"
      },
      "source": [
        "#arrenging the data as per the above logic [28 days data to predict the next day data]\n",
        "tr = len(training_set)\n",
        "\n",
        "X_train = []\n",
        "y_train = []\n",
        "for i in range(week, tr):\n",
        "  X_train.append(training_set_scaled[i-week:i,0:column])\n",
        "  y_train.append(training_set_scaled[i,column-1])\n",
        "X_train,y_train = np.array(X_train), np.array(y_train)"
      ],
      "execution_count": 29,
      "outputs": []
    },
    {
      "cell_type": "code",
      "metadata": {
        "colab": {
          "base_uri": "https://localhost:8080/"
        },
        "id": "a6y2wBjF98h2",
        "outputId": "443a6767-4272-423c-ae2f-2b2618958dcd"
      },
      "source": [
        "X_train,y_train"
      ],
      "execution_count": 30,
      "outputs": [
        {
          "output_type": "execute_result",
          "data": {
            "text/plain": [
              "(array([[[0.02715627, 0.50712331, 0.00305219, 0.00509949],\n",
              "         [0.02788029, 0.52435604, 0.00305441, 0.0051951 ],\n",
              "         [0.03043704, 0.56317617, 0.00305805, 0.0054162 ],\n",
              "         ...,\n",
              "         [0.01618503, 0.25935361, 0.0030702 , 0.00329266],\n",
              "         [0.01720258, 0.2728816 , 0.00306115, 0.00334162],\n",
              "         [0.01409761, 0.2143051 , 0.00305073, 0.00287649]],\n",
              " \n",
              "        [[0.02788029, 0.52435604, 0.00305441, 0.0051951 ],\n",
              "         [0.03043704, 0.56317617, 0.00305805, 0.0054162 ],\n",
              "         [0.03066457, 0.55221414, 0.00306226, 0.0053684 ],\n",
              "         ...,\n",
              "         [0.01720258, 0.2728816 , 0.00306115, 0.00334162],\n",
              "         [0.01409761, 0.2143051 , 0.00305073, 0.00287649],\n",
              "         [0.01458022, 0.25811213, 0.00304071, 0.00303562]],\n",
              " \n",
              "        [[0.03043704, 0.56317617, 0.00305805, 0.0054162 ],\n",
              "         [0.03066457, 0.55221414, 0.00306226, 0.0053684 ],\n",
              "         [0.02912854, 0.56233605, 0.00306784, 0.0054225 ],\n",
              "         ...,\n",
              "         [0.01409761, 0.2143051 , 0.00305073, 0.00287649],\n",
              "         [0.01458022, 0.25811213, 0.00304071, 0.00303562],\n",
              "         [0.01481112, 0.25486312, 0.0030303 , 0.00301114]],\n",
              " \n",
              "        ...,\n",
              " \n",
              "        [[0.96765644, 0.69857367, 0.99539643, 0.90086359],\n",
              "         [0.97785495, 0.76521676, 0.99547937, 0.92924703],\n",
              "         [0.97780417, 0.77216926, 0.99556207, 0.93262453],\n",
              "         ...,\n",
              "         [0.98870094, 0.47047462, 1.        , 0.91868193],\n",
              "         [0.99653626, 0.51069253, 0.99998912, 0.92767393],\n",
              "         [0.99616325, 0.46238394, 0.99954284, 0.91727014]],\n",
              " \n",
              "        [[0.97785495, 0.76521676, 0.99547937, 0.92924703],\n",
              "         [0.97780417, 0.77216926, 0.99556207, 0.93262453],\n",
              "         [0.97611159, 0.80049427, 0.99569606, 0.94693535],\n",
              "         ...,\n",
              "         [0.99653626, 0.51069253, 0.99998912, 0.92767393],\n",
              "         [0.99616325, 0.46238394, 0.99954284, 0.91727014],\n",
              "         [1.        , 0.43220801, 0.99904735, 0.91040665]],\n",
              " \n",
              "        [[0.97780417, 0.77216926, 0.99556207, 0.93262453],\n",
              "         [0.97611159, 0.80049427, 0.99569606, 0.94693535],\n",
              "         [0.98370156, 0.80703773, 0.99591606, 0.95037765],\n",
              "         ...,\n",
              "         [0.99616325, 0.46238394, 0.99954284, 0.91727014],\n",
              "         [1.        , 0.43220801, 0.99904735, 0.91040665],\n",
              "         [0.99037115, 0.40038556, 0.99854989, 0.9029133 ]]]),\n",
              " array([0.00303562, 0.00301114, 0.00285201, ..., 0.91040665, 0.9029133 ,\n",
              "        0.89435569]))"
            ]
          },
          "metadata": {
            "tags": []
          },
          "execution_count": 30
        }
      ]
    },
    {
      "cell_type": "markdown",
      "metadata": {
        "id": "6AdznhhKpeHo"
      },
      "source": [
        "Arrenging X test, y test"
      ]
    },
    {
      "cell_type": "code",
      "metadata": {
        "id": "Vtqmd2OKpbGR"
      },
      "source": [
        "inputs = new_data.iloc[len(new_data)-5-week:, :]\n",
        "inputs = sc.transform(inputs)\n",
        "X_test = []\n",
        "y_test = []\n",
        "for i in range(week, len(inputs)):\n",
        "  X_test.append(inputs[i-week:i,0:column])\n",
        "  y_test.append(inputs[i,column-1])\n",
        "X_test,y_test = np.array(X_test), np.array(y_test)\n",
        "#X_test = np.array(X_test, dtype=object)\n",
        "#X_test = np.asarray(X_test).astype('float32')"
      ],
      "execution_count": 31,
      "outputs": []
    },
    {
      "cell_type": "code",
      "metadata": {
        "id": "hA1b61y7qeap"
      },
      "source": [
        "#creating two dimentional y_test vector\n",
        "y_test = y_test.reshape(-1,1)"
      ],
      "execution_count": null,
      "outputs": []
    },
    {
      "cell_type": "code",
      "metadata": {
        "id": "al8tlhx5q21T",
        "colab": {
          "base_uri": "https://localhost:8080/"
        },
        "outputId": "1b5ac357-747c-4eed-9726-e4c430b33aaf"
      },
      "source": [
        "X_test[0]"
      ],
      "execution_count": 44,
      "outputs": [
        {
          "output_type": "execute_result",
          "data": {
            "text/plain": [
              "array([[0.97611159, 0.80049427, 0.99569606, 0.94693535],\n",
              "       [0.98370156, 0.80703773, 0.99591606, 0.95037765],\n",
              "       [0.98107784, 0.75665794, 0.99605483, 0.94230217],\n",
              "       [0.98560588, 0.79090791, 0.99629949, 0.95819341],\n",
              "       [0.9845566 , 0.75730055, 0.99652624, 0.95273757],\n",
              "       [0.97793818, 0.6588424 , 0.99667508, 0.9354391 ],\n",
              "       [0.98505008, 0.66885943, 0.996899  , 0.9388814 ],\n",
              "       [0.98850453, 0.7132899 , 0.99714776, 0.95508444],\n",
              "       [0.99002608, 0.74710599, 0.99744058, 0.96911549],\n",
              "       [0.99441655, 0.75156853, 0.99783467, 0.97102679],\n",
              "       [0.989044  , 0.65638046, 0.9981709 , 0.95449796],\n",
              "       [0.98550315, 0.66148785, 0.99848164, 0.95619217],\n",
              "       [0.98592176, 0.67433625, 0.99885025, 0.96031894],\n",
              "       [0.99048054, 0.69135441, 0.99911516, 0.96577065],\n",
              "       [0.99076298, 0.65916425, 0.99941323, 0.9607316 ],\n",
              "       [0.98516125, 0.60332631, 0.99965027, 0.95165274],\n",
              "       [0.99294888, 0.48661486, 0.99985083, 0.92917269],\n",
              "       [0.99742893, 0.40009345, 0.99990855, 0.90786549],\n",
              "       [0.99367408, 0.37171357, 0.99982048, 0.899916  ],\n",
              "       [0.989989  , 0.37438967, 0.99977573, 0.90043725],\n",
              "       [0.98866208, 0.42695932, 0.9998746 , 0.91073244],\n",
              "       [0.98540947, 0.40329624, 0.99992883, 0.90502016],\n",
              "       [0.98870094, 0.47047462, 1.        , 0.91868193],\n",
              "       [0.99653626, 0.51069253, 0.99998912, 0.92767393],\n",
              "       [0.99616325, 0.46238394, 0.99954284, 0.91727014],\n",
              "       [1.        , 0.43220801, 0.99904735, 0.91040665],\n",
              "       [0.99037115, 0.40038556, 0.99854989, 0.9029133 ],\n",
              "       [0.98674908, 0.36579725, 0.99796577, 0.89435569]])"
            ]
          },
          "metadata": {
            "tags": []
          },
          "execution_count": 44
        }
      ]
    },
    {
      "cell_type": "markdown",
      "metadata": {
        "id": "-mczWFV2q53U"
      },
      "source": [
        "Building and training the RNN"
      ]
    },
    {
      "cell_type": "markdown",
      "metadata": {
        "id": "RskoMkmprBOa"
      },
      "source": [
        "Importing the Keras library and packages"
      ]
    },
    {
      "cell_type": "code",
      "metadata": {
        "id": "LlPnnWDkrAf4"
      },
      "source": [
        "from tensorflow.keras.models import Sequential\n",
        "from tensorflow.keras.layers import Dense\n",
        "from tensorflow.keras.layers import LSTM\n",
        "from tensorflow.keras.layers import Dropout"
      ],
      "execution_count": 34,
      "outputs": []
    },
    {
      "cell_type": "markdown",
      "metadata": {
        "id": "IYpJb3svrouS"
      },
      "source": [
        "Initializing the RNN"
      ]
    },
    {
      "cell_type": "code",
      "metadata": {
        "id": "QKLrUt3Qrizq"
      },
      "source": [
        "regressor= Sequential()"
      ],
      "execution_count": 35,
      "outputs": []
    },
    {
      "cell_type": "markdown",
      "metadata": {
        "id": "scGLx703runK"
      },
      "source": [
        "Adding the first LSTM and some dropout regularization"
      ]
    },
    {
      "cell_type": "code",
      "metadata": {
        "id": "xB526bulrtX0"
      },
      "source": [
        "regressor.add(LSTM(units= 100, return_sequences= True, input_shape = (week,column)))\n",
        "regressor.add(Dropout(0.2))"
      ],
      "execution_count": 36,
      "outputs": []
    },
    {
      "cell_type": "markdown",
      "metadata": {
        "id": "n78PFiV_sQvk"
      },
      "source": [
        "Adding the second LSTM and some dropout regularization"
      ]
    },
    {
      "cell_type": "code",
      "metadata": {
        "id": "jAP34ZlQr6SR"
      },
      "source": [
        "regressor.add(LSTM(units= 100, return_sequences= True, input_shape = (week,column)))\n",
        "regressor.add(Dropout(0.2))"
      ],
      "execution_count": 37,
      "outputs": []
    },
    {
      "cell_type": "markdown",
      "metadata": {
        "id": "4txxDhB4sZ48"
      },
      "source": [
        "Adding the second LSTM and some dropout regularization"
      ]
    },
    {
      "cell_type": "code",
      "metadata": {
        "id": "r1ter2qCsPwT"
      },
      "source": [
        "regressor.add(LSTM(units= 100, return_sequences= True, input_shape = (week,column)))\n",
        "regressor.add(Dropout(0.2))"
      ],
      "execution_count": 38,
      "outputs": []
    },
    {
      "cell_type": "markdown",
      "metadata": {
        "id": "HBdKIe2CsddC"
      },
      "source": [
        "Adding the output layer"
      ]
    },
    {
      "cell_type": "code",
      "metadata": {
        "id": "a6tVUx2vsfkZ"
      },
      "source": [
        "regressor.add(Dense(units= 1))"
      ],
      "execution_count": 39,
      "outputs": []
    },
    {
      "cell_type": "markdown",
      "metadata": {
        "id": "L_8d0H7tszL0"
      },
      "source": [
        "Compiling the RNN"
      ]
    },
    {
      "cell_type": "code",
      "metadata": {
        "id": "gSQYLKVLsm9U"
      },
      "source": [
        "regressor.compile(optimizer='adam',loss = 'mean_squared_error')"
      ],
      "execution_count": 40,
      "outputs": []
    },
    {
      "cell_type": "markdown",
      "metadata": {
        "id": "qzZV5LRjs41t"
      },
      "source": [
        "Defining the early stoppingto prevent overfitting"
      ]
    },
    {
      "cell_type": "code",
      "metadata": {
        "id": "JrQ-jSdWs2Rr"
      },
      "source": [
        "from tensorflow.keras.callbacks import EarlyStopping\n",
        "early_stop = EarlyStopping(monitor = 'val_loss', mode = 'min', verbose = 1, patience=10)"
      ],
      "execution_count": null,
      "outputs": []
    },
    {
      "cell_type": "markdown",
      "metadata": {
        "id": "FLsu21NYtUlP"
      },
      "source": [
        "Fitting the RNN to the trainingset"
      ]
    },
    {
      "cell_type": "code",
      "metadata": {
        "colab": {
          "base_uri": "https://localhost:8080/"
        },
        "id": "HsiknaKWcQzD",
        "outputId": "77b6b3de-3513-4a74-dc6a-5c0b89c4294e"
      },
      "source": [
        "print(X_train.shape,y_train.shape, X_test.shape, y_test.shape)"
      ],
      "execution_count": null,
      "outputs": [
        {
          "output_type": "stream",
          "text": [
            "(5680, 28, 4) (5680, 1) (5, 28, 4) (5, 1)\n"
          ],
          "name": "stdout"
        }
      ]
    },
    {
      "cell_type": "code",
      "metadata": {
        "id": "dvDbAQEP0m0l"
      },
      "source": [
        "y_train = y_train.reshape(-1,1)"
      ],
      "execution_count": null,
      "outputs": []
    },
    {
      "cell_type": "code",
      "metadata": {
        "colab": {
          "base_uri": "https://localhost:8080/"
        },
        "id": "foqu3loo_fNz",
        "outputId": "99f681b0-9248-44c7-b0f5-4e37688e1e85"
      },
      "source": [
        "regressor.fit(X_train, y_train, epochs=50,batch_size=32)"
      ],
      "execution_count": 41,
      "outputs": [
        {
          "output_type": "stream",
          "text": [
            "Epoch 1/50\n",
            "178/178 [==============================] - 19s 75ms/step - loss: 0.0080\n",
            "Epoch 2/50\n",
            "178/178 [==============================] - 13s 74ms/step - loss: 0.0023\n",
            "Epoch 3/50\n",
            "178/178 [==============================] - 13s 75ms/step - loss: 0.0014\n",
            "Epoch 4/50\n",
            "178/178 [==============================] - 13s 75ms/step - loss: 0.0011\n",
            "Epoch 5/50\n",
            "178/178 [==============================] - 13s 75ms/step - loss: 0.0011\n",
            "Epoch 6/50\n",
            "178/178 [==============================] - 13s 75ms/step - loss: 9.4940e-04\n",
            "Epoch 7/50\n",
            "178/178 [==============================] - 13s 75ms/step - loss: 9.4355e-04\n",
            "Epoch 8/50\n",
            "178/178 [==============================] - 13s 75ms/step - loss: 8.7656e-04\n",
            "Epoch 9/50\n",
            "178/178 [==============================] - 13s 75ms/step - loss: 8.4770e-04\n",
            "Epoch 10/50\n",
            "178/178 [==============================] - 13s 75ms/step - loss: 8.1479e-04\n",
            "Epoch 11/50\n",
            "178/178 [==============================] - 13s 75ms/step - loss: 8.3737e-04\n",
            "Epoch 12/50\n",
            "178/178 [==============================] - 13s 74ms/step - loss: 8.1721e-04\n",
            "Epoch 13/50\n",
            "178/178 [==============================] - 13s 75ms/step - loss: 7.7684e-04\n",
            "Epoch 14/50\n",
            "178/178 [==============================] - 13s 75ms/step - loss: 7.8971e-04\n",
            "Epoch 15/50\n",
            "178/178 [==============================] - 13s 74ms/step - loss: 7.4609e-04\n",
            "Epoch 16/50\n",
            "178/178 [==============================] - 13s 75ms/step - loss: 7.6761e-04\n",
            "Epoch 17/50\n",
            "178/178 [==============================] - 13s 75ms/step - loss: 7.3235e-04\n",
            "Epoch 18/50\n",
            "178/178 [==============================] - 13s 75ms/step - loss: 7.1413e-04\n",
            "Epoch 19/50\n",
            "178/178 [==============================] - 13s 75ms/step - loss: 7.4528e-04\n",
            "Epoch 20/50\n",
            "178/178 [==============================] - 13s 75ms/step - loss: 7.2459e-04\n",
            "Epoch 21/50\n",
            "178/178 [==============================] - 13s 75ms/step - loss: 7.7198e-04\n",
            "Epoch 22/50\n",
            "178/178 [==============================] - 13s 75ms/step - loss: 7.1454e-04\n",
            "Epoch 23/50\n",
            "178/178 [==============================] - 13s 75ms/step - loss: 7.3513e-04\n",
            "Epoch 24/50\n",
            "178/178 [==============================] - 13s 75ms/step - loss: 7.1994e-04\n",
            "Epoch 25/50\n",
            "178/178 [==============================] - 13s 75ms/step - loss: 7.0651e-04\n",
            "Epoch 26/50\n",
            "178/178 [==============================] - 13s 75ms/step - loss: 6.9526e-04\n",
            "Epoch 27/50\n",
            "178/178 [==============================] - 13s 75ms/step - loss: 7.1614e-04\n",
            "Epoch 28/50\n",
            "178/178 [==============================] - 13s 75ms/step - loss: 6.7355e-04\n",
            "Epoch 29/50\n",
            "178/178 [==============================] - 13s 76ms/step - loss: 7.0772e-04\n",
            "Epoch 30/50\n",
            "178/178 [==============================] - 14s 77ms/step - loss: 6.5673e-04\n",
            "Epoch 31/50\n",
            "178/178 [==============================] - 14s 76ms/step - loss: 6.6780e-04\n",
            "Epoch 32/50\n",
            "178/178 [==============================] - 13s 76ms/step - loss: 6.4249e-04\n",
            "Epoch 33/50\n",
            "178/178 [==============================] - 14s 76ms/step - loss: 7.0681e-04\n",
            "Epoch 34/50\n",
            "178/178 [==============================] - 14s 77ms/step - loss: 6.2562e-04\n",
            "Epoch 35/50\n",
            "178/178 [==============================] - 14s 77ms/step - loss: 6.5461e-04\n",
            "Epoch 36/50\n",
            "178/178 [==============================] - 13s 76ms/step - loss: 6.6612e-04\n",
            "Epoch 37/50\n",
            "178/178 [==============================] - 13s 75ms/step - loss: 6.5446e-04\n",
            "Epoch 38/50\n",
            "178/178 [==============================] - 13s 75ms/step - loss: 6.5873e-04\n",
            "Epoch 39/50\n",
            "178/178 [==============================] - 13s 75ms/step - loss: 6.3989e-04\n",
            "Epoch 40/50\n",
            "178/178 [==============================] - 13s 76ms/step - loss: 6.6666e-04\n",
            "Epoch 41/50\n",
            "178/178 [==============================] - 13s 76ms/step - loss: 6.0873e-04\n",
            "Epoch 42/50\n",
            "178/178 [==============================] - 13s 75ms/step - loss: 6.7941e-04\n",
            "Epoch 43/50\n",
            "178/178 [==============================] - 13s 75ms/step - loss: 6.7124e-04\n",
            "Epoch 44/50\n",
            "178/178 [==============================] - 13s 75ms/step - loss: 6.0727e-04\n",
            "Epoch 45/50\n",
            "178/178 [==============================] - 13s 75ms/step - loss: 6.0931e-04\n",
            "Epoch 46/50\n",
            "178/178 [==============================] - 13s 75ms/step - loss: 6.0246e-04\n",
            "Epoch 47/50\n",
            "178/178 [==============================] - 13s 75ms/step - loss: 6.1319e-04\n",
            "Epoch 48/50\n",
            "178/178 [==============================] - 14s 76ms/step - loss: 6.2077e-04\n",
            "Epoch 49/50\n",
            "178/178 [==============================] - 14s 76ms/step - loss: 6.2257e-04\n",
            "Epoch 50/50\n",
            "178/178 [==============================] - 13s 76ms/step - loss: 5.9169e-04\n"
          ],
          "name": "stdout"
        },
        {
          "output_type": "execute_result",
          "data": {
            "text/plain": [
              "<tensorflow.python.keras.callbacks.History at 0x7fcd6b40a8d0>"
            ]
          },
          "metadata": {
            "tags": []
          },
          "execution_count": 41
        }
      ]
    },
    {
      "cell_type": "code",
      "metadata": {
        "id": "7Vl9prxLtZXx",
        "colab": {
          "base_uri": "https://localhost:8080/"
        },
        "outputId": "d7113a0b-93cc-45d6-8e7b-489d1957eb7f"
      },
      "source": [
        "regressor.fit(X_train, y_train, epochs=1000,validation_data=(X_test, y_test), callbacks=[early_stop])"
      ],
      "execution_count": null,
      "outputs": [
        {
          "output_type": "stream",
          "text": [
            "Epoch 1/1000\n",
            "178/178 [==============================] - 11s 34ms/step - loss: 0.0411 - val_loss: 0.2108\n",
            "Epoch 2/1000\n",
            "178/178 [==============================] - 5s 28ms/step - loss: 0.0246 - val_loss: 0.1387\n",
            "Epoch 3/1000\n",
            "178/178 [==============================] - 5s 27ms/step - loss: 0.0223 - val_loss: 0.1185\n",
            "Epoch 4/1000\n",
            "178/178 [==============================] - 5s 28ms/step - loss: 0.0215 - val_loss: 0.1092\n",
            "Epoch 5/1000\n",
            "178/178 [==============================] - 5s 27ms/step - loss: 0.0206 - val_loss: 0.0993\n",
            "Epoch 6/1000\n",
            "178/178 [==============================] - 5s 28ms/step - loss: 0.0198 - val_loss: 0.0884\n",
            "Epoch 7/1000\n",
            "178/178 [==============================] - 5s 27ms/step - loss: 0.0192 - val_loss: 0.0791\n",
            "Epoch 8/1000\n",
            "178/178 [==============================] - 5s 27ms/step - loss: 0.0192 - val_loss: 0.0785\n",
            "Epoch 9/1000\n",
            "178/178 [==============================] - 5s 28ms/step - loss: 0.0188 - val_loss: 0.0778\n",
            "Epoch 10/1000\n",
            "178/178 [==============================] - 5s 28ms/step - loss: 0.0186 - val_loss: 0.0744\n",
            "Epoch 11/1000\n",
            "178/178 [==============================] - 5s 27ms/step - loss: 0.0183 - val_loss: 0.0769\n",
            "Epoch 12/1000\n",
            "178/178 [==============================] - 5s 28ms/step - loss: 0.0181 - val_loss: 0.0795\n",
            "Epoch 13/1000\n",
            "178/178 [==============================] - 5s 28ms/step - loss: 0.0182 - val_loss: 0.0752\n",
            "Epoch 14/1000\n",
            "178/178 [==============================] - 5s 28ms/step - loss: 0.0179 - val_loss: 0.0752\n",
            "Epoch 15/1000\n",
            "178/178 [==============================] - 5s 28ms/step - loss: 0.0178 - val_loss: 0.0709\n",
            "Epoch 16/1000\n",
            "178/178 [==============================] - 5s 28ms/step - loss: 0.0177 - val_loss: 0.0714\n",
            "Epoch 17/1000\n",
            "178/178 [==============================] - 5s 27ms/step - loss: 0.0179 - val_loss: 0.0703\n",
            "Epoch 18/1000\n",
            "178/178 [==============================] - 5s 28ms/step - loss: 0.0176 - val_loss: 0.0752\n",
            "Epoch 19/1000\n",
            "178/178 [==============================] - 5s 28ms/step - loss: 0.0178 - val_loss: 0.0714\n",
            "Epoch 20/1000\n",
            "178/178 [==============================] - 5s 28ms/step - loss: 0.0175 - val_loss: 0.0709\n",
            "Epoch 21/1000\n",
            "178/178 [==============================] - 5s 28ms/step - loss: 0.0175 - val_loss: 0.0652\n",
            "Epoch 22/1000\n",
            "178/178 [==============================] - 5s 28ms/step - loss: 0.0175 - val_loss: 0.0671\n",
            "Epoch 23/1000\n",
            "178/178 [==============================] - 5s 28ms/step - loss: 0.0175 - val_loss: 0.0637\n",
            "Epoch 24/1000\n",
            "178/178 [==============================] - 5s 28ms/step - loss: 0.0174 - val_loss: 0.0672\n",
            "Epoch 25/1000\n",
            "178/178 [==============================] - 5s 28ms/step - loss: 0.0173 - val_loss: 0.0669\n",
            "Epoch 26/1000\n",
            "178/178 [==============================] - 5s 28ms/step - loss: 0.0174 - val_loss: 0.0700\n",
            "Epoch 27/1000\n",
            "178/178 [==============================] - 5s 28ms/step - loss: 0.0174 - val_loss: 0.0650\n",
            "Epoch 28/1000\n",
            "178/178 [==============================] - 5s 28ms/step - loss: 0.0174 - val_loss: 0.0688\n",
            "Epoch 29/1000\n",
            "178/178 [==============================] - 5s 28ms/step - loss: 0.0173 - val_loss: 0.0688\n",
            "Epoch 30/1000\n",
            "178/178 [==============================] - 5s 28ms/step - loss: 0.0172 - val_loss: 0.0630\n",
            "Epoch 31/1000\n",
            "178/178 [==============================] - 5s 27ms/step - loss: 0.0173 - val_loss: 0.0707\n",
            "Epoch 32/1000\n",
            "178/178 [==============================] - 5s 28ms/step - loss: 0.0171 - val_loss: 0.0622\n",
            "Epoch 33/1000\n",
            "178/178 [==============================] - 5s 28ms/step - loss: 0.0172 - val_loss: 0.0661\n",
            "Epoch 34/1000\n",
            "178/178 [==============================] - 5s 28ms/step - loss: 0.0173 - val_loss: 0.0672\n",
            "Epoch 35/1000\n",
            "178/178 [==============================] - 5s 28ms/step - loss: 0.0171 - val_loss: 0.0670\n",
            "Epoch 36/1000\n",
            "178/178 [==============================] - 5s 28ms/step - loss: 0.0171 - val_loss: 0.0647\n",
            "Epoch 37/1000\n",
            "178/178 [==============================] - 5s 28ms/step - loss: 0.0171 - val_loss: 0.0603\n",
            "Epoch 38/1000\n",
            "178/178 [==============================] - 5s 28ms/step - loss: 0.0170 - val_loss: 0.0649\n",
            "Epoch 39/1000\n",
            "178/178 [==============================] - 5s 28ms/step - loss: 0.0171 - val_loss: 0.0640\n",
            "Epoch 40/1000\n",
            "178/178 [==============================] - 5s 28ms/step - loss: 0.0171 - val_loss: 0.0680\n",
            "Epoch 41/1000\n",
            "178/178 [==============================] - 5s 28ms/step - loss: 0.0172 - val_loss: 0.0698\n",
            "Epoch 42/1000\n",
            "178/178 [==============================] - 5s 28ms/step - loss: 0.0171 - val_loss: 0.0702\n",
            "Epoch 43/1000\n",
            "178/178 [==============================] - 5s 28ms/step - loss: 0.0172 - val_loss: 0.0713\n",
            "Epoch 44/1000\n",
            "178/178 [==============================] - 5s 28ms/step - loss: 0.0170 - val_loss: 0.0675\n",
            "Epoch 45/1000\n",
            "178/178 [==============================] - 5s 28ms/step - loss: 0.0171 - val_loss: 0.0676\n",
            "Epoch 46/1000\n",
            "178/178 [==============================] - 5s 28ms/step - loss: 0.0168 - val_loss: 0.0706\n",
            "Epoch 47/1000\n",
            "178/178 [==============================] - 5s 28ms/step - loss: 0.0170 - val_loss: 0.0683\n",
            "Epoch 00047: early stopping\n"
          ],
          "name": "stdout"
        },
        {
          "output_type": "execute_result",
          "data": {
            "text/plain": [
              "<tensorflow.python.keras.callbacks.History at 0x7fe703d68410>"
            ]
          },
          "metadata": {
            "tags": []
          },
          "execution_count": 40
        }
      ]
    },
    {
      "cell_type": "markdown",
      "metadata": {
        "id": "-qts4mq7ttEo"
      },
      "source": [
        "Plotting Model training loss and validation loss"
      ]
    },
    {
      "cell_type": "code",
      "metadata": {
        "id": "yrktUpDTtwuy",
        "colab": {
          "base_uri": "https://localhost:8080/",
          "height": 282
        },
        "outputId": "418b6357-3490-42e7-c67a-efc6c51d14ca"
      },
      "source": [
        "loss_df = pd.DataFrame(regressor.history.history)\n",
        "loss_df.plot()"
      ],
      "execution_count": null,
      "outputs": [
        {
          "output_type": "execute_result",
          "data": {
            "text/plain": [
              "<matplotlib.axes._subplots.AxesSubplot at 0x7fe703e4bbd0>"
            ]
          },
          "metadata": {
            "tags": []
          },
          "execution_count": 41
        },
        {
          "output_type": "display_data",
          "data": {
            "image/png": "[encoded data removed]",
            "text/plain": [
              "<Figure size 432x288 with 1 Axes>"
            ]
          },
          "metadata": {
            "tags": [],
            "needs_background": "light"
          }
        }
      ]
    },
    {
      "cell_type": "markdown",
      "metadata": {
        "id": "hZ1dhZLit-E4"
      },
      "source": [
        "Predicting the data"
      ]
    },
    {
      "cell_type": "code",
      "metadata": {
        "colab": {
          "base_uri": "https://localhost:8080/"
        },
        "id": "d8QW1NrK6KNM",
        "outputId": "da299108-eb47-4a78-dd71-4b74a25d79e9"
      },
      "source": [
        "X_train.shape"
      ],
      "execution_count": null,
      "outputs": [
        {
          "output_type": "execute_result",
          "data": {
            "text/plain": [
              "(5680, 28, 4)"
            ]
          },
          "metadata": {
            "tags": []
          },
          "execution_count": 42
        }
      ]
    },
    {
      "cell_type": "code",
      "metadata": {
        "id": "E1noC2TKt_9M",
        "colab": {
          "base_uri": "https://localhost:8080/",
          "height": 690
        },
        "outputId": "0aa1b1b1-f527-4201-bb5e-12fb8f1f67ed"
      },
      "source": [
        "y_pred = regressor.predict(X_test[0])\n",
        "#y_pred = sc_output.inverse_transform(y_pred)\n",
        "y_pred"
      ],
      "execution_count": 45,
      "outputs": [
        {
          "output_type": "error",
          "ename": "ValueError",
          "evalue": "ignored",
          "traceback": [
            "\u001b[0;31m---------------------------------------------------------------------------\u001b[0m",
            "\u001b[0;31mValueError\u001b[0m                                Traceback (most recent call last)",
            "\u001b[0;32m<ipython-input-45-fb8c5311c6dd>\u001b[0m in \u001b[0;36m<module>\u001b[0;34m()\u001b[0m\n\u001b[0;32m----> 1\u001b[0;31m \u001b[0my_pred\u001b[0m \u001b[0;34m=\u001b[0m \u001b[0mregressor\u001b[0m\u001b[0;34m.\u001b[0m\u001b[0mpredict\u001b[0m\u001b[0;34m(\u001b[0m\u001b[0mX_test\u001b[0m\u001b[0;34m[\u001b[0m\u001b[0;36m0\u001b[0m\u001b[0;34m]\u001b[0m\u001b[0;34m)\u001b[0m\u001b[0;34m\u001b[0m\u001b[0;34m\u001b[0m\u001b[0m\n\u001b[0m\u001b[1;32m      2\u001b[0m \u001b[0;31m#y_pred = sc_output.inverse_transform(y_pred)\u001b[0m\u001b[0;34m\u001b[0m\u001b[0;34m\u001b[0m\u001b[0;34m\u001b[0m\u001b[0m\n\u001b[1;32m      3\u001b[0m \u001b[0my_pred\u001b[0m\u001b[0;34m\u001b[0m\u001b[0;34m\u001b[0m\u001b[0m\n",
            "\u001b[0;32m/usr/local/lib/python3.7/dist-packages/tensorflow/python/keras/engine/training.py\u001b[0m in \u001b[0;36mpredict\u001b[0;34m(self, x, batch_size, verbose, steps, callbacks, max_queue_size, workers, use_multiprocessing)\u001b[0m\n\u001b[1;32m   1725\u001b[0m           \u001b[0;32mfor\u001b[0m \u001b[0mstep\u001b[0m \u001b[0;32min\u001b[0m \u001b[0mdata_handler\u001b[0m\u001b[0;34m.\u001b[0m\u001b[0msteps\u001b[0m\u001b[0;34m(\u001b[0m\u001b[0;34m)\u001b[0m\u001b[0;34m:\u001b[0m\u001b[0;34m\u001b[0m\u001b[0;34m\u001b[0m\u001b[0m\n\u001b[1;32m   1726\u001b[0m             \u001b[0mcallbacks\u001b[0m\u001b[0;34m.\u001b[0m\u001b[0mon_predict_batch_begin\u001b[0m\u001b[0;34m(\u001b[0m\u001b[0mstep\u001b[0m\u001b[0;34m)\u001b[0m\u001b[0;34m\u001b[0m\u001b[0;34m\u001b[0m\u001b[0m\n\u001b[0;32m-> 1727\u001b[0;31m             \u001b[0mtmp_batch_outputs\u001b[0m \u001b[0;34m=\u001b[0m \u001b[0mself\u001b[0m\u001b[0;34m.\u001b[0m\u001b[0mpredict_function\u001b[0m\u001b[0;34m(\u001b[0m\u001b[0miterator\u001b[0m\u001b[0;34m)\u001b[0m\u001b[0;34m\u001b[0m\u001b[0;34m\u001b[0m\u001b[0m\n\u001b[0m\u001b[1;32m   1728\u001b[0m             \u001b[0;32mif\u001b[0m \u001b[0mdata_handler\u001b[0m\u001b[0;34m.\u001b[0m\u001b[0mshould_sync\u001b[0m\u001b[0;34m:\u001b[0m\u001b[0;34m\u001b[0m\u001b[0;34m\u001b[0m\u001b[0m\n\u001b[1;32m   1729\u001b[0m               \u001b[0mcontext\u001b[0m\u001b[0;34m.\u001b[0m\u001b[0masync_wait\u001b[0m\u001b[0;34m(\u001b[0m\u001b[0;34m)\u001b[0m\u001b[0;34m\u001b[0m\u001b[0;34m\u001b[0m\u001b[0m\n",
            "\u001b[0;32m/usr/local/lib/python3.7/dist-packages/tensorflow/python/eager/def_function.py\u001b[0m in \u001b[0;36m__call__\u001b[0;34m(self, *args, **kwds)\u001b[0m\n\u001b[1;32m    887\u001b[0m \u001b[0;34m\u001b[0m\u001b[0m\n\u001b[1;32m    888\u001b[0m       \u001b[0;32mwith\u001b[0m \u001b[0mOptionalXlaContext\u001b[0m\u001b[0;34m(\u001b[0m\u001b[0mself\u001b[0m\u001b[0;34m.\u001b[0m\u001b[0m_jit_compile\u001b[0m\u001b[0;34m)\u001b[0m\u001b[0;34m:\u001b[0m\u001b[0;34m\u001b[0m\u001b[0;34m\u001b[0m\u001b[0m\n\u001b[0;32m--> 889\u001b[0;31m         \u001b[0mresult\u001b[0m \u001b[0;34m=\u001b[0m \u001b[0mself\u001b[0m\u001b[0;34m.\u001b[0m\u001b[0m_call\u001b[0m\u001b[0;34m(\u001b[0m\u001b[0;34m*\u001b[0m\u001b[0margs\u001b[0m\u001b[0;34m,\u001b[0m \u001b[0;34m**\u001b[0m\u001b[0mkwds\u001b[0m\u001b[0;34m)\u001b[0m\u001b[0;34m\u001b[0m\u001b[0;34m\u001b[0m\u001b[0m\n\u001b[0m\u001b[1;32m    890\u001b[0m \u001b[0;34m\u001b[0m\u001b[0m\n\u001b[1;32m    891\u001b[0m       \u001b[0mnew_tracing_count\u001b[0m \u001b[0;34m=\u001b[0m \u001b[0mself\u001b[0m\u001b[0;34m.\u001b[0m\u001b[0mexperimental_get_tracing_count\u001b[0m\u001b[0;34m(\u001b[0m\u001b[0;34m)\u001b[0m\u001b[0;34m\u001b[0m\u001b[0;34m\u001b[0m\u001b[0m\n",
            "\u001b[0;32m/usr/local/lib/python3.7/dist-packages/tensorflow/python/eager/def_function.py\u001b[0m in \u001b[0;36m_call\u001b[0;34m(self, *args, **kwds)\u001b[0m\n\u001b[1;32m    922\u001b[0m       \u001b[0;31m# In this case we have not created variables on the first call. So we can\u001b[0m\u001b[0;34m\u001b[0m\u001b[0;34m\u001b[0m\u001b[0;34m\u001b[0m\u001b[0m\n\u001b[1;32m    923\u001b[0m       \u001b[0;31m# run the first trace but we should fail if variables are created.\u001b[0m\u001b[0;34m\u001b[0m\u001b[0;34m\u001b[0m\u001b[0;34m\u001b[0m\u001b[0m\n\u001b[0;32m--> 924\u001b[0;31m       \u001b[0mresults\u001b[0m \u001b[0;34m=\u001b[0m \u001b[0mself\u001b[0m\u001b[0;34m.\u001b[0m\u001b[0m_stateful_fn\u001b[0m\u001b[0;34m(\u001b[0m\u001b[0;34m*\u001b[0m\u001b[0margs\u001b[0m\u001b[0;34m,\u001b[0m \u001b[0;34m**\u001b[0m\u001b[0mkwds\u001b[0m\u001b[0;34m)\u001b[0m\u001b[0;34m\u001b[0m\u001b[0;34m\u001b[0m\u001b[0m\n\u001b[0m\u001b[1;32m    925\u001b[0m       \u001b[0;32mif\u001b[0m \u001b[0mself\u001b[0m\u001b[0;34m.\u001b[0m\u001b[0m_created_variables\u001b[0m\u001b[0;34m:\u001b[0m\u001b[0;34m\u001b[0m\u001b[0;34m\u001b[0m\u001b[0m\n\u001b[1;32m    926\u001b[0m         raise ValueError(\"Creating variables on a non-first call to a function\"\n",
            "\u001b[0;32m/usr/local/lib/python3.7/dist-packages/tensorflow/python/eager/function.py\u001b[0m in \u001b[0;36m__call__\u001b[0;34m(self, *args, **kwargs)\u001b[0m\n\u001b[1;32m   3020\u001b[0m     \u001b[0;32mwith\u001b[0m \u001b[0mself\u001b[0m\u001b[0;34m.\u001b[0m\u001b[0m_lock\u001b[0m\u001b[0;34m:\u001b[0m\u001b[0;34m\u001b[0m\u001b[0;34m\u001b[0m\u001b[0m\n\u001b[1;32m   3021\u001b[0m       (graph_function,\n\u001b[0;32m-> 3022\u001b[0;31m        filtered_flat_args) = self._maybe_define_function(args, kwargs)\n\u001b[0m\u001b[1;32m   3023\u001b[0m     return graph_function._call_flat(\n\u001b[1;32m   3024\u001b[0m         filtered_flat_args, captured_inputs=graph_function.captured_inputs)  # pylint: disable=protected-access\n",
            "\u001b[0;32m/usr/local/lib/python3.7/dist-packages/tensorflow/python/eager/function.py\u001b[0m in \u001b[0;36m_maybe_define_function\u001b[0;34m(self, args, kwargs)\u001b[0m\n\u001b[1;32m   3439\u001b[0m               call_context_key in self._function_cache.missed):\n\u001b[1;32m   3440\u001b[0m             return self._define_function_with_shape_relaxation(\n\u001b[0;32m-> 3441\u001b[0;31m                 args, kwargs, flat_args, filtered_flat_args, cache_key_context)\n\u001b[0m\u001b[1;32m   3442\u001b[0m \u001b[0;34m\u001b[0m\u001b[0m\n\u001b[1;32m   3443\u001b[0m           \u001b[0mself\u001b[0m\u001b[0;34m.\u001b[0m\u001b[0m_function_cache\u001b[0m\u001b[0;34m.\u001b[0m\u001b[0mmissed\u001b[0m\u001b[0;34m.\u001b[0m\u001b[0madd\u001b[0m\u001b[0;34m(\u001b[0m\u001b[0mcall_context_key\u001b[0m\u001b[0;34m)\u001b[0m\u001b[0;34m\u001b[0m\u001b[0;34m\u001b[0m\u001b[0m\n",
            "\u001b[0;32m/usr/local/lib/python3.7/dist-packages/tensorflow/python/eager/function.py\u001b[0m in \u001b[0;36m_define_function_with_shape_relaxation\u001b[0;34m(self, args, kwargs, flat_args, filtered_flat_args, cache_key_context)\u001b[0m\n\u001b[1;32m   3361\u001b[0m \u001b[0;34m\u001b[0m\u001b[0m\n\u001b[1;32m   3362\u001b[0m     graph_function = self._create_graph_function(\n\u001b[0;32m-> 3363\u001b[0;31m         args, kwargs, override_flat_arg_shapes=relaxed_arg_shapes)\n\u001b[0m\u001b[1;32m   3364\u001b[0m     \u001b[0mself\u001b[0m\u001b[0;34m.\u001b[0m\u001b[0m_function_cache\u001b[0m\u001b[0;34m.\u001b[0m\u001b[0marg_relaxed\u001b[0m\u001b[0;34m[\u001b[0m\u001b[0mrank_only_cache_key\u001b[0m\u001b[0;34m]\u001b[0m \u001b[0;34m=\u001b[0m \u001b[0mgraph_function\u001b[0m\u001b[0;34m\u001b[0m\u001b[0;34m\u001b[0m\u001b[0m\n\u001b[1;32m   3365\u001b[0m \u001b[0;34m\u001b[0m\u001b[0m\n",
            "\u001b[0;32m/usr/local/lib/python3.7/dist-packages/tensorflow/python/eager/function.py\u001b[0m in \u001b[0;36m_create_graph_function\u001b[0;34m(self, args, kwargs, override_flat_arg_shapes)\u001b[0m\n\u001b[1;32m   3287\u001b[0m             \u001b[0marg_names\u001b[0m\u001b[0;34m=\u001b[0m\u001b[0marg_names\u001b[0m\u001b[0;34m,\u001b[0m\u001b[0;34m\u001b[0m\u001b[0;34m\u001b[0m\u001b[0m\n\u001b[1;32m   3288\u001b[0m             \u001b[0moverride_flat_arg_shapes\u001b[0m\u001b[0;34m=\u001b[0m\u001b[0moverride_flat_arg_shapes\u001b[0m\u001b[0;34m,\u001b[0m\u001b[0;34m\u001b[0m\u001b[0;34m\u001b[0m\u001b[0m\n\u001b[0;32m-> 3289\u001b[0;31m             capture_by_value=self._capture_by_value),\n\u001b[0m\u001b[1;32m   3290\u001b[0m         \u001b[0mself\u001b[0m\u001b[0;34m.\u001b[0m\u001b[0m_function_attributes\u001b[0m\u001b[0;34m,\u001b[0m\u001b[0;34m\u001b[0m\u001b[0;34m\u001b[0m\u001b[0m\n\u001b[1;32m   3291\u001b[0m         \u001b[0mfunction_spec\u001b[0m\u001b[0;34m=\u001b[0m\u001b[0mself\u001b[0m\u001b[0;34m.\u001b[0m\u001b[0mfunction_spec\u001b[0m\u001b[0;34m,\u001b[0m\u001b[0;34m\u001b[0m\u001b[0;34m\u001b[0m\u001b[0m\n",
            "\u001b[0;32m/usr/local/lib/python3.7/dist-packages/tensorflow/python/framework/func_graph.py\u001b[0m in \u001b[0;36mfunc_graph_from_py_func\u001b[0;34m(name, python_func, args, kwargs, signature, func_graph, autograph, autograph_options, add_control_dependencies, arg_names, op_return_value, collections, capture_by_value, override_flat_arg_shapes)\u001b[0m\n\u001b[1;32m    997\u001b[0m         \u001b[0m_\u001b[0m\u001b[0;34m,\u001b[0m \u001b[0moriginal_func\u001b[0m \u001b[0;34m=\u001b[0m \u001b[0mtf_decorator\u001b[0m\u001b[0;34m.\u001b[0m\u001b[0munwrap\u001b[0m\u001b[0;34m(\u001b[0m\u001b[0mpython_func\u001b[0m\u001b[0;34m)\u001b[0m\u001b[0;34m\u001b[0m\u001b[0;34m\u001b[0m\u001b[0m\n\u001b[1;32m    998\u001b[0m \u001b[0;34m\u001b[0m\u001b[0m\n\u001b[0;32m--> 999\u001b[0;31m       \u001b[0mfunc_outputs\u001b[0m \u001b[0;34m=\u001b[0m \u001b[0mpython_func\u001b[0m\u001b[0;34m(\u001b[0m\u001b[0;34m*\u001b[0m\u001b[0mfunc_args\u001b[0m\u001b[0;34m,\u001b[0m \u001b[0;34m**\u001b[0m\u001b[0mfunc_kwargs\u001b[0m\u001b[0;34m)\u001b[0m\u001b[0;34m\u001b[0m\u001b[0;34m\u001b[0m\u001b[0m\n\u001b[0m\u001b[1;32m   1000\u001b[0m \u001b[0;34m\u001b[0m\u001b[0m\n\u001b[1;32m   1001\u001b[0m       \u001b[0;31m# invariant: `func_outputs` contains only Tensors, CompositeTensors,\u001b[0m\u001b[0;34m\u001b[0m\u001b[0;34m\u001b[0m\u001b[0;34m\u001b[0m\u001b[0m\n",
            "\u001b[0;32m/usr/local/lib/python3.7/dist-packages/tensorflow/python/eager/def_function.py\u001b[0m in \u001b[0;36mwrapped_fn\u001b[0;34m(*args, **kwds)\u001b[0m\n\u001b[1;32m    670\u001b[0m         \u001b[0;31m# the function a weak reference to itself to avoid a reference cycle.\u001b[0m\u001b[0;34m\u001b[0m\u001b[0;34m\u001b[0m\u001b[0;34m\u001b[0m\u001b[0m\n\u001b[1;32m    671\u001b[0m         \u001b[0;32mwith\u001b[0m \u001b[0mOptionalXlaContext\u001b[0m\u001b[0;34m(\u001b[0m\u001b[0mcompile_with_xla\u001b[0m\u001b[0;34m)\u001b[0m\u001b[0;34m:\u001b[0m\u001b[0;34m\u001b[0m\u001b[0;34m\u001b[0m\u001b[0m\n\u001b[0;32m--> 672\u001b[0;31m           \u001b[0mout\u001b[0m \u001b[0;34m=\u001b[0m \u001b[0mweak_wrapped_fn\u001b[0m\u001b[0;34m(\u001b[0m\u001b[0;34m)\u001b[0m\u001b[0;34m.\u001b[0m\u001b[0m__wrapped__\u001b[0m\u001b[0;34m(\u001b[0m\u001b[0;34m*\u001b[0m\u001b[0margs\u001b[0m\u001b[0;34m,\u001b[0m \u001b[0;34m**\u001b[0m\u001b[0mkwds\u001b[0m\u001b[0;34m)\u001b[0m\u001b[0;34m\u001b[0m\u001b[0;34m\u001b[0m\u001b[0m\n\u001b[0m\u001b[1;32m    673\u001b[0m         \u001b[0;32mreturn\u001b[0m \u001b[0mout\u001b[0m\u001b[0;34m\u001b[0m\u001b[0;34m\u001b[0m\u001b[0m\n\u001b[1;32m    674\u001b[0m \u001b[0;34m\u001b[0m\u001b[0m\n",
            "\u001b[0;32m/usr/local/lib/python3.7/dist-packages/tensorflow/python/framework/func_graph.py\u001b[0m in \u001b[0;36mwrapper\u001b[0;34m(*args, **kwargs)\u001b[0m\n\u001b[1;32m    984\u001b[0m           \u001b[0;32mexcept\u001b[0m \u001b[0mException\u001b[0m \u001b[0;32mas\u001b[0m \u001b[0me\u001b[0m\u001b[0;34m:\u001b[0m  \u001b[0;31m# pylint:disable=broad-except\u001b[0m\u001b[0;34m\u001b[0m\u001b[0;34m\u001b[0m\u001b[0m\n\u001b[1;32m    985\u001b[0m             \u001b[0;32mif\u001b[0m \u001b[0mhasattr\u001b[0m\u001b[0;34m(\u001b[0m\u001b[0me\u001b[0m\u001b[0;34m,\u001b[0m \u001b[0;34m\"ag_error_metadata\"\u001b[0m\u001b[0;34m)\u001b[0m\u001b[0;34m:\u001b[0m\u001b[0;34m\u001b[0m\u001b[0;34m\u001b[0m\u001b[0m\n\u001b[0;32m--> 986\u001b[0;31m               \u001b[0;32mraise\u001b[0m \u001b[0me\u001b[0m\u001b[0;34m.\u001b[0m\u001b[0mag_error_metadata\u001b[0m\u001b[0;34m.\u001b[0m\u001b[0mto_exception\u001b[0m\u001b[0;34m(\u001b[0m\u001b[0me\u001b[0m\u001b[0;34m)\u001b[0m\u001b[0;34m\u001b[0m\u001b[0;34m\u001b[0m\u001b[0m\n\u001b[0m\u001b[1;32m    987\u001b[0m             \u001b[0;32melse\u001b[0m\u001b[0;34m:\u001b[0m\u001b[0;34m\u001b[0m\u001b[0;34m\u001b[0m\u001b[0m\n\u001b[1;32m    988\u001b[0m               \u001b[0;32mraise\u001b[0m\u001b[0;34m\u001b[0m\u001b[0;34m\u001b[0m\u001b[0m\n",
            "\u001b[0;31mValueError\u001b[0m: in user code:\n\n    /usr/local/lib/python3.7/dist-packages/tensorflow/python/keras/engine/training.py:1569 predict_function  *\n        return step_function(self, iterator)\n    /usr/local/lib/python3.7/dist-packages/tensorflow/python/keras/engine/training.py:1559 step_function  **\n        outputs = model.distribute_strategy.run(run_step, args=(data,))\n    /usr/local/lib/python3.7/dist-packages/tensorflow/python/distribute/distribute_lib.py:1285 run\n        return self._extended.call_for_each_replica(fn, args=args, kwargs=kwargs)\n    /usr/local/lib/python3.7/dist-packages/tensorflow/python/distribute/distribute_lib.py:2833 call_for_each_replica\n        return self._call_for_each_replica(fn, args, kwargs)\n    /usr/local/lib/python3.7/dist-packages/tensorflow/python/distribute/distribute_lib.py:3608 _call_for_each_replica\n        return fn(*args, **kwargs)\n    /usr/local/lib/python3.7/dist-packages/tensorflow/python/keras/engine/training.py:1552 run_step  **\n        outputs = model.predict_step(data)\n    /usr/local/lib/python3.7/dist-packages/tensorflow/python/keras/engine/training.py:1525 predict_step\n        return self(x, training=False)\n    /usr/local/lib/python3.7/dist-packages/tensorflow/python/keras/engine/base_layer.py:1013 __call__\n        input_spec.assert_input_compatibility(self.input_spec, inputs, self.name)\n    /usr/local/lib/python3.7/dist-packages/tensorflow/python/keras/engine/input_spec.py:219 assert_input_compatibility\n        str(tuple(shape)))\n\n    ValueError: Input 0 of layer sequential is incompatible with the layer: expected ndim=3, found ndim=2. Full shape received: (None, 4)\n"
          ]
        }
      ]
    },
    {
      "cell_type": "code",
      "metadata": {
        "id": "0iA8XXqwuOoC"
      },
      "source": [
        "y_test = test_set[:,7]\n",
        "y_test=y_test.reshape(-1,1)"
      ],
      "execution_count": null,
      "outputs": []
    },
    {
      "cell_type": "code",
      "metadata": {
        "id": "s6Z8G-kguZGf"
      },
      "source": [
        "np.concatenate((y_test,y_pred), axis =1)"
      ],
      "execution_count": null,
      "outputs": []
    },
    {
      "cell_type": "markdown",
      "metadata": {
        "id": "jeWA-JCwuhPf"
      },
      "source": [
        "Visualizing the data"
      ]
    },
    {
      "cell_type": "code",
      "metadata": {
        "id": "_1DrpKBAujig"
      },
      "source": [
        "plt.plot(y_test, color = 'red', label='Real ASK')\n",
        "plt.plot(y_pred, color = 'blue', label='predicted data')\n",
        "plt.title('prediction comparison')\n",
        "plt.xlabel('Time')\n",
        "plt.ylabel('Stock price')\n",
        "plt.legend()\n",
        "plt.show()"
      ],
      "execution_count": null,
      "outputs": []
    },
    {
      "cell_type": "markdown",
      "metadata": {
        "id": "-LZi9j-XvQ1m"
      },
      "source": [
        "Calculating the ME(Mean absolute error) and RMSE(Root meansquare error)"
      ]
    },
    {
      "cell_type": "code",
      "metadata": {
        "id": "gZUlXsyGvbdo"
      },
      "source": [
        "from sklearn.metrics import mean_absolute_error, mean_squared_error\n",
        "ME = mean_absolute_error(y_test, y_pred)"
      ],
      "execution_count": null,
      "outputs": []
    },
    {
      "cell_type": "code",
      "metadata": {
        "id": "eRVFgs6CvuR_"
      },
      "source": [
        "100 - ME/np.mean(y_test)*100"
      ],
      "execution_count": null,
      "outputs": []
    },
    {
      "cell_type": "code",
      "metadata": {
        "id": "bC39uWATv2E6"
      },
      "source": [
        "MSE = mean_squared_error(y_test,y_pred)\n",
        "RMSE = MSE**.5\n",
        "RMSE"
      ],
      "execution_count": null,
      "outputs": []
    },
    {
      "cell_type": "code",
      "metadata": {
        "id": "TYvvYwFKwIQs"
      },
      "source": [
        "100-RMSE/np.mean(y_test)*100"
      ],
      "execution_count": null,
      "outputs": []
    },
    {
      "cell_type": "code",
      "metadata": {
        "id": "r6N-s-7ZwQCI"
      },
      "source": [
        "for i in range(0,len(y_test)):\n",
        "  print(100-RMSE/y_test[i]*100)"
      ],
      "execution_count": null,
      "outputs": []
    },
    {
      "cell_type": "markdown",
      "metadata": {
        "id": "k5DADaqTwd3Z"
      },
      "source": [
        "Predicting the next value"
      ]
    },
    {
      "cell_type": "code",
      "metadata": {
        "id": "Kb_zJ-FRwh9y"
      },
      "source": [
        "dataset_total = pd.read_excel(r'')\n",
        "\n",
        "#getting only last three actual data to predict the forth one\n",
        "inputs = dataset_total.iloc[len(dataset_total)-week:,1:column+1].values\n",
        "inputs = sc.transform(inputs)\n",
        "X_test=[]\n",
        "X_test.append(inputs)\n",
        "X_test = np.array(X_test)\n",
        "\n",
        "predicted_data = regressor.predict(X_test)\n",
        "predicted_data = sc_output.inverse_transform(predicted_data)"
      ],
      "execution_count": null,
      "outputs": []
    },
    {
      "cell_type": "code",
      "metadata": {
        "id": "LTjhvoqJxvlt"
      },
      "source": [
        "predicted_data"
      ],
      "execution_count": null,
      "outputs": []
    }
  ]
}