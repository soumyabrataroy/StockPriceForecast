{
  "nbformat": 4,
  "nbformat_minor": 0,
  "metadata": {
    "colab": {
      "name": "Stock_Price_Forecast V2 with all",
      "provenance": [],
      "collapsed_sections": [],
      "toc_visible": true,
      "include_colab_link": true
    },
    "kernelspec": {
      "name": "python3",
      "display_name": "Python 3"
    }
  },
  "cells": [
    {
      "cell_type": "markdown",
      "metadata": {
        "id": "view-in-github",
        "colab_type": "text"
      },
      "source": [
        "<a href=\"https://colab.research.google.com/github/soumyabrataroy/StockPriceForecast/blob/main/Stock_Price_Forecast_V2_with_all.ipynb\" target=\"_parent\"><img src=\"https://colab.research.google.com/assets/colab-badge.svg\" alt=\"Open In Colab\"/></a>"
      ]
    },
    {
      "cell_type": "code",
      "metadata": {
        "id": "DZ1UuRiu0RJ2",
        "colab": {
          "base_uri": "https://localhost:8080/"
        },
        "outputId": "87627b8b-7622-4d17-c1aa-609004c45741"
      },
      "source": [
        "pip install yfinance"
      ],
      "execution_count": 1,
      "outputs": [
        {
          "output_type": "stream",
          "name": "stdout",
          "text": [
            "Requirement already satisfied: yfinance in /usr/local/lib/python3.7/dist-packages (0.1.63)\n",
            "Requirement already satisfied: pandas>=0.24 in /usr/local/lib/python3.7/dist-packages (from yfinance) (1.1.5)\n",
            "Requirement already satisfied: numpy>=1.15 in /usr/local/lib/python3.7/dist-packages (from yfinance) (1.19.5)\n",
            "Requirement already satisfied: lxml>=4.5.1 in /usr/local/lib/python3.7/dist-packages (from yfinance) (4.6.3)\n",
            "Requirement already satisfied: multitasking>=0.0.7 in /usr/local/lib/python3.7/dist-packages (from yfinance) (0.0.9)\n",
            "Requirement already satisfied: requests>=2.20 in /usr/local/lib/python3.7/dist-packages (from yfinance) (2.23.0)\n",
            "Requirement already satisfied: python-dateutil>=2.7.3 in /usr/local/lib/python3.7/dist-packages (from pandas>=0.24->yfinance) (2.8.2)\n",
            "Requirement already satisfied: pytz>=2017.2 in /usr/local/lib/python3.7/dist-packages (from pandas>=0.24->yfinance) (2018.9)\n",
            "Requirement already satisfied: six>=1.5 in /usr/local/lib/python3.7/dist-packages (from python-dateutil>=2.7.3->pandas>=0.24->yfinance) (1.15.0)\n",
            "Requirement already satisfied: urllib3!=1.25.0,!=1.25.1,<1.26,>=1.21.1 in /usr/local/lib/python3.7/dist-packages (from requests>=2.20->yfinance) (1.24.3)\n",
            "Requirement already satisfied: chardet<4,>=3.0.2 in /usr/local/lib/python3.7/dist-packages (from requests>=2.20->yfinance) (3.0.4)\n",
            "Requirement already satisfied: certifi>=2017.4.17 in /usr/local/lib/python3.7/dist-packages (from requests>=2.20->yfinance) (2021.5.30)\n",
            "Requirement already satisfied: idna<3,>=2.5 in /usr/local/lib/python3.7/dist-packages (from requests>=2.20->yfinance) (2.10)\n"
          ]
        }
      ]
    },
    {
      "cell_type": "markdown",
      "metadata": {
        "id": "T3NGELa3UWKg"
      },
      "source": [
        "# Start"
      ]
    },
    {
      "cell_type": "markdown",
      "metadata": {
        "id": "D5uJVLka1UmC"
      },
      "source": [
        "Getting Stock Price"
      ]
    },
    {
      "cell_type": "code",
      "metadata": {
        "id": "-3nQRvrE0BgB"
      },
      "source": [
        "# Importing different libraries\n",
        "import numpy as np\n",
        "import pandas as pd\n",
        "import matplotlib.pyplot as plt\n",
        "import seaborn as sns\n",
        "import yfinance as yf\n",
        "%matplotlib inline\n",
        "\n",
        "# used Reliance industries stock price \n",
        "data = yf.Ticker('SBIN.NS')\n",
        "\n",
        "# get historical market data of stock from the begining\n",
        "hist_stock = data.history(period=\"max\")"
      ],
      "execution_count": 2,
      "outputs": []
    },
    {
      "cell_type": "markdown",
      "metadata": {
        "id": "gKbur0q71aso"
      },
      "source": [
        "Getting SENSEX data"
      ]
    },
    {
      "cell_type": "code",
      "metadata": {
        "id": "tqrLae4_0GJH"
      },
      "source": [
        "# Sensex Ticker is '^BSESN' in Yahoo Finance website\n",
        "data = yf.Ticker('^BSESN')\n",
        "\n",
        "# get historical market data of stock\n",
        "hist_sensex = data.history(period=\"max\")"
      ],
      "execution_count": 3,
      "outputs": []
    },
    {
      "cell_type": "code",
      "metadata": {
        "colab": {
          "base_uri": "https://localhost:8080/",
          "height": 295
        },
        "id": "mk-vgTNX1pxY",
        "outputId": "03f01fe1-d1b1-48fe-fb71-2d277eb48cc4"
      },
      "source": [
        "# Here I have visualizes the stock data for Reliance\n",
        "plt.figure(figsize=(10,4))\n",
        "plt.plot(hist_stock.index, hist_stock['Close'])\n",
        "plt.xlabel(\"Date\")\n",
        "plt.ylabel(\"Close\")\n",
        "plt.title(\"Historical Close\");"
      ],
      "execution_count": 4,
      "outputs": [
        {
          "output_type": "display_data",
          "data": {
            "image/png": "[encoded data removed]",
            "text/plain": [
              "<Figure size 720x288 with 1 Axes>"
            ]
          },
          "metadata": {
            "needs_background": "light"
          }
        }
      ]
    },
    {
      "cell_type": "markdown",
      "metadata": {
        "id": "dqLSPYaH8ewh"
      },
      "source": [
        "**Stock Price Data**"
      ]
    },
    {
      "cell_type": "code",
      "metadata": {
        "colab": {
          "base_uri": "https://localhost:8080/",
          "height": 234
        },
        "id": "AjBLIEC611eW",
        "outputId": "c99c574f-72d8-49a1-883c-c0edd1faa3a6"
      },
      "source": [
        "hist_stock.tail()"
      ],
      "execution_count": 5,
      "outputs": [
        {
          "output_type": "execute_result",
          "data": {
            "text/html": [
              "<div>\n",
              "<style scoped>\n",
              "    .dataframe tbody tr th:only-of-type {\n",
              "        vertical-align: middle;\n",
              "    }\n",
              "\n",
              "    .dataframe tbody tr th {\n",
              "        vertical-align: top;\n",
              "    }\n",
              "\n",
              "    .dataframe thead th {\n",
              "        text-align: right;\n",
              "    }\n",
              "</style>\n",
              "<table border=\"1\" class=\"dataframe\">\n",
              "  <thead>\n",
              "    <tr style=\"text-align: right;\">\n",
              "      <th></th>\n",
              "      <th>Open</th>\n",
              "      <th>High</th>\n",
              "      <th>Low</th>\n",
              "      <th>Close</th>\n",
              "      <th>Volume</th>\n",
              "      <th>Dividends</th>\n",
              "      <th>Stock Splits</th>\n",
              "    </tr>\n",
              "    <tr>\n",
              "      <th>Date</th>\n",
              "      <th></th>\n",
              "      <th></th>\n",
              "      <th></th>\n",
              "      <th></th>\n",
              "      <th></th>\n",
              "      <th></th>\n",
              "      <th></th>\n",
              "    </tr>\n",
              "  </thead>\n",
              "  <tbody>\n",
              "    <tr>\n",
              "      <th>2021-10-01</th>\n",
              "      <td>448.500000</td>\n",
              "      <td>455.549988</td>\n",
              "      <td>443.799988</td>\n",
              "      <td>451.649994</td>\n",
              "      <td>14777309</td>\n",
              "      <td>0.0</td>\n",
              "      <td>0.0</td>\n",
              "    </tr>\n",
              "    <tr>\n",
              "      <th>2021-10-04</th>\n",
              "      <td>453.799988</td>\n",
              "      <td>464.399994</td>\n",
              "      <td>451.600006</td>\n",
              "      <td>463.149994</td>\n",
              "      <td>16246765</td>\n",
              "      <td>0.0</td>\n",
              "      <td>0.0</td>\n",
              "    </tr>\n",
              "    <tr>\n",
              "      <th>2021-10-05</th>\n",
              "      <td>462.000000</td>\n",
              "      <td>469.000000</td>\n",
              "      <td>458.700012</td>\n",
              "      <td>464.700012</td>\n",
              "      <td>16487568</td>\n",
              "      <td>0.0</td>\n",
              "      <td>0.0</td>\n",
              "    </tr>\n",
              "    <tr>\n",
              "      <th>2021-10-06</th>\n",
              "      <td>465.000000</td>\n",
              "      <td>471.000000</td>\n",
              "      <td>453.649994</td>\n",
              "      <td>457.200012</td>\n",
              "      <td>19056690</td>\n",
              "      <td>0.0</td>\n",
              "      <td>0.0</td>\n",
              "    </tr>\n",
              "    <tr>\n",
              "      <th>2021-10-07</th>\n",
              "      <td>462.100006</td>\n",
              "      <td>464.000000</td>\n",
              "      <td>457.100006</td>\n",
              "      <td>457.899994</td>\n",
              "      <td>9976846</td>\n",
              "      <td>0.0</td>\n",
              "      <td>0.0</td>\n",
              "    </tr>\n",
              "  </tbody>\n",
              "</table>\n",
              "</div>"
            ],
            "text/plain": [
              "                  Open        High  ...  Dividends  Stock Splits\n",
              "Date                                ...                         \n",
              "2021-10-01  448.500000  455.549988  ...        0.0           0.0\n",
              "2021-10-04  453.799988  464.399994  ...        0.0           0.0\n",
              "2021-10-05  462.000000  469.000000  ...        0.0           0.0\n",
              "2021-10-06  465.000000  471.000000  ...        0.0           0.0\n",
              "2021-10-07  462.100006  464.000000  ...        0.0           0.0\n",
              "\n",
              "[5 rows x 7 columns]"
            ]
          },
          "metadata": {},
          "execution_count": 5
        }
      ]
    },
    {
      "cell_type": "markdown",
      "metadata": {
        "id": "4Ht3TaDg8knI"
      },
      "source": [
        "SENSEX Data"
      ]
    },
    {
      "cell_type": "code",
      "metadata": {
        "colab": {
          "base_uri": "https://localhost:8080/",
          "height": 234
        },
        "id": "SvAtTvdP2GnE",
        "outputId": "6bd537f0-390c-414d-d338-f1b00cbd37e2"
      },
      "source": [
        "hist_sensex.tail()"
      ],
      "execution_count": 6,
      "outputs": [
        {
          "output_type": "execute_result",
          "data": {
            "text/html": [
              "<div>\n",
              "<style scoped>\n",
              "    .dataframe tbody tr th:only-of-type {\n",
              "        vertical-align: middle;\n",
              "    }\n",
              "\n",
              "    .dataframe tbody tr th {\n",
              "        vertical-align: top;\n",
              "    }\n",
              "\n",
              "    .dataframe thead th {\n",
              "        text-align: right;\n",
              "    }\n",
              "</style>\n",
              "<table border=\"1\" class=\"dataframe\">\n",
              "  <thead>\n",
              "    <tr style=\"text-align: right;\">\n",
              "      <th></th>\n",
              "      <th>Open</th>\n",
              "      <th>High</th>\n",
              "      <th>Low</th>\n",
              "      <th>Close</th>\n",
              "      <th>Volume</th>\n",
              "      <th>Dividends</th>\n",
              "      <th>Stock Splits</th>\n",
              "    </tr>\n",
              "    <tr>\n",
              "      <th>Date</th>\n",
              "      <th></th>\n",
              "      <th></th>\n",
              "      <th></th>\n",
              "      <th></th>\n",
              "      <th></th>\n",
              "      <th></th>\n",
              "      <th></th>\n",
              "    </tr>\n",
              "  </thead>\n",
              "  <tbody>\n",
              "    <tr>\n",
              "      <th>2021-10-01</th>\n",
              "      <td>58889.769531</td>\n",
              "      <td>58890.078125</td>\n",
              "      <td>58551.140625</td>\n",
              "      <td>58765.578125</td>\n",
              "      <td>10200</td>\n",
              "      <td>0</td>\n",
              "      <td>0</td>\n",
              "    </tr>\n",
              "    <tr>\n",
              "      <th>2021-10-04</th>\n",
              "      <td>59143.000000</td>\n",
              "      <td>59548.820312</td>\n",
              "      <td>58952.109375</td>\n",
              "      <td>59299.320312</td>\n",
              "      <td>10000</td>\n",
              "      <td>0</td>\n",
              "      <td>0</td>\n",
              "    </tr>\n",
              "    <tr>\n",
              "      <th>2021-10-05</th>\n",
              "      <td>59320.140625</td>\n",
              "      <td>59778.871094</td>\n",
              "      <td>59127.039062</td>\n",
              "      <td>59744.878906</td>\n",
              "      <td>12900</td>\n",
              "      <td>0</td>\n",
              "      <td>0</td>\n",
              "    </tr>\n",
              "    <tr>\n",
              "      <th>2021-10-06</th>\n",
              "      <td>59942.000000</td>\n",
              "      <td>59963.570312</td>\n",
              "      <td>59079.859375</td>\n",
              "      <td>59189.730469</td>\n",
              "      <td>7000</td>\n",
              "      <td>0</td>\n",
              "      <td>0</td>\n",
              "    </tr>\n",
              "    <tr>\n",
              "      <th>2021-10-07</th>\n",
              "      <td>59632.808594</td>\n",
              "      <td>59914.910156</td>\n",
              "      <td>59597.058594</td>\n",
              "      <td>59677.828125</td>\n",
              "      <td>0</td>\n",
              "      <td>0</td>\n",
              "      <td>0</td>\n",
              "    </tr>\n",
              "  </tbody>\n",
              "</table>\n",
              "</div>"
            ],
            "text/plain": [
              "                    Open          High  ...  Dividends  Stock Splits\n",
              "Date                                    ...                         \n",
              "2021-10-01  58889.769531  58890.078125  ...          0             0\n",
              "2021-10-04  59143.000000  59548.820312  ...          0             0\n",
              "2021-10-05  59320.140625  59778.871094  ...          0             0\n",
              "2021-10-06  59942.000000  59963.570312  ...          0             0\n",
              "2021-10-07  59632.808594  59914.910156  ...          0             0\n",
              "\n",
              "[5 rows x 7 columns]"
            ]
          },
          "metadata": {},
          "execution_count": 6
        }
      ]
    },
    {
      "cell_type": "code",
      "metadata": {
        "id": "LLSziFZnQyGo"
      },
      "source": [
        "#Getting data from Google Sheet\n",
        "sheet_id = '1DKQvp-dq7si_AaeVlWoTJnIT1d3Bq6Ky1uYaRvg5ErQ'\n",
        "sheet_name = 'MMI_Data'\n",
        "url = f\"https://docs.google.com/spreadsheets/d/{sheet_id}/gviz/tq?tqx=out:csv&sheet={sheet_name}\""
      ],
      "execution_count": 7,
      "outputs": []
    },
    {
      "cell_type": "code",
      "metadata": {
        "id": "Fbq9HT0rSAZF"
      },
      "source": [
        "tickertape_mmi=pd.read_csv(url)"
      ],
      "execution_count": 8,
      "outputs": []
    },
    {
      "cell_type": "code",
      "metadata": {
        "colab": {
          "base_uri": "https://localhost:8080/",
          "height": 417
        },
        "id": "SGuyVZaMp8Mt",
        "outputId": "19217b3f-6451-46d2-a1a9-a159c257dd5f"
      },
      "source": [
        "tickertape_mmi"
      ],
      "execution_count": 9,
      "outputs": [
        {
          "output_type": "execute_result",
          "data": {
            "text/html": [
              "<div>\n",
              "<style scoped>\n",
              "    .dataframe tbody tr th:only-of-type {\n",
              "        vertical-align: middle;\n",
              "    }\n",
              "\n",
              "    .dataframe tbody tr th {\n",
              "        vertical-align: top;\n",
              "    }\n",
              "\n",
              "    .dataframe thead th {\n",
              "        text-align: right;\n",
              "    }\n",
              "</style>\n",
              "<table border=\"1\" class=\"dataframe\">\n",
              "  <thead>\n",
              "    <tr style=\"text-align: right;\">\n",
              "      <th></th>\n",
              "      <th>Date</th>\n",
              "      <th>Market Mood Index</th>\n",
              "      <th>Nifty Index</th>\n",
              "      <th>Unnamed: 3</th>\n",
              "      <th>Unnamed: 4</th>\n",
              "    </tr>\n",
              "  </thead>\n",
              "  <tbody>\n",
              "    <tr>\n",
              "      <th>0</th>\n",
              "      <td>10-07-2021</td>\n",
              "      <td>35.52000</td>\n",
              "      <td>17853.20</td>\n",
              "      <td>NaN</td>\n",
              "      <td>NaN</td>\n",
              "    </tr>\n",
              "    <tr>\n",
              "      <th>1</th>\n",
              "      <td>10-06-2021</td>\n",
              "      <td>40.85000</td>\n",
              "      <td>17853.20</td>\n",
              "      <td>NaN</td>\n",
              "      <td>NaN</td>\n",
              "    </tr>\n",
              "    <tr>\n",
              "      <th>2</th>\n",
              "      <td>10-05-2021</td>\n",
              "      <td>47.70000</td>\n",
              "      <td>17546.65</td>\n",
              "      <td>NaN</td>\n",
              "      <td>NaN</td>\n",
              "    </tr>\n",
              "    <tr>\n",
              "      <th>3</th>\n",
              "      <td>10-04-2021</td>\n",
              "      <td>42.75000</td>\n",
              "      <td>17853.20</td>\n",
              "      <td>NaN</td>\n",
              "      <td>NaN</td>\n",
              "    </tr>\n",
              "    <tr>\n",
              "      <th>4</th>\n",
              "      <td>10-01-2021</td>\n",
              "      <td>40.28000</td>\n",
              "      <td>17853.20</td>\n",
              "      <td>NaN</td>\n",
              "      <td>NaN</td>\n",
              "    </tr>\n",
              "    <tr>\n",
              "      <th>...</th>\n",
              "      <td>...</td>\n",
              "      <td>...</td>\n",
              "      <td>...</td>\n",
              "      <td>...</td>\n",
              "      <td>...</td>\n",
              "    </tr>\n",
              "    <tr>\n",
              "      <th>2331</th>\n",
              "      <td>03-16-2012</td>\n",
              "      <td>43.21962</td>\n",
              "      <td>5317.90</td>\n",
              "      <td>NaN</td>\n",
              "      <td>NaN</td>\n",
              "    </tr>\n",
              "    <tr>\n",
              "      <th>2332</th>\n",
              "      <td>03-15-2012</td>\n",
              "      <td>52.37189</td>\n",
              "      <td>5380.50</td>\n",
              "      <td>NaN</td>\n",
              "      <td>NaN</td>\n",
              "    </tr>\n",
              "    <tr>\n",
              "      <th>2333</th>\n",
              "      <td>03-14-2012</td>\n",
              "      <td>64.82522</td>\n",
              "      <td>5463.90</td>\n",
              "      <td>NaN</td>\n",
              "      <td>NaN</td>\n",
              "    </tr>\n",
              "    <tr>\n",
              "      <th>2334</th>\n",
              "      <td>03-13-2012</td>\n",
              "      <td>64.14598</td>\n",
              "      <td>5429.50</td>\n",
              "      <td>NaN</td>\n",
              "      <td>NaN</td>\n",
              "    </tr>\n",
              "    <tr>\n",
              "      <th>2335</th>\n",
              "      <td>3/12/2012</td>\n",
              "      <td>60.44333</td>\n",
              "      <td>5359.55</td>\n",
              "      <td>NaN</td>\n",
              "      <td>NaN</td>\n",
              "    </tr>\n",
              "  </tbody>\n",
              "</table>\n",
              "<p>2336 rows × 5 columns</p>\n",
              "</div>"
            ],
            "text/plain": [
              "            Date  Market Mood Index  Nifty Index  Unnamed: 3  Unnamed: 4\n",
              "0     10-07-2021           35.52000     17853.20         NaN         NaN\n",
              "1     10-06-2021           40.85000     17853.20         NaN         NaN\n",
              "2     10-05-2021           47.70000     17546.65         NaN         NaN\n",
              "3     10-04-2021           42.75000     17853.20         NaN         NaN\n",
              "4     10-01-2021           40.28000     17853.20         NaN         NaN\n",
              "...          ...                ...          ...         ...         ...\n",
              "2331  03-16-2012           43.21962      5317.90         NaN         NaN\n",
              "2332  03-15-2012           52.37189      5380.50         NaN         NaN\n",
              "2333  03-14-2012           64.82522      5463.90         NaN         NaN\n",
              "2334  03-13-2012           64.14598      5429.50         NaN         NaN\n",
              "2335   3/12/2012           60.44333      5359.55         NaN         NaN\n",
              "\n",
              "[2336 rows x 5 columns]"
            ]
          },
          "metadata": {},
          "execution_count": 9
        }
      ]
    },
    {
      "cell_type": "code",
      "metadata": {
        "colab": {
          "base_uri": "https://localhost:8080/",
          "height": 417
        },
        "id": "qDHlCVHQZ4ZZ",
        "outputId": "d58560c5-efcc-44e3-f7ce-95f649d8d737"
      },
      "source": [
        "#changing Date column to YYYY-MM-DD format\n",
        "tickertape_mmi[\"Date\"] = pd.to_datetime(tickertape_mmi[\"Date\"]).dt.strftime('%Y-%m-%d')\n",
        "tickertape_mmi"
      ],
      "execution_count": 10,
      "outputs": [
        {
          "output_type": "execute_result",
          "data": {
            "text/html": [
              "<div>\n",
              "<style scoped>\n",
              "    .dataframe tbody tr th:only-of-type {\n",
              "        vertical-align: middle;\n",
              "    }\n",
              "\n",
              "    .dataframe tbody tr th {\n",
              "        vertical-align: top;\n",
              "    }\n",
              "\n",
              "    .dataframe thead th {\n",
              "        text-align: right;\n",
              "    }\n",
              "</style>\n",
              "<table border=\"1\" class=\"dataframe\">\n",
              "  <thead>\n",
              "    <tr style=\"text-align: right;\">\n",
              "      <th></th>\n",
              "      <th>Date</th>\n",
              "      <th>Market Mood Index</th>\n",
              "      <th>Nifty Index</th>\n",
              "      <th>Unnamed: 3</th>\n",
              "      <th>Unnamed: 4</th>\n",
              "    </tr>\n",
              "  </thead>\n",
              "  <tbody>\n",
              "    <tr>\n",
              "      <th>0</th>\n",
              "      <td>2021-10-07</td>\n",
              "      <td>35.52000</td>\n",
              "      <td>17853.20</td>\n",
              "      <td>NaN</td>\n",
              "      <td>NaN</td>\n",
              "    </tr>\n",
              "    <tr>\n",
              "      <th>1</th>\n",
              "      <td>2021-10-06</td>\n",
              "      <td>40.85000</td>\n",
              "      <td>17853.20</td>\n",
              "      <td>NaN</td>\n",
              "      <td>NaN</td>\n",
              "    </tr>\n",
              "    <tr>\n",
              "      <th>2</th>\n",
              "      <td>2021-10-05</td>\n",
              "      <td>47.70000</td>\n",
              "      <td>17546.65</td>\n",
              "      <td>NaN</td>\n",
              "      <td>NaN</td>\n",
              "    </tr>\n",
              "    <tr>\n",
              "      <th>3</th>\n",
              "      <td>2021-10-04</td>\n",
              "      <td>42.75000</td>\n",
              "      <td>17853.20</td>\n",
              "      <td>NaN</td>\n",
              "      <td>NaN</td>\n",
              "    </tr>\n",
              "    <tr>\n",
              "      <th>4</th>\n",
              "      <td>2021-10-01</td>\n",
              "      <td>40.28000</td>\n",
              "      <td>17853.20</td>\n",
              "      <td>NaN</td>\n",
              "      <td>NaN</td>\n",
              "    </tr>\n",
              "    <tr>\n",
              "      <th>...</th>\n",
              "      <td>...</td>\n",
              "      <td>...</td>\n",
              "      <td>...</td>\n",
              "      <td>...</td>\n",
              "      <td>...</td>\n",
              "    </tr>\n",
              "    <tr>\n",
              "      <th>2331</th>\n",
              "      <td>2012-03-16</td>\n",
              "      <td>43.21962</td>\n",
              "      <td>5317.90</td>\n",
              "      <td>NaN</td>\n",
              "      <td>NaN</td>\n",
              "    </tr>\n",
              "    <tr>\n",
              "      <th>2332</th>\n",
              "      <td>2012-03-15</td>\n",
              "      <td>52.37189</td>\n",
              "      <td>5380.50</td>\n",
              "      <td>NaN</td>\n",
              "      <td>NaN</td>\n",
              "    </tr>\n",
              "    <tr>\n",
              "      <th>2333</th>\n",
              "      <td>2012-03-14</td>\n",
              "      <td>64.82522</td>\n",
              "      <td>5463.90</td>\n",
              "      <td>NaN</td>\n",
              "      <td>NaN</td>\n",
              "    </tr>\n",
              "    <tr>\n",
              "      <th>2334</th>\n",
              "      <td>2012-03-13</td>\n",
              "      <td>64.14598</td>\n",
              "      <td>5429.50</td>\n",
              "      <td>NaN</td>\n",
              "      <td>NaN</td>\n",
              "    </tr>\n",
              "    <tr>\n",
              "      <th>2335</th>\n",
              "      <td>2012-03-12</td>\n",
              "      <td>60.44333</td>\n",
              "      <td>5359.55</td>\n",
              "      <td>NaN</td>\n",
              "      <td>NaN</td>\n",
              "    </tr>\n",
              "  </tbody>\n",
              "</table>\n",
              "<p>2336 rows × 5 columns</p>\n",
              "</div>"
            ],
            "text/plain": [
              "            Date  Market Mood Index  Nifty Index  Unnamed: 3  Unnamed: 4\n",
              "0     2021-10-07           35.52000     17853.20         NaN         NaN\n",
              "1     2021-10-06           40.85000     17853.20         NaN         NaN\n",
              "2     2021-10-05           47.70000     17546.65         NaN         NaN\n",
              "3     2021-10-04           42.75000     17853.20         NaN         NaN\n",
              "4     2021-10-01           40.28000     17853.20         NaN         NaN\n",
              "...          ...                ...          ...         ...         ...\n",
              "2331  2012-03-16           43.21962      5317.90         NaN         NaN\n",
              "2332  2012-03-15           52.37189      5380.50         NaN         NaN\n",
              "2333  2012-03-14           64.82522      5463.90         NaN         NaN\n",
              "2334  2012-03-13           64.14598      5429.50         NaN         NaN\n",
              "2335  2012-03-12           60.44333      5359.55         NaN         NaN\n",
              "\n",
              "[2336 rows x 5 columns]"
            ]
          },
          "metadata": {},
          "execution_count": 10
        }
      ]
    },
    {
      "cell_type": "code",
      "metadata": {
        "id": "aRq1Ynrtq5Y3"
      },
      "source": [
        "#changing the date column to date index\n",
        "tickertape_mmi.set_index(tickertape_mmi['Date'], drop=False, append=False, inplace=True, verify_integrity=False)"
      ],
      "execution_count": 11,
      "outputs": []
    },
    {
      "cell_type": "code",
      "metadata": {
        "colab": {
          "base_uri": "https://localhost:8080/",
          "height": 447
        },
        "id": "0kwMbRdhrtBW",
        "outputId": "338d6d92-be81-4143-88df-308f3a9e7999"
      },
      "source": [
        "tickertape_mmi[['Market Mood Index']]"
      ],
      "execution_count": 12,
      "outputs": [
        {
          "output_type": "execute_result",
          "data": {
            "text/html": [
              "<div>\n",
              "<style scoped>\n",
              "    .dataframe tbody tr th:only-of-type {\n",
              "        vertical-align: middle;\n",
              "    }\n",
              "\n",
              "    .dataframe tbody tr th {\n",
              "        vertical-align: top;\n",
              "    }\n",
              "\n",
              "    .dataframe thead th {\n",
              "        text-align: right;\n",
              "    }\n",
              "</style>\n",
              "<table border=\"1\" class=\"dataframe\">\n",
              "  <thead>\n",
              "    <tr style=\"text-align: right;\">\n",
              "      <th></th>\n",
              "      <th>Market Mood Index</th>\n",
              "    </tr>\n",
              "    <tr>\n",
              "      <th>Date</th>\n",
              "      <th></th>\n",
              "    </tr>\n",
              "  </thead>\n",
              "  <tbody>\n",
              "    <tr>\n",
              "      <th>2021-10-07</th>\n",
              "      <td>35.52000</td>\n",
              "    </tr>\n",
              "    <tr>\n",
              "      <th>2021-10-06</th>\n",
              "      <td>40.85000</td>\n",
              "    </tr>\n",
              "    <tr>\n",
              "      <th>2021-10-05</th>\n",
              "      <td>47.70000</td>\n",
              "    </tr>\n",
              "    <tr>\n",
              "      <th>2021-10-04</th>\n",
              "      <td>42.75000</td>\n",
              "    </tr>\n",
              "    <tr>\n",
              "      <th>2021-10-01</th>\n",
              "      <td>40.28000</td>\n",
              "    </tr>\n",
              "    <tr>\n",
              "      <th>...</th>\n",
              "      <td>...</td>\n",
              "    </tr>\n",
              "    <tr>\n",
              "      <th>2012-03-16</th>\n",
              "      <td>43.21962</td>\n",
              "    </tr>\n",
              "    <tr>\n",
              "      <th>2012-03-15</th>\n",
              "      <td>52.37189</td>\n",
              "    </tr>\n",
              "    <tr>\n",
              "      <th>2012-03-14</th>\n",
              "      <td>64.82522</td>\n",
              "    </tr>\n",
              "    <tr>\n",
              "      <th>2012-03-13</th>\n",
              "      <td>64.14598</td>\n",
              "    </tr>\n",
              "    <tr>\n",
              "      <th>2012-03-12</th>\n",
              "      <td>60.44333</td>\n",
              "    </tr>\n",
              "  </tbody>\n",
              "</table>\n",
              "<p>2336 rows × 1 columns</p>\n",
              "</div>"
            ],
            "text/plain": [
              "            Market Mood Index\n",
              "Date                         \n",
              "2021-10-07           35.52000\n",
              "2021-10-06           40.85000\n",
              "2021-10-05           47.70000\n",
              "2021-10-04           42.75000\n",
              "2021-10-01           40.28000\n",
              "...                       ...\n",
              "2012-03-16           43.21962\n",
              "2012-03-15           52.37189\n",
              "2012-03-14           64.82522\n",
              "2012-03-13           64.14598\n",
              "2012-03-12           60.44333\n",
              "\n",
              "[2336 rows x 1 columns]"
            ]
          },
          "metadata": {},
          "execution_count": 12
        }
      ]
    },
    {
      "cell_type": "markdown",
      "metadata": {
        "id": "feWEVSdX9xwc"
      },
      "source": [
        "Create Merged Data"
      ]
    },
    {
      "cell_type": "code",
      "metadata": {
        "id": "H03A66BB8dPK"
      },
      "source": [
        "# for simplicity, took only Stock 'Close' and 'Volume' data\n",
        "stock_close = hist_stock[['Close','Volume']]\n",
        "\n",
        "# for simplicity, took only Sensex 'Close' and 'Volume' data\n",
        "sensex_close = hist_sensex[['Close','Volume']]\n",
        "\n",
        "#Inner Join the above two data tables\n",
        "merged_data = pd.merge(stock_close, sensex_close, on =None, how ='inner', left_index=True, right_index=True, suffixes=('_stock', '_sensex'))"
      ],
      "execution_count": 13,
      "outputs": []
    },
    {
      "cell_type": "code",
      "metadata": {
        "id": "KMBgxgRItQMo"
      },
      "source": [
        "# for simplicity, took only Sensex 'Close' and 'Volume' data\n",
        "mmi_indicator = tickertape_mmi[['Market Mood Index','Nifty Index']]\n",
        "\n",
        "#Inner Join the above two data tables\n",
        "merged_data = pd.merge(mmi_indicator, merged_data, on =None, how ='inner', left_index=True, right_index=True)"
      ],
      "execution_count": 14,
      "outputs": []
    },
    {
      "cell_type": "code",
      "metadata": {
        "colab": {
          "base_uri": "https://localhost:8080/",
          "height": 234
        },
        "id": "sVWMeWOAt2hH",
        "outputId": "292ebd74-fdf7-42e7-b15a-c945ae818fb7"
      },
      "source": [
        "merged_data.tail()"
      ],
      "execution_count": 15,
      "outputs": [
        {
          "output_type": "execute_result",
          "data": {
            "text/html": [
              "<div>\n",
              "<style scoped>\n",
              "    .dataframe tbody tr th:only-of-type {\n",
              "        vertical-align: middle;\n",
              "    }\n",
              "\n",
              "    .dataframe tbody tr th {\n",
              "        vertical-align: top;\n",
              "    }\n",
              "\n",
              "    .dataframe thead th {\n",
              "        text-align: right;\n",
              "    }\n",
              "</style>\n",
              "<table border=\"1\" class=\"dataframe\">\n",
              "  <thead>\n",
              "    <tr style=\"text-align: right;\">\n",
              "      <th></th>\n",
              "      <th>Market Mood Index</th>\n",
              "      <th>Nifty Index</th>\n",
              "      <th>Close_stock</th>\n",
              "      <th>Volume_stock</th>\n",
              "      <th>Close_sensex</th>\n",
              "      <th>Volume_sensex</th>\n",
              "    </tr>\n",
              "    <tr>\n",
              "      <th>Date</th>\n",
              "      <th></th>\n",
              "      <th></th>\n",
              "      <th></th>\n",
              "      <th></th>\n",
              "      <th></th>\n",
              "      <th></th>\n",
              "    </tr>\n",
              "  </thead>\n",
              "  <tbody>\n",
              "    <tr>\n",
              "      <th>2021-10-01</th>\n",
              "      <td>40.28</td>\n",
              "      <td>17853.20</td>\n",
              "      <td>451.649994</td>\n",
              "      <td>14777309</td>\n",
              "      <td>58765.578125</td>\n",
              "      <td>10200</td>\n",
              "    </tr>\n",
              "    <tr>\n",
              "      <th>2021-10-04</th>\n",
              "      <td>42.75</td>\n",
              "      <td>17853.20</td>\n",
              "      <td>463.149994</td>\n",
              "      <td>16246765</td>\n",
              "      <td>59299.320312</td>\n",
              "      <td>10000</td>\n",
              "    </tr>\n",
              "    <tr>\n",
              "      <th>2021-10-05</th>\n",
              "      <td>47.70</td>\n",
              "      <td>17546.65</td>\n",
              "      <td>464.700012</td>\n",
              "      <td>16487568</td>\n",
              "      <td>59744.878906</td>\n",
              "      <td>12900</td>\n",
              "    </tr>\n",
              "    <tr>\n",
              "      <th>2021-10-06</th>\n",
              "      <td>40.85</td>\n",
              "      <td>17853.20</td>\n",
              "      <td>457.200012</td>\n",
              "      <td>19056690</td>\n",
              "      <td>59189.730469</td>\n",
              "      <td>7000</td>\n",
              "    </tr>\n",
              "    <tr>\n",
              "      <th>2021-10-07</th>\n",
              "      <td>35.52</td>\n",
              "      <td>17853.20</td>\n",
              "      <td>457.899994</td>\n",
              "      <td>9976846</td>\n",
              "      <td>59677.828125</td>\n",
              "      <td>0</td>\n",
              "    </tr>\n",
              "  </tbody>\n",
              "</table>\n",
              "</div>"
            ],
            "text/plain": [
              "            Market Mood Index  Nifty Index  ...  Close_sensex  Volume_sensex\n",
              "Date                                        ...                             \n",
              "2021-10-01              40.28     17853.20  ...  58765.578125          10200\n",
              "2021-10-04              42.75     17853.20  ...  59299.320312          10000\n",
              "2021-10-05              47.70     17546.65  ...  59744.878906          12900\n",
              "2021-10-06              40.85     17853.20  ...  59189.730469           7000\n",
              "2021-10-07              35.52     17853.20  ...  59677.828125              0\n",
              "\n",
              "[5 rows x 6 columns]"
            ]
          },
          "metadata": {},
          "execution_count": 15
        }
      ]
    },
    {
      "cell_type": "markdown",
      "metadata": {
        "id": "0A6zcU3_96gv"
      },
      "source": [
        "**Getting only Stock close, sensex data, MMI data**"
      ]
    },
    {
      "cell_type": "code",
      "metadata": {
        "id": "b9pKKe229Op4"
      },
      "source": [
        "data = merged_data[['Close_stock','Close_sensex','Market Mood Index']]"
      ],
      "execution_count": 16,
      "outputs": []
    },
    {
      "cell_type": "code",
      "metadata": {
        "colab": {
          "base_uri": "https://localhost:8080/"
        },
        "id": "B7o5nqDN9dnK",
        "outputId": "583d798e-16e1-4ae6-d224-c363382cf51f"
      },
      "source": [
        "# Null value check\n",
        "data = data.dropna()\n",
        "data.isnull().sum()"
      ],
      "execution_count": 17,
      "outputs": [
        {
          "output_type": "execute_result",
          "data": {
            "text/plain": [
              "Close_stock          0\n",
              "Close_sensex         0\n",
              "Market Mood Index    0\n",
              "dtype: int64"
            ]
          },
          "metadata": {},
          "execution_count": 17
        }
      ]
    },
    {
      "cell_type": "markdown",
      "metadata": {
        "id": "RAcaxQPOoHUF"
      },
      "source": [
        "200 Days Moving Average"
      ]
    },
    {
      "cell_type": "code",
      "metadata": {
        "id": "l0s3u3z59mb9"
      },
      "source": [
        "data.insert(loc=1,column='200_MA_stock', value = data['Close_stock'].rolling(200).mean())"
      ],
      "execution_count": 18,
      "outputs": []
    },
    {
      "cell_type": "markdown",
      "metadata": {
        "id": "nfbkeGSDoLLL"
      },
      "source": [
        "21 Days Moving Average"
      ]
    },
    {
      "cell_type": "code",
      "metadata": {
        "id": "VQN89NcAnfoO"
      },
      "source": [
        "data.insert(loc=1,column='21_MA_stock', value = data['Close_stock'].rolling(21).mean())"
      ],
      "execution_count": 19,
      "outputs": []
    },
    {
      "cell_type": "markdown",
      "metadata": {
        "id": "svJDC9bBoRAT"
      },
      "source": [
        "13 Days Moving Average"
      ]
    },
    {
      "cell_type": "code",
      "metadata": {
        "id": "jRJs4LsTnvyX"
      },
      "source": [
        "data.insert(loc=1,column='13_MA_stock', value = data['Close_stock'].rolling(13).mean())"
      ],
      "execution_count": 20,
      "outputs": []
    },
    {
      "cell_type": "markdown",
      "metadata": {
        "id": "SahhL8IloUpA"
      },
      "source": [
        "5 Days Moving Average"
      ]
    },
    {
      "cell_type": "code",
      "metadata": {
        "id": "2jl_NOn2n1EI"
      },
      "source": [
        "data.insert(loc=1,column='5_MA_stock', value = data['Close_stock'].rolling(5).mean())"
      ],
      "execution_count": 21,
      "outputs": []
    },
    {
      "cell_type": "code",
      "metadata": {
        "colab": {
          "base_uri": "https://localhost:8080/",
          "height": 234
        },
        "id": "jmMSQNdJn5V6",
        "outputId": "89f555d8-c99f-498f-f38d-37ef14377957"
      },
      "source": [
        "data.head()"
      ],
      "execution_count": 22,
      "outputs": [
        {
          "output_type": "execute_result",
          "data": {
            "text/html": [
              "<div>\n",
              "<style scoped>\n",
              "    .dataframe tbody tr th:only-of-type {\n",
              "        vertical-align: middle;\n",
              "    }\n",
              "\n",
              "    .dataframe tbody tr th {\n",
              "        vertical-align: top;\n",
              "    }\n",
              "\n",
              "    .dataframe thead th {\n",
              "        text-align: right;\n",
              "    }\n",
              "</style>\n",
              "<table border=\"1\" class=\"dataframe\">\n",
              "  <thead>\n",
              "    <tr style=\"text-align: right;\">\n",
              "      <th></th>\n",
              "      <th>Close_stock</th>\n",
              "      <th>5_MA_stock</th>\n",
              "      <th>13_MA_stock</th>\n",
              "      <th>21_MA_stock</th>\n",
              "      <th>200_MA_stock</th>\n",
              "      <th>Close_sensex</th>\n",
              "      <th>Market Mood Index</th>\n",
              "    </tr>\n",
              "    <tr>\n",
              "      <th>Date</th>\n",
              "      <th></th>\n",
              "      <th></th>\n",
              "      <th></th>\n",
              "      <th></th>\n",
              "      <th></th>\n",
              "      <th></th>\n",
              "      <th></th>\n",
              "    </tr>\n",
              "  </thead>\n",
              "  <tbody>\n",
              "    <tr>\n",
              "      <th>2012-03-12</th>\n",
              "      <td>209.948807</td>\n",
              "      <td>NaN</td>\n",
              "      <td>NaN</td>\n",
              "      <td>NaN</td>\n",
              "      <td>NaN</td>\n",
              "      <td>17587.669922</td>\n",
              "      <td>60.44333</td>\n",
              "    </tr>\n",
              "    <tr>\n",
              "      <th>2012-03-13</th>\n",
              "      <td>211.466095</td>\n",
              "      <td>NaN</td>\n",
              "      <td>NaN</td>\n",
              "      <td>NaN</td>\n",
              "      <td>NaN</td>\n",
              "      <td>17813.619141</td>\n",
              "      <td>64.14598</td>\n",
              "    </tr>\n",
              "    <tr>\n",
              "      <th>2012-03-14</th>\n",
              "      <td>213.946442</td>\n",
              "      <td>NaN</td>\n",
              "      <td>NaN</td>\n",
              "      <td>NaN</td>\n",
              "      <td>NaN</td>\n",
              "      <td>17919.300781</td>\n",
              "      <td>64.82522</td>\n",
              "    </tr>\n",
              "    <tr>\n",
              "      <th>2012-03-15</th>\n",
              "      <td>208.903992</td>\n",
              "      <td>NaN</td>\n",
              "      <td>NaN</td>\n",
              "      <td>NaN</td>\n",
              "      <td>NaN</td>\n",
              "      <td>17675.849609</td>\n",
              "      <td>52.37189</td>\n",
              "    </tr>\n",
              "    <tr>\n",
              "      <th>2012-03-16</th>\n",
              "      <td>202.416870</td>\n",
              "      <td>209.336441</td>\n",
              "      <td>NaN</td>\n",
              "      <td>NaN</td>\n",
              "      <td>NaN</td>\n",
              "      <td>17466.199219</td>\n",
              "      <td>43.21962</td>\n",
              "    </tr>\n",
              "  </tbody>\n",
              "</table>\n",
              "</div>"
            ],
            "text/plain": [
              "            Close_stock  5_MA_stock  ...  Close_sensex  Market Mood Index\n",
              "Date                                 ...                                 \n",
              "2012-03-12   209.948807         NaN  ...  17587.669922           60.44333\n",
              "2012-03-13   211.466095         NaN  ...  17813.619141           64.14598\n",
              "2012-03-14   213.946442         NaN  ...  17919.300781           64.82522\n",
              "2012-03-15   208.903992         NaN  ...  17675.849609           52.37189\n",
              "2012-03-16   202.416870  209.336441  ...  17466.199219           43.21962\n",
              "\n",
              "[5 rows x 7 columns]"
            ]
          },
          "metadata": {},
          "execution_count": 22
        }
      ]
    },
    {
      "cell_type": "markdown",
      "metadata": {
        "id": "dTFhwNR3sUOy"
      },
      "source": [
        "Creating the RSI indicator"
      ]
    },
    {
      "cell_type": "code",
      "metadata": {
        "colab": {
          "base_uri": "https://localhost:8080/"
        },
        "id": "04wOlqu0-ix5",
        "outputId": "80e0eee8-f4e4-481f-d085-b518d42b038e"
      },
      "source": [
        "change = data['Close_stock'].diff(1)\n",
        "\n",
        "\n",
        "is_gain, is_loss = change > 0, change < 0\n",
        "gain, loss = change, -change\n",
        "\n",
        "\n",
        "gain[is_loss] = 0\n",
        "loss[is_gain] = 0\n",
        "\n",
        "\n",
        "gain.name = 'gain'\n",
        "loss.name = 'loss'\n",
        "\n",
        "\n",
        "n = 14\n",
        "avg_gain = change * np.nan\n",
        "avg_loss = change * np.nan\n",
        "\n",
        "\n",
        "avg_gain[n] = gain[:n+1].mean()\n",
        "avg_loss[n] = loss[:n+1].mean()\n",
        "\n",
        "\n",
        "avg_gain.name = 'avg_gain'\n",
        "avg_loss.name = 'avg_loss'\n",
        "\n",
        "\n",
        "avg_df = pd.concat([gain, loss, avg_gain, avg_loss], axis=1)\n",
        "print(avg_df.iloc[:16,:])"
      ],
      "execution_count": 23,
      "outputs": [
        {
          "output_type": "stream",
          "name": "stdout",
          "text": [
            "                gain      loss  avg_gain  avg_loss\n",
            "Date                                              \n",
            "2012-03-12       NaN       NaN       NaN       NaN\n",
            "2012-03-13  1.517288  0.000000       NaN       NaN\n",
            "2012-03-14  2.480347  0.000000       NaN       NaN\n",
            "2012-03-15  0.000000  5.042450       NaN       NaN\n",
            "2012-03-16  0.000000  6.487122       NaN       NaN\n",
            "2012-03-19  0.000000  6.391647       NaN       NaN\n",
            "2012-03-20  2.707474  0.000000       NaN       NaN\n",
            "2012-03-21  4.133942  0.000000       NaN       NaN\n",
            "2012-03-22  0.000000  6.564331       NaN       NaN\n",
            "2012-03-23  0.558762  0.000000       NaN       NaN\n",
            "2012-03-26  0.000000  4.479172       NaN       NaN\n",
            "2012-03-27  1.063019  0.000000       NaN       NaN\n",
            "2012-03-28  0.000000  4.533676       NaN       NaN\n",
            "2012-03-29  0.000000  1.626328       NaN       NaN\n",
            "2012-03-30  3.179947  0.000000  1.117198  2.508909\n",
            "2012-04-02  3.093613  0.000000       NaN       NaN\n"
          ]
        }
      ]
    },
    {
      "cell_type": "code",
      "metadata": {
        "id": "oD9roSJD-8xD"
      },
      "source": [
        "period = n\n",
        "\n",
        "\n",
        "# used (len(avg_df)-1) because if I use len(avg_df), the assigning value will be out of bound\n",
        "for n in range(period,len(avg_df)-1):\n",
        "    \n",
        "    avg_df['avg_gain'][n+1] = (((avg_df['avg_gain'][n])*(period-1))+(avg_df['gain'][n+1]))/period\n",
        "    avg_df['avg_loss'][n+1] = (((avg_df['avg_loss'][n])*(period-1))+(avg_df['loss'][n+1]))/period"
      ],
      "execution_count": 24,
      "outputs": []
    },
    {
      "cell_type": "code",
      "metadata": {
        "colab": {
          "base_uri": "https://localhost:8080/",
          "height": 388
        },
        "id": "6kgviUrLAHBL",
        "outputId": "83eb8b73-32f0-436a-f915-e3668abcacb8"
      },
      "source": [
        "avg_df.tail(10)"
      ],
      "execution_count": 25,
      "outputs": [
        {
          "output_type": "execute_result",
          "data": {
            "text/html": [
              "<div>\n",
              "<style scoped>\n",
              "    .dataframe tbody tr th:only-of-type {\n",
              "        vertical-align: middle;\n",
              "    }\n",
              "\n",
              "    .dataframe tbody tr th {\n",
              "        vertical-align: top;\n",
              "    }\n",
              "\n",
              "    .dataframe thead th {\n",
              "        text-align: right;\n",
              "    }\n",
              "</style>\n",
              "<table border=\"1\" class=\"dataframe\">\n",
              "  <thead>\n",
              "    <tr style=\"text-align: right;\">\n",
              "      <th></th>\n",
              "      <th>gain</th>\n",
              "      <th>loss</th>\n",
              "      <th>avg_gain</th>\n",
              "      <th>avg_loss</th>\n",
              "    </tr>\n",
              "    <tr>\n",
              "      <th>Date</th>\n",
              "      <th></th>\n",
              "      <th></th>\n",
              "      <th></th>\n",
              "      <th></th>\n",
              "    </tr>\n",
              "  </thead>\n",
              "  <tbody>\n",
              "    <tr>\n",
              "      <th>2021-09-24</th>\n",
              "      <td>0.000000</td>\n",
              "      <td>9.049988</td>\n",
              "      <td>3.221349</td>\n",
              "      <td>2.800250</td>\n",
              "    </tr>\n",
              "    <tr>\n",
              "      <th>2021-09-27</th>\n",
              "      <td>5.850006</td>\n",
              "      <td>0.000000</td>\n",
              "      <td>3.409110</td>\n",
              "      <td>2.600232</td>\n",
              "    </tr>\n",
              "    <tr>\n",
              "      <th>2021-09-28</th>\n",
              "      <td>0.000000</td>\n",
              "      <td>1.700012</td>\n",
              "      <td>3.165603</td>\n",
              "      <td>2.535931</td>\n",
              "    </tr>\n",
              "    <tr>\n",
              "      <th>2021-09-29</th>\n",
              "      <td>15.100006</td>\n",
              "      <td>0.000000</td>\n",
              "      <td>4.018060</td>\n",
              "      <td>2.354793</td>\n",
              "    </tr>\n",
              "    <tr>\n",
              "      <th>2021-09-30</th>\n",
              "      <td>0.000000</td>\n",
              "      <td>7.000000</td>\n",
              "      <td>3.731056</td>\n",
              "      <td>2.686593</td>\n",
              "    </tr>\n",
              "    <tr>\n",
              "      <th>2021-10-01</th>\n",
              "      <td>0.000000</td>\n",
              "      <td>1.350006</td>\n",
              "      <td>3.464552</td>\n",
              "      <td>2.591123</td>\n",
              "    </tr>\n",
              "    <tr>\n",
              "      <th>2021-10-04</th>\n",
              "      <td>11.500000</td>\n",
              "      <td>0.000000</td>\n",
              "      <td>4.038512</td>\n",
              "      <td>2.406043</td>\n",
              "    </tr>\n",
              "    <tr>\n",
              "      <th>2021-10-05</th>\n",
              "      <td>1.550018</td>\n",
              "      <td>0.000000</td>\n",
              "      <td>3.860763</td>\n",
              "      <td>2.234182</td>\n",
              "    </tr>\n",
              "    <tr>\n",
              "      <th>2021-10-06</th>\n",
              "      <td>0.000000</td>\n",
              "      <td>7.500000</td>\n",
              "      <td>3.584994</td>\n",
              "      <td>2.610312</td>\n",
              "    </tr>\n",
              "    <tr>\n",
              "      <th>2021-10-07</th>\n",
              "      <td>0.699982</td>\n",
              "      <td>0.000000</td>\n",
              "      <td>3.378922</td>\n",
              "      <td>2.423861</td>\n",
              "    </tr>\n",
              "  </tbody>\n",
              "</table>\n",
              "</div>"
            ],
            "text/plain": [
              "                 gain      loss  avg_gain  avg_loss\n",
              "Date                                               \n",
              "2021-09-24   0.000000  9.049988  3.221349  2.800250\n",
              "2021-09-27   5.850006  0.000000  3.409110  2.600232\n",
              "2021-09-28   0.000000  1.700012  3.165603  2.535931\n",
              "2021-09-29  15.100006  0.000000  4.018060  2.354793\n",
              "2021-09-30   0.000000  7.000000  3.731056  2.686593\n",
              "2021-10-01   0.000000  1.350006  3.464552  2.591123\n",
              "2021-10-04  11.500000  0.000000  4.038512  2.406043\n",
              "2021-10-05   1.550018  0.000000  3.860763  2.234182\n",
              "2021-10-06   0.000000  7.500000  3.584994  2.610312\n",
              "2021-10-07   0.699982  0.000000  3.378922  2.423861"
            ]
          },
          "metadata": {},
          "execution_count": 25
        }
      ]
    },
    {
      "cell_type": "code",
      "metadata": {
        "colab": {
          "base_uri": "https://localhost:8080/",
          "height": 447
        },
        "id": "ocQVwodFAJ0b",
        "outputId": "4e00957e-cb36-49f7-b878-cfdc96e5280e"
      },
      "source": [
        "avg_df['Relative Strength'] = avg_df['avg_gain']/avg_df['avg_loss']\n",
        "avg_df['RSI'] = avg_df['Relative Strength'].apply(lambda x: 100-(100/(x+1)))\n",
        "avg_df"
      ],
      "execution_count": 26,
      "outputs": [
        {
          "output_type": "execute_result",
          "data": {
            "text/html": [
              "<div>\n",
              "<style scoped>\n",
              "    .dataframe tbody tr th:only-of-type {\n",
              "        vertical-align: middle;\n",
              "    }\n",
              "\n",
              "    .dataframe tbody tr th {\n",
              "        vertical-align: top;\n",
              "    }\n",
              "\n",
              "    .dataframe thead th {\n",
              "        text-align: right;\n",
              "    }\n",
              "</style>\n",
              "<table border=\"1\" class=\"dataframe\">\n",
              "  <thead>\n",
              "    <tr style=\"text-align: right;\">\n",
              "      <th></th>\n",
              "      <th>gain</th>\n",
              "      <th>loss</th>\n",
              "      <th>avg_gain</th>\n",
              "      <th>avg_loss</th>\n",
              "      <th>Relative Strength</th>\n",
              "      <th>RSI</th>\n",
              "    </tr>\n",
              "    <tr>\n",
              "      <th>Date</th>\n",
              "      <th></th>\n",
              "      <th></th>\n",
              "      <th></th>\n",
              "      <th></th>\n",
              "      <th></th>\n",
              "      <th></th>\n",
              "    </tr>\n",
              "  </thead>\n",
              "  <tbody>\n",
              "    <tr>\n",
              "      <th>2012-03-12</th>\n",
              "      <td>NaN</td>\n",
              "      <td>NaN</td>\n",
              "      <td>NaN</td>\n",
              "      <td>NaN</td>\n",
              "      <td>NaN</td>\n",
              "      <td>NaN</td>\n",
              "    </tr>\n",
              "    <tr>\n",
              "      <th>2012-03-13</th>\n",
              "      <td>1.517288</td>\n",
              "      <td>0.000000</td>\n",
              "      <td>NaN</td>\n",
              "      <td>NaN</td>\n",
              "      <td>NaN</td>\n",
              "      <td>NaN</td>\n",
              "    </tr>\n",
              "    <tr>\n",
              "      <th>2012-03-14</th>\n",
              "      <td>2.480347</td>\n",
              "      <td>0.000000</td>\n",
              "      <td>NaN</td>\n",
              "      <td>NaN</td>\n",
              "      <td>NaN</td>\n",
              "      <td>NaN</td>\n",
              "    </tr>\n",
              "    <tr>\n",
              "      <th>2012-03-15</th>\n",
              "      <td>0.000000</td>\n",
              "      <td>5.042450</td>\n",
              "      <td>NaN</td>\n",
              "      <td>NaN</td>\n",
              "      <td>NaN</td>\n",
              "      <td>NaN</td>\n",
              "    </tr>\n",
              "    <tr>\n",
              "      <th>2012-03-16</th>\n",
              "      <td>0.000000</td>\n",
              "      <td>6.487122</td>\n",
              "      <td>NaN</td>\n",
              "      <td>NaN</td>\n",
              "      <td>NaN</td>\n",
              "      <td>NaN</td>\n",
              "    </tr>\n",
              "    <tr>\n",
              "      <th>...</th>\n",
              "      <td>...</td>\n",
              "      <td>...</td>\n",
              "      <td>...</td>\n",
              "      <td>...</td>\n",
              "      <td>...</td>\n",
              "      <td>...</td>\n",
              "    </tr>\n",
              "    <tr>\n",
              "      <th>2021-10-01</th>\n",
              "      <td>0.000000</td>\n",
              "      <td>1.350006</td>\n",
              "      <td>3.464552</td>\n",
              "      <td>2.591123</td>\n",
              "      <td>1.337085</td>\n",
              "      <td>57.211656</td>\n",
              "    </tr>\n",
              "    <tr>\n",
              "      <th>2021-10-04</th>\n",
              "      <td>11.500000</td>\n",
              "      <td>0.000000</td>\n",
              "      <td>4.038512</td>\n",
              "      <td>2.406043</td>\n",
              "      <td>1.678487</td>\n",
              "      <td>62.665496</td>\n",
              "    </tr>\n",
              "    <tr>\n",
              "      <th>2021-10-05</th>\n",
              "      <td>1.550018</td>\n",
              "      <td>0.000000</td>\n",
              "      <td>3.860763</td>\n",
              "      <td>2.234182</td>\n",
              "      <td>1.728043</td>\n",
              "      <td>63.343683</td>\n",
              "    </tr>\n",
              "    <tr>\n",
              "      <th>2021-10-06</th>\n",
              "      <td>0.000000</td>\n",
              "      <td>7.500000</td>\n",
              "      <td>3.584994</td>\n",
              "      <td>2.610312</td>\n",
              "      <td>1.373397</td>\n",
              "      <td>57.866291</td>\n",
              "    </tr>\n",
              "    <tr>\n",
              "      <th>2021-10-07</th>\n",
              "      <td>0.699982</td>\n",
              "      <td>0.000000</td>\n",
              "      <td>3.378922</td>\n",
              "      <td>2.423861</td>\n",
              "      <td>1.394024</td>\n",
              "      <td>58.229329</td>\n",
              "    </tr>\n",
              "  </tbody>\n",
              "</table>\n",
              "<p>2312 rows × 6 columns</p>\n",
              "</div>"
            ],
            "text/plain": [
              "                 gain      loss  ...  Relative Strength        RSI\n",
              "Date                             ...                              \n",
              "2012-03-12        NaN       NaN  ...                NaN        NaN\n",
              "2012-03-13   1.517288  0.000000  ...                NaN        NaN\n",
              "2012-03-14   2.480347  0.000000  ...                NaN        NaN\n",
              "2012-03-15   0.000000  5.042450  ...                NaN        NaN\n",
              "2012-03-16   0.000000  6.487122  ...                NaN        NaN\n",
              "...               ...       ...  ...                ...        ...\n",
              "2021-10-01   0.000000  1.350006  ...           1.337085  57.211656\n",
              "2021-10-04  11.500000  0.000000  ...           1.678487  62.665496\n",
              "2021-10-05   1.550018  0.000000  ...           1.728043  63.343683\n",
              "2021-10-06   0.000000  7.500000  ...           1.373397  57.866291\n",
              "2021-10-07   0.699982  0.000000  ...           1.394024  58.229329\n",
              "\n",
              "[2312 rows x 6 columns]"
            ]
          },
          "metadata": {},
          "execution_count": 26
        }
      ]
    },
    {
      "cell_type": "code",
      "metadata": {
        "id": "O9Z-Of_BANLc",
        "colab": {
          "base_uri": "https://localhost:8080/",
          "height": 447
        },
        "outputId": "27c0a922-8a16-47f6-e2f0-a9cc85335b3c"
      },
      "source": [
        "# quickly inserting the RSI values in the main data frame\n",
        "data.insert(loc=2,column='RSI', value = avg_df['RSI'])\n",
        "data"
      ],
      "execution_count": 27,
      "outputs": [
        {
          "output_type": "execute_result",
          "data": {
            "text/html": [
              "<div>\n",
              "<style scoped>\n",
              "    .dataframe tbody tr th:only-of-type {\n",
              "        vertical-align: middle;\n",
              "    }\n",
              "\n",
              "    .dataframe tbody tr th {\n",
              "        vertical-align: top;\n",
              "    }\n",
              "\n",
              "    .dataframe thead th {\n",
              "        text-align: right;\n",
              "    }\n",
              "</style>\n",
              "<table border=\"1\" class=\"dataframe\">\n",
              "  <thead>\n",
              "    <tr style=\"text-align: right;\">\n",
              "      <th></th>\n",
              "      <th>Close_stock</th>\n",
              "      <th>5_MA_stock</th>\n",
              "      <th>RSI</th>\n",
              "      <th>13_MA_stock</th>\n",
              "      <th>21_MA_stock</th>\n",
              "      <th>200_MA_stock</th>\n",
              "      <th>Close_sensex</th>\n",
              "      <th>Market Mood Index</th>\n",
              "    </tr>\n",
              "    <tr>\n",
              "      <th>Date</th>\n",
              "      <th></th>\n",
              "      <th></th>\n",
              "      <th></th>\n",
              "      <th></th>\n",
              "      <th></th>\n",
              "      <th></th>\n",
              "      <th></th>\n",
              "      <th></th>\n",
              "    </tr>\n",
              "  </thead>\n",
              "  <tbody>\n",
              "    <tr>\n",
              "      <th>2012-03-12</th>\n",
              "      <td>209.948807</td>\n",
              "      <td>NaN</td>\n",
              "      <td>NaN</td>\n",
              "      <td>NaN</td>\n",
              "      <td>NaN</td>\n",
              "      <td>NaN</td>\n",
              "      <td>17587.669922</td>\n",
              "      <td>60.44333</td>\n",
              "    </tr>\n",
              "    <tr>\n",
              "      <th>2012-03-13</th>\n",
              "      <td>211.466095</td>\n",
              "      <td>NaN</td>\n",
              "      <td>NaN</td>\n",
              "      <td>NaN</td>\n",
              "      <td>NaN</td>\n",
              "      <td>NaN</td>\n",
              "      <td>17813.619141</td>\n",
              "      <td>64.14598</td>\n",
              "    </tr>\n",
              "    <tr>\n",
              "      <th>2012-03-14</th>\n",
              "      <td>213.946442</td>\n",
              "      <td>NaN</td>\n",
              "      <td>NaN</td>\n",
              "      <td>NaN</td>\n",
              "      <td>NaN</td>\n",
              "      <td>NaN</td>\n",
              "      <td>17919.300781</td>\n",
              "      <td>64.82522</td>\n",
              "    </tr>\n",
              "    <tr>\n",
              "      <th>2012-03-15</th>\n",
              "      <td>208.903992</td>\n",
              "      <td>NaN</td>\n",
              "      <td>NaN</td>\n",
              "      <td>NaN</td>\n",
              "      <td>NaN</td>\n",
              "      <td>NaN</td>\n",
              "      <td>17675.849609</td>\n",
              "      <td>52.37189</td>\n",
              "    </tr>\n",
              "    <tr>\n",
              "      <th>2012-03-16</th>\n",
              "      <td>202.416870</td>\n",
              "      <td>209.336441</td>\n",
              "      <td>NaN</td>\n",
              "      <td>NaN</td>\n",
              "      <td>NaN</td>\n",
              "      <td>NaN</td>\n",
              "      <td>17466.199219</td>\n",
              "      <td>43.21962</td>\n",
              "    </tr>\n",
              "    <tr>\n",
              "      <th>...</th>\n",
              "      <td>...</td>\n",
              "      <td>...</td>\n",
              "      <td>...</td>\n",
              "      <td>...</td>\n",
              "      <td>...</td>\n",
              "      <td>...</td>\n",
              "      <td>...</td>\n",
              "      <td>...</td>\n",
              "    </tr>\n",
              "    <tr>\n",
              "      <th>2021-10-01</th>\n",
              "      <td>451.649994</td>\n",
              "      <td>451.229999</td>\n",
              "      <td>57.211656</td>\n",
              "      <td>447.957693</td>\n",
              "      <td>441.630952</td>\n",
              "      <td>380.027884</td>\n",
              "      <td>58765.578125</td>\n",
              "      <td>40.28000</td>\n",
              "    </tr>\n",
              "    <tr>\n",
              "      <th>2021-10-04</th>\n",
              "      <td>463.149994</td>\n",
              "      <td>454.539996</td>\n",
              "      <td>62.665496</td>\n",
              "      <td>449.442308</td>\n",
              "      <td>443.221428</td>\n",
              "      <td>381.004249</td>\n",
              "      <td>59299.320312</td>\n",
              "      <td>42.75000</td>\n",
              "    </tr>\n",
              "    <tr>\n",
              "      <th>2021-10-05</th>\n",
              "      <td>464.700012</td>\n",
              "      <td>458.500000</td>\n",
              "      <td>63.343683</td>\n",
              "      <td>449.519231</td>\n",
              "      <td>444.807143</td>\n",
              "      <td>381.992329</td>\n",
              "      <td>59744.878906</td>\n",
              "      <td>47.70000</td>\n",
              "    </tr>\n",
              "    <tr>\n",
              "      <th>2021-10-06</th>\n",
              "      <td>457.200012</td>\n",
              "      <td>457.940002</td>\n",
              "      <td>57.866291</td>\n",
              "      <td>449.757693</td>\n",
              "      <td>446.052383</td>\n",
              "      <td>382.928541</td>\n",
              "      <td>59189.730469</td>\n",
              "      <td>40.85000</td>\n",
              "    </tr>\n",
              "    <tr>\n",
              "      <th>2021-10-07</th>\n",
              "      <td>457.899994</td>\n",
              "      <td>458.920001</td>\n",
              "      <td>58.229329</td>\n",
              "      <td>451.330768</td>\n",
              "      <td>447.423811</td>\n",
              "      <td>383.859583</td>\n",
              "      <td>59677.828125</td>\n",
              "      <td>35.52000</td>\n",
              "    </tr>\n",
              "  </tbody>\n",
              "</table>\n",
              "<p>2312 rows × 8 columns</p>\n",
              "</div>"
            ],
            "text/plain": [
              "            Close_stock  5_MA_stock  ...  Close_sensex  Market Mood Index\n",
              "Date                                 ...                                 \n",
              "2012-03-12   209.948807         NaN  ...  17587.669922           60.44333\n",
              "2012-03-13   211.466095         NaN  ...  17813.619141           64.14598\n",
              "2012-03-14   213.946442         NaN  ...  17919.300781           64.82522\n",
              "2012-03-15   208.903992         NaN  ...  17675.849609           52.37189\n",
              "2012-03-16   202.416870  209.336441  ...  17466.199219           43.21962\n",
              "...                 ...         ...  ...           ...                ...\n",
              "2021-10-01   451.649994  451.229999  ...  58765.578125           40.28000\n",
              "2021-10-04   463.149994  454.539996  ...  59299.320312           42.75000\n",
              "2021-10-05   464.700012  458.500000  ...  59744.878906           47.70000\n",
              "2021-10-06   457.200012  457.940002  ...  59189.730469           40.85000\n",
              "2021-10-07   457.899994  458.920001  ...  59677.828125           35.52000\n",
              "\n",
              "[2312 rows x 8 columns]"
            ]
          },
          "metadata": {},
          "execution_count": 27
        }
      ]
    },
    {
      "cell_type": "code",
      "metadata": {
        "id": "rtUYOtz5AQSX",
        "colab": {
          "base_uri": "https://localhost:8080/",
          "height": 447
        },
        "outputId": "50065208-760e-4e49-fdd7-751ad70f86fc"
      },
      "source": [
        "#removing Null values from the data\n",
        "data  = data.dropna()\n",
        "data"
      ],
      "execution_count": 28,
      "outputs": [
        {
          "output_type": "execute_result",
          "data": {
            "text/html": [
              "<div>\n",
              "<style scoped>\n",
              "    .dataframe tbody tr th:only-of-type {\n",
              "        vertical-align: middle;\n",
              "    }\n",
              "\n",
              "    .dataframe tbody tr th {\n",
              "        vertical-align: top;\n",
              "    }\n",
              "\n",
              "    .dataframe thead th {\n",
              "        text-align: right;\n",
              "    }\n",
              "</style>\n",
              "<table border=\"1\" class=\"dataframe\">\n",
              "  <thead>\n",
              "    <tr style=\"text-align: right;\">\n",
              "      <th></th>\n",
              "      <th>Close_stock</th>\n",
              "      <th>5_MA_stock</th>\n",
              "      <th>RSI</th>\n",
              "      <th>13_MA_stock</th>\n",
              "      <th>21_MA_stock</th>\n",
              "      <th>200_MA_stock</th>\n",
              "      <th>Close_sensex</th>\n",
              "      <th>Market Mood Index</th>\n",
              "    </tr>\n",
              "    <tr>\n",
              "      <th>Date</th>\n",
              "      <th></th>\n",
              "      <th></th>\n",
              "      <th></th>\n",
              "      <th></th>\n",
              "      <th></th>\n",
              "      <th></th>\n",
              "      <th></th>\n",
              "      <th></th>\n",
              "    </tr>\n",
              "  </thead>\n",
              "  <tbody>\n",
              "    <tr>\n",
              "      <th>2013-01-03</th>\n",
              "      <td>228.651886</td>\n",
              "      <td>223.424969</td>\n",
              "      <td>73.339222</td>\n",
              "      <td>219.913794</td>\n",
              "      <td>216.848264</td>\n",
              "      <td>196.043956</td>\n",
              "      <td>19764.779297</td>\n",
              "      <td>74.67867</td>\n",
              "    </tr>\n",
              "    <tr>\n",
              "      <th>2013-01-04</th>\n",
              "      <td>230.048798</td>\n",
              "      <td>225.244672</td>\n",
              "      <td>74.518221</td>\n",
              "      <td>221.098298</td>\n",
              "      <td>217.937038</td>\n",
              "      <td>196.144456</td>\n",
              "      <td>19784.080078</td>\n",
              "      <td>79.11525</td>\n",
              "    </tr>\n",
              "    <tr>\n",
              "      <th>2013-01-07</th>\n",
              "      <td>228.281845</td>\n",
              "      <td>226.874731</td>\n",
              "      <td>70.284328</td>\n",
              "      <td>221.975737</td>\n",
              "      <td>218.799601</td>\n",
              "      <td>196.228534</td>\n",
              "      <td>19691.419922</td>\n",
              "      <td>78.07691</td>\n",
              "    </tr>\n",
              "    <tr>\n",
              "      <th>2013-01-08</th>\n",
              "      <td>230.664017</td>\n",
              "      <td>228.870206</td>\n",
              "      <td>72.548822</td>\n",
              "      <td>222.834317</td>\n",
              "      <td>219.619652</td>\n",
              "      <td>196.312122</td>\n",
              "      <td>19742.519531</td>\n",
              "      <td>77.08811</td>\n",
              "    </tr>\n",
              "    <tr>\n",
              "      <th>2013-01-09</th>\n",
              "      <td>233.388489</td>\n",
              "      <td>230.207007</td>\n",
              "      <td>74.904300</td>\n",
              "      <td>223.905319</td>\n",
              "      <td>220.529793</td>\n",
              "      <td>196.434545</td>\n",
              "      <td>19666.589844</td>\n",
              "      <td>76.83194</td>\n",
              "    </tr>\n",
              "    <tr>\n",
              "      <th>...</th>\n",
              "      <td>...</td>\n",
              "      <td>...</td>\n",
              "      <td>...</td>\n",
              "      <td>...</td>\n",
              "      <td>...</td>\n",
              "      <td>...</td>\n",
              "      <td>...</td>\n",
              "      <td>...</td>\n",
              "    </tr>\n",
              "    <tr>\n",
              "      <th>2021-10-01</th>\n",
              "      <td>451.649994</td>\n",
              "      <td>451.229999</td>\n",
              "      <td>57.211656</td>\n",
              "      <td>447.957693</td>\n",
              "      <td>441.630952</td>\n",
              "      <td>380.027884</td>\n",
              "      <td>58765.578125</td>\n",
              "      <td>40.28000</td>\n",
              "    </tr>\n",
              "    <tr>\n",
              "      <th>2021-10-04</th>\n",
              "      <td>463.149994</td>\n",
              "      <td>454.539996</td>\n",
              "      <td>62.665496</td>\n",
              "      <td>449.442308</td>\n",
              "      <td>443.221428</td>\n",
              "      <td>381.004249</td>\n",
              "      <td>59299.320312</td>\n",
              "      <td>42.75000</td>\n",
              "    </tr>\n",
              "    <tr>\n",
              "      <th>2021-10-05</th>\n",
              "      <td>464.700012</td>\n",
              "      <td>458.500000</td>\n",
              "      <td>63.343683</td>\n",
              "      <td>449.519231</td>\n",
              "      <td>444.807143</td>\n",
              "      <td>381.992329</td>\n",
              "      <td>59744.878906</td>\n",
              "      <td>47.70000</td>\n",
              "    </tr>\n",
              "    <tr>\n",
              "      <th>2021-10-06</th>\n",
              "      <td>457.200012</td>\n",
              "      <td>457.940002</td>\n",
              "      <td>57.866291</td>\n",
              "      <td>449.757693</td>\n",
              "      <td>446.052383</td>\n",
              "      <td>382.928541</td>\n",
              "      <td>59189.730469</td>\n",
              "      <td>40.85000</td>\n",
              "    </tr>\n",
              "    <tr>\n",
              "      <th>2021-10-07</th>\n",
              "      <td>457.899994</td>\n",
              "      <td>458.920001</td>\n",
              "      <td>58.229329</td>\n",
              "      <td>451.330768</td>\n",
              "      <td>447.423811</td>\n",
              "      <td>383.859583</td>\n",
              "      <td>59677.828125</td>\n",
              "      <td>35.52000</td>\n",
              "    </tr>\n",
              "  </tbody>\n",
              "</table>\n",
              "<p>2113 rows × 8 columns</p>\n",
              "</div>"
            ],
            "text/plain": [
              "            Close_stock  5_MA_stock  ...  Close_sensex  Market Mood Index\n",
              "Date                                 ...                                 \n",
              "2013-01-03   228.651886  223.424969  ...  19764.779297           74.67867\n",
              "2013-01-04   230.048798  225.244672  ...  19784.080078           79.11525\n",
              "2013-01-07   228.281845  226.874731  ...  19691.419922           78.07691\n",
              "2013-01-08   230.664017  228.870206  ...  19742.519531           77.08811\n",
              "2013-01-09   233.388489  230.207007  ...  19666.589844           76.83194\n",
              "...                 ...         ...  ...           ...                ...\n",
              "2021-10-01   451.649994  451.229999  ...  58765.578125           40.28000\n",
              "2021-10-04   463.149994  454.539996  ...  59299.320312           42.75000\n",
              "2021-10-05   464.700012  458.500000  ...  59744.878906           47.70000\n",
              "2021-10-06   457.200012  457.940002  ...  59189.730469           40.85000\n",
              "2021-10-07   457.899994  458.920001  ...  59677.828125           35.52000\n",
              "\n",
              "[2113 rows x 8 columns]"
            ]
          },
          "metadata": {},
          "execution_count": 28
        }
      ]
    },
    {
      "cell_type": "code",
      "metadata": {
        "id": "RCBEv_ZQATVq"
      },
      "source": [
        "#rearranging the data for the model\n",
        "new_data = data[['Market Mood Index','Close_sensex','RSI','200_MA_stock','21_MA_stock','13_MA_stock','5_MA_stock','Close_stock']]"
      ],
      "execution_count": 29,
      "outputs": []
    },
    {
      "cell_type": "code",
      "metadata": {
        "colab": {
          "base_uri": "https://localhost:8080/",
          "height": 388
        },
        "id": "Fv-SRUL0LtFG",
        "outputId": "0deacf5d-1eac-4c2d-d7e1-30a0c896b516"
      },
      "source": [
        "new_data.tail(10)"
      ],
      "execution_count": 30,
      "outputs": [
        {
          "output_type": "execute_result",
          "data": {
            "text/html": [
              "<div>\n",
              "<style scoped>\n",
              "    .dataframe tbody tr th:only-of-type {\n",
              "        vertical-align: middle;\n",
              "    }\n",
              "\n",
              "    .dataframe tbody tr th {\n",
              "        vertical-align: top;\n",
              "    }\n",
              "\n",
              "    .dataframe thead th {\n",
              "        text-align: right;\n",
              "    }\n",
              "</style>\n",
              "<table border=\"1\" class=\"dataframe\">\n",
              "  <thead>\n",
              "    <tr style=\"text-align: right;\">\n",
              "      <th></th>\n",
              "      <th>Market Mood Index</th>\n",
              "      <th>Close_sensex</th>\n",
              "      <th>RSI</th>\n",
              "      <th>200_MA_stock</th>\n",
              "      <th>21_MA_stock</th>\n",
              "      <th>13_MA_stock</th>\n",
              "      <th>5_MA_stock</th>\n",
              "      <th>Close_stock</th>\n",
              "    </tr>\n",
              "    <tr>\n",
              "      <th>Date</th>\n",
              "      <th></th>\n",
              "      <th></th>\n",
              "      <th></th>\n",
              "      <th></th>\n",
              "      <th></th>\n",
              "      <th></th>\n",
              "      <th></th>\n",
              "      <th></th>\n",
              "    </tr>\n",
              "  </thead>\n",
              "  <tbody>\n",
              "    <tr>\n",
              "      <th>2021-09-24</th>\n",
              "      <td>50.89761</td>\n",
              "      <td>60048.468750</td>\n",
              "      <td>53.496573</td>\n",
              "      <td>375.228544</td>\n",
              "      <td>434.283334</td>\n",
              "      <td>440.453848</td>\n",
              "      <td>441.129999</td>\n",
              "      <td>440.750000</td>\n",
              "    </tr>\n",
              "    <tr>\n",
              "      <th>2021-09-27</th>\n",
              "      <td>48.39000</td>\n",
              "      <td>60077.878906</td>\n",
              "      <td>56.730173</td>\n",
              "      <td>376.238089</td>\n",
              "      <td>435.990477</td>\n",
              "      <td>441.800002</td>\n",
              "      <td>442.959998</td>\n",
              "      <td>446.600006</td>\n",
              "    </tr>\n",
              "    <tr>\n",
              "      <th>2021-09-28</th>\n",
              "      <td>44.06000</td>\n",
              "      <td>59667.601562</td>\n",
              "      <td>55.521951</td>\n",
              "      <td>377.192813</td>\n",
              "      <td>437.535714</td>\n",
              "      <td>442.842309</td>\n",
              "      <td>444.179999</td>\n",
              "      <td>444.899994</td>\n",
              "    </tr>\n",
              "    <tr>\n",
              "      <th>2021-09-29</th>\n",
              "      <td>42.58000</td>\n",
              "      <td>59413.269531</td>\n",
              "      <td>63.049628</td>\n",
              "      <td>378.187365</td>\n",
              "      <td>439.311904</td>\n",
              "      <td>444.973079</td>\n",
              "      <td>448.409998</td>\n",
              "      <td>460.000000</td>\n",
              "    </tr>\n",
              "    <tr>\n",
              "      <th>2021-09-30</th>\n",
              "      <td>42.24000</td>\n",
              "      <td>59126.359375</td>\n",
              "      <td>58.137422</td>\n",
              "      <td>379.116697</td>\n",
              "      <td>440.595238</td>\n",
              "      <td>446.523078</td>\n",
              "      <td>449.050000</td>\n",
              "      <td>453.000000</td>\n",
              "    </tr>\n",
              "    <tr>\n",
              "      <th>2021-10-01</th>\n",
              "      <td>40.28000</td>\n",
              "      <td>58765.578125</td>\n",
              "      <td>57.211656</td>\n",
              "      <td>380.027884</td>\n",
              "      <td>441.630952</td>\n",
              "      <td>447.957693</td>\n",
              "      <td>451.229999</td>\n",
              "      <td>451.649994</td>\n",
              "    </tr>\n",
              "    <tr>\n",
              "      <th>2021-10-04</th>\n",
              "      <td>42.75000</td>\n",
              "      <td>59299.320312</td>\n",
              "      <td>62.665496</td>\n",
              "      <td>381.004249</td>\n",
              "      <td>443.221428</td>\n",
              "      <td>449.442308</td>\n",
              "      <td>454.539996</td>\n",
              "      <td>463.149994</td>\n",
              "    </tr>\n",
              "    <tr>\n",
              "      <th>2021-10-05</th>\n",
              "      <td>47.70000</td>\n",
              "      <td>59744.878906</td>\n",
              "      <td>63.343683</td>\n",
              "      <td>381.992329</td>\n",
              "      <td>444.807143</td>\n",
              "      <td>449.519231</td>\n",
              "      <td>458.500000</td>\n",
              "      <td>464.700012</td>\n",
              "    </tr>\n",
              "    <tr>\n",
              "      <th>2021-10-06</th>\n",
              "      <td>40.85000</td>\n",
              "      <td>59189.730469</td>\n",
              "      <td>57.866291</td>\n",
              "      <td>382.928541</td>\n",
              "      <td>446.052383</td>\n",
              "      <td>449.757693</td>\n",
              "      <td>457.940002</td>\n",
              "      <td>457.200012</td>\n",
              "    </tr>\n",
              "    <tr>\n",
              "      <th>2021-10-07</th>\n",
              "      <td>35.52000</td>\n",
              "      <td>59677.828125</td>\n",
              "      <td>58.229329</td>\n",
              "      <td>383.859583</td>\n",
              "      <td>447.423811</td>\n",
              "      <td>451.330768</td>\n",
              "      <td>458.920001</td>\n",
              "      <td>457.899994</td>\n",
              "    </tr>\n",
              "  </tbody>\n",
              "</table>\n",
              "</div>"
            ],
            "text/plain": [
              "            Market Mood Index  Close_sensex  ...  5_MA_stock  Close_stock\n",
              "Date                                         ...                         \n",
              "2021-09-24           50.89761  60048.468750  ...  441.129999   440.750000\n",
              "2021-09-27           48.39000  60077.878906  ...  442.959998   446.600006\n",
              "2021-09-28           44.06000  59667.601562  ...  444.179999   444.899994\n",
              "2021-09-29           42.58000  59413.269531  ...  448.409998   460.000000\n",
              "2021-09-30           42.24000  59126.359375  ...  449.050000   453.000000\n",
              "2021-10-01           40.28000  58765.578125  ...  451.229999   451.649994\n",
              "2021-10-04           42.75000  59299.320312  ...  454.539996   463.149994\n",
              "2021-10-05           47.70000  59744.878906  ...  458.500000   464.700012\n",
              "2021-10-06           40.85000  59189.730469  ...  457.940002   457.200012\n",
              "2021-10-07           35.52000  59677.828125  ...  458.920001   457.899994\n",
              "\n",
              "[10 rows x 8 columns]"
            ]
          },
          "metadata": {},
          "execution_count": 30
        }
      ]
    },
    {
      "cell_type": "code",
      "metadata": {
        "id": "ZQin4Bj6ONel"
      },
      "source": [
        ""
      ],
      "execution_count": 30,
      "outputs": []
    },
    {
      "cell_type": "code",
      "metadata": {
        "id": "wn0iXhi2NLR7"
      },
      "source": [
        "val_len = 20\n",
        "test_len = 10"
      ],
      "execution_count": 31,
      "outputs": []
    },
    {
      "cell_type": "markdown",
      "metadata": {
        "id": "y4btdWmVmYBD"
      },
      "source": [
        "Training set"
      ]
    },
    {
      "cell_type": "code",
      "metadata": {
        "colab": {
          "base_uri": "https://localhost:8080/"
        },
        "id": "_d3QKBedmFAz",
        "outputId": "7686741e-1ea4-46e8-a228-7043264dbd70"
      },
      "source": [
        "#getting the all the data except last 5 values\n",
        "training_set = new_data.iloc[:-(val_len + test_len),:].values\n",
        "training_set.shape"
      ],
      "execution_count": 32,
      "outputs": [
        {
          "output_type": "execute_result",
          "data": {
            "text/plain": [
              "(2083, 8)"
            ]
          },
          "metadata": {},
          "execution_count": 32
        }
      ]
    },
    {
      "cell_type": "code",
      "metadata": {
        "colab": {
          "base_uri": "https://localhost:8080/"
        },
        "id": "wzwk_c_eQFGV",
        "outputId": "c6b4f301-1049-4383-c060-0ed763bd96a0"
      },
      "source": [
        "training_set"
      ],
      "execution_count": 33,
      "outputs": [
        {
          "output_type": "execute_result",
          "data": {
            "text/plain": [
              "array([[7.46786700e+01, 1.97647793e+04, 7.33392218e+01, ...,\n",
              "        2.19913794e+02, 2.23424969e+02, 2.28651886e+02],\n",
              "       [7.91152500e+01, 1.97840801e+04, 7.45182213e+01, ...,\n",
              "        2.21098298e+02, 2.25244672e+02, 2.30048798e+02],\n",
              "       [7.80769100e+01, 1.96914199e+04, 7.02843278e+01, ...,\n",
              "        2.21975737e+02, 2.26874731e+02, 2.28281845e+02],\n",
              "       ...,\n",
              "       [4.18020700e+01, 5.55557891e+04, 3.84744214e+01, ...,\n",
              "        4.27919234e+02, 4.16450006e+02, 4.09500000e+02],\n",
              "       [4.43283500e+01, 5.59589805e+04, 4.47266111e+01, ...,\n",
              "        4.24892311e+02, 4.15000006e+02, 4.17600006e+02],\n",
              "       [4.16117400e+01, 5.59442109e+04, 4.39254357e+01, ...,\n",
              "        4.22923079e+02, 4.13950006e+02, 4.16250000e+02]])"
            ]
          },
          "metadata": {},
          "execution_count": 33
        }
      ]
    },
    {
      "cell_type": "markdown",
      "metadata": {
        "id": "tq_xGBq2wVG5"
      },
      "source": [
        "Test Set"
      ]
    },
    {
      "cell_type": "code",
      "metadata": {
        "colab": {
          "base_uri": "https://localhost:8080/"
        },
        "id": "260huM9QmV_M",
        "outputId": "d834bc73-6252-416c-9cae-3d8909c0f821"
      },
      "source": [
        "#getting only last 2 values of the dataset\n",
        "test_set = new_data.iloc[len(new_data)-test_len:,:].values\n",
        "test_set.shape"
      ],
      "execution_count": 34,
      "outputs": [
        {
          "output_type": "execute_result",
          "data": {
            "text/plain": [
              "(10, 8)"
            ]
          },
          "metadata": {},
          "execution_count": 34
        }
      ]
    },
    {
      "cell_type": "code",
      "metadata": {
        "colab": {
          "base_uri": "https://localhost:8080/"
        },
        "id": "t6wHlAVcDW7J",
        "outputId": "83108d44-79eb-4574-a658-6efb7413a611"
      },
      "source": [
        "test_set"
      ],
      "execution_count": 35,
      "outputs": [
        {
          "output_type": "execute_result",
          "data": {
            "text/plain": [
              "array([[5.08976100e+01, 6.00484688e+04, 5.34965726e+01, 3.75228544e+02,\n",
              "        4.34283334e+02, 4.40453848e+02, 4.41129999e+02, 4.40750000e+02],\n",
              "       [4.83900000e+01, 6.00778789e+04, 5.67301725e+01, 3.76238089e+02,\n",
              "        4.35990477e+02, 4.41800002e+02, 4.42959998e+02, 4.46600006e+02],\n",
              "       [4.40600000e+01, 5.96676016e+04, 5.55219513e+01, 3.77192813e+02,\n",
              "        4.37535714e+02, 4.42842309e+02, 4.44179999e+02, 4.44899994e+02],\n",
              "       [4.25800000e+01, 5.94132695e+04, 6.30496275e+01, 3.78187365e+02,\n",
              "        4.39311904e+02, 4.44973079e+02, 4.48409998e+02, 4.60000000e+02],\n",
              "       [4.22400000e+01, 5.91263594e+04, 5.81374215e+01, 3.79116697e+02,\n",
              "        4.40595238e+02, 4.46523078e+02, 4.49050000e+02, 4.53000000e+02],\n",
              "       [4.02800000e+01, 5.87655781e+04, 5.72116562e+01, 3.80027884e+02,\n",
              "        4.41630952e+02, 4.47957693e+02, 4.51229999e+02, 4.51649994e+02],\n",
              "       [4.27500000e+01, 5.92993203e+04, 6.26654957e+01, 3.81004249e+02,\n",
              "        4.43221428e+02, 4.49442308e+02, 4.54539996e+02, 4.63149994e+02],\n",
              "       [4.77000000e+01, 5.97448789e+04, 6.33436826e+01, 3.81992329e+02,\n",
              "        4.44807143e+02, 4.49519231e+02, 4.58500000e+02, 4.64700012e+02],\n",
              "       [4.08500000e+01, 5.91897305e+04, 5.78662914e+01, 3.82928541e+02,\n",
              "        4.46052383e+02, 4.49757693e+02, 4.57940002e+02, 4.57200012e+02],\n",
              "       [3.55200000e+01, 5.96778281e+04, 5.82293293e+01, 3.83859583e+02,\n",
              "        4.47423811e+02, 4.51330768e+02, 4.58920001e+02, 4.57899994e+02]])"
            ]
          },
          "metadata": {},
          "execution_count": 35
        }
      ]
    },
    {
      "cell_type": "markdown",
      "metadata": {
        "id": "gkn7b4B0m4oo"
      },
      "source": [
        "Validation Data"
      ]
    },
    {
      "cell_type": "code",
      "metadata": {
        "colab": {
          "base_uri": "https://localhost:8080/"
        },
        "id": "1_vMbuvs6n5D",
        "outputId": "c01c6f0c-3017-4f5a-d14e-e5aa72eb5b88"
      },
      "source": [
        "#getting only 3 values before last 2 test data of the dataset\n",
        "val_set = new_data.iloc[len(new_data)- (val_len + test_len):-test_len,:].values\n",
        "val_set.shape"
      ],
      "execution_count": 36,
      "outputs": [
        {
          "output_type": "execute_result",
          "data": {
            "text/plain": [
              "(20, 8)"
            ]
          },
          "metadata": {},
          "execution_count": 36
        }
      ]
    },
    {
      "cell_type": "code",
      "metadata": {
        "colab": {
          "base_uri": "https://localhost:8080/"
        },
        "id": "3cW4LqPe72fM",
        "outputId": "00590ce5-97d8-4663-8d8a-f97d01971813"
      },
      "source": [
        "val_set"
      ],
      "execution_count": 37,
      "outputs": [
        {
          "output_type": "execute_result",
          "data": {
            "text/plain": [
              "array([[3.63781800e+01, 5.59491016e+04, 4.07248277e+01, 3.54597481e+02,\n",
              "        4.27990477e+02, 4.21007695e+02, 4.12160004e+02, 4.10750000e+02],\n",
              "       [4.00152800e+01, 5.61247188e+04, 4.21284667e+01, 3.55688449e+02,\n",
              "        4.27369049e+02, 4.19396158e+02, 4.13310004e+02, 4.12450012e+02],\n",
              "       [5.15575600e+01, 5.68897617e+04, 4.98408606e+01, 3.56787564e+02,\n",
              "        4.26471431e+02, 4.19107697e+02, 4.15950006e+02, 4.22700012e+02],\n",
              "       [6.18291400e+01, 5.75523906e+04, 5.20882024e+01, 3.57892282e+02,\n",
              "        4.26197622e+02, 4.18953850e+02, 4.17640002e+02, 4.26049988e+02],\n",
              "       [6.74951100e+01, 5.73382109e+04, 5.46054571e+01, 3.58958533e+02,\n",
              "        4.25959526e+02, 4.19165389e+02, 4.20370001e+02, 4.29899994e+02],\n",
              "       [7.01416800e+01, 5.78525391e+04, 5.44853520e+01, 3.60021310e+02,\n",
              "        4.25161907e+02, 4.19053849e+02, 4.24170001e+02, 4.29750000e+02],\n",
              "       [7.22238500e+01, 5.81299492e+04, 5.56411942e+01, 3.61090849e+02,\n",
              "        4.23945240e+02, 4.19557695e+02, 4.27959998e+02, 4.31399994e+02],\n",
              "       [7.10213500e+01, 5.82969102e+04, 5.53202648e+01, 3.62098197e+02,\n",
              "        4.23430953e+02, 4.20292309e+02, 4.29629993e+02, 4.31049988e+02],\n",
              "       [7.04043900e+01, 5.82794805e+04, 5.34698805e+01, 3.63083410e+02,\n",
              "        4.23119049e+02, 4.21015386e+02, 4.30239996e+02, 4.29100006e+02],\n",
              "       [6.66190900e+01, 5.82502617e+04, 5.53266700e+01, 3.64116534e+02,\n",
              "        4.23021431e+02, 4.22911539e+02, 4.30529999e+02, 4.31350006e+02],\n",
              "       [6.78886100e+01, 5.83050703e+04, 5.61228015e+01, 3.65141279e+02,\n",
              "        4.23300001e+02, 4.24665384e+02, 4.31039996e+02, 4.32299988e+02],\n",
              "       [6.52239500e+01, 5.81777617e+04, 5.66049966e+01, 3.66115516e+02,\n",
              "        4.23528573e+02, 4.25838461e+02, 4.31329999e+02, 4.32850006e+02],\n",
              "       [6.00632000e+01, 5.82470898e+04, 5.67446030e+01, 3.67032042e+02,\n",
              "        4.23807145e+02, 4.27126923e+02, 4.31720001e+02, 4.33000000e+02],\n",
              "       [6.41135200e+01, 5.87231992e+04, 6.54126935e+01, 3.68063509e+02,\n",
              "        4.24409526e+02, 4.29673077e+02, 4.34670001e+02, 4.43850006e+02],\n",
              "       [6.29508900e+01, 5.91411602e+04, 7.52030215e+01, 3.69179362e+02,\n",
              "        4.26259526e+02, 4.33615385e+02, 4.41140002e+02, 4.63700012e+02],\n",
              "       [5.01634900e+01, 5.90158906e+04, 6.55405906e+01, 3.70267280e+02,\n",
              "        4.27811907e+02, 4.36030769e+02, 4.45500006e+02, 4.54100006e+02],\n",
              "       [4.09248500e+01, 5.84909297e+04, 5.28560895e+01, 3.71246434e+02,\n",
              "        4.28657145e+02, 4.36907694e+02, 4.46420007e+02, 4.37450012e+02],\n",
              "       [4.93765300e+01, 5.90052695e+04, 5.36395325e+01, 3.72236549e+02,\n",
              "        4.30185715e+02, 4.37592309e+02, 4.47580005e+02, 4.38799988e+02],\n",
              "       [4.77970300e+01, 5.89273281e+04, 5.36702530e+01, 3.73214776e+02,\n",
              "        4.31583335e+02, 4.38292309e+02, 4.46580005e+02, 4.38850006e+02],\n",
              "       [4.63093000e+01, 5.98853594e+04, 5.99301657e+01, 3.74253698e+02,\n",
              "        4.33116667e+02, 4.39707693e+02, 4.43800000e+02, 4.49799988e+02]])"
            ]
          },
          "metadata": {},
          "execution_count": 37
        }
      ]
    },
    {
      "cell_type": "code",
      "metadata": {
        "id": "rwB-mQNYmrdK"
      },
      "source": [
        "day = 3\n",
        "column = 8\n",
        "week = day"
      ],
      "execution_count": 38,
      "outputs": []
    },
    {
      "cell_type": "markdown",
      "metadata": {
        "id": "DawxwS3LnUrn"
      },
      "source": [
        "Feature Scaling"
      ]
    },
    {
      "cell_type": "code",
      "metadata": {
        "id": "IOMNH41ynSNg"
      },
      "source": [
        "#using min max scaler\n",
        "from sklearn.preprocessing import MinMaxScaler\n",
        "sc = MinMaxScaler(feature_range = (0,1))\n",
        "# scaling training set\n",
        "training_set_scaled = sc.fit_transform(training_set)\n",
        "\n",
        "sc_output = MinMaxScaler(feature_range = (0,1))\n",
        "#scaling training Stock price only\n",
        "output = sc_output.fit_transform(training_set[:,column-1].reshape(-1,1))"
      ],
      "execution_count": 39,
      "outputs": []
    },
    {
      "cell_type": "markdown",
      "metadata": {
        "id": "QpTtpY9foWkT"
      },
      "source": [
        "Arrenging X_train, Y_train"
      ]
    },
    {
      "cell_type": "code",
      "metadata": {
        "id": "PDv4A3CHoSLJ"
      },
      "source": [
        "#arrenging the data as per the above logic [28 days data to predict the next day data]\n",
        "tr = len(training_set)\n",
        "\n",
        "X_train = []\n",
        "y_train = []\n",
        "for i in range(week, tr):\n",
        "  X_train.append(training_set_scaled[i-week:i,0:column])\n",
        "  y_train.append(training_set_scaled[i,column-1])\n",
        "X_train,y_train = np.array(X_train), np.array(y_train)"
      ],
      "execution_count": 40,
      "outputs": []
    },
    {
      "cell_type": "code",
      "metadata": {
        "colab": {
          "base_uri": "https://localhost:8080/"
        },
        "id": "a6y2wBjF98h2",
        "outputId": "9141dee7-f039-4a56-c9be-08a148ade4e1"
      },
      "source": [
        "X_train,y_train"
      ],
      "execution_count": 41,
      "outputs": [
        {
          "output_type": "execute_result",
          "data": {
            "text/plain": [
              "(array([[[0.82194257, 0.04884939, 0.79681327, ..., 0.26604485,\n",
              "          0.27441145, 0.28198407],\n",
              "         [0.88045571, 0.04935659, 0.81229786, ..., 0.27007824,\n",
              "          0.28042002, 0.28637747],\n",
              "         [0.86676126, 0.04692157, 0.75669131, ..., 0.27306604,\n",
              "          0.28580241, 0.28082026]],\n",
              " \n",
              "        [[0.88045571, 0.04935659, 0.81229786, ..., 0.27007824,\n",
              "          0.28042002, 0.28637747],\n",
              "         [0.86676126, 0.04692157, 0.75669131, ..., 0.27306604,\n",
              "          0.28580241, 0.28082026],\n",
              "         [0.85372018, 0.04826442, 0.78643243, ..., 0.27598961,\n",
              "          0.29239138, 0.28831238]],\n",
              " \n",
              "        [[0.86676126, 0.04692157, 0.75669131, ..., 0.27306604,\n",
              "          0.28580241, 0.28082026],\n",
              "         [0.85372018, 0.04826442, 0.78643243, ..., 0.27598961,\n",
              "          0.29239138, 0.28831238],\n",
              "         [0.8503416 , 0.04626906, 0.81736849, ..., 0.27963651,\n",
              "          0.29680544, 0.29688106]],\n",
              " \n",
              "        ...,\n",
              " \n",
              "        [[0.54358369, 0.99561899, 0.41505494, ..., 0.99457799,\n",
              "          0.94512148, 0.88850687],\n",
              "         [0.5451554 , 0.99134125, 0.40055712, ..., 0.9914086 ,\n",
              "          0.93960723, 0.88284576],\n",
              "         [0.48705942, 0.98345311, 0.30846627, ..., 0.98402209,\n",
              "          0.92610224, 0.84195972]],\n",
              " \n",
              "        [[0.5451554 , 0.99134125, 0.40055712, ..., 0.9914086 ,\n",
              "          0.93960723, 0.88284576],\n",
              "         [0.48705942, 0.98345311, 0.30846627, ..., 0.98402209,\n",
              "          0.92610224, 0.84195972],\n",
              "         [0.38833984, 0.9894045 , 0.33891055, ..., 0.97433057,\n",
              "          0.91177174, 0.8507659 ]],\n",
              " \n",
              "        [[0.48705942, 0.98345311, 0.30846627, ..., 0.98402209,\n",
              "          0.92610224, 0.84195972],\n",
              "         [0.38833984, 0.9894045 , 0.33891055, ..., 0.97433057,\n",
              "          0.91177174, 0.8507659 ],\n",
              "         [0.42165843, 1.        , 0.42102474, ..., 0.9640235 ,\n",
              "          0.9069839 , 0.87624107]]]),\n",
              " array([0.28831238, 0.29688106, 0.30162364, ..., 0.8507659 , 0.87624107,\n",
              "        0.87199519]))"
            ]
          },
          "metadata": {},
          "execution_count": 41
        }
      ]
    },
    {
      "cell_type": "markdown",
      "metadata": {
        "id": "6AdznhhKpeHo"
      },
      "source": [
        "Arrenging X Val, y Val"
      ]
    },
    {
      "cell_type": "code",
      "metadata": {
        "id": "Vtqmd2OKpbGR"
      },
      "source": [
        "inputs = new_data.iloc[len(new_data)-(test_len+val_len)-week:-test_len, :].values\n",
        "inputs = sc.transform(inputs)\n",
        "X_val = []\n",
        "y_val = []\n",
        "for i in range(week, len(inputs)):\n",
        "  X_val.append(inputs[i-week:i,0:column])\n",
        "  y_val.append(inputs[i,column-1])\n",
        "X_val,y_val = np.array(X_val), np.array(y_val)"
      ],
      "execution_count": 42,
      "outputs": []
    },
    {
      "cell_type": "code",
      "metadata": {
        "colab": {
          "base_uri": "https://localhost:8080/"
        },
        "id": "6hMTf79xC_Mi",
        "outputId": "34c68d6e-eb6f-48ad-87e8-1174eb4a09cd"
      },
      "source": [
        "X_val,y_val"
      ],
      "execution_count": 43,
      "outputs": [
        {
          "output_type": "execute_result",
          "data": {
            "text/plain": [
              "(array([[[0.38833984, 0.9894045 , 0.33891055, 0.98782034, 0.99144506,\n",
              "          0.97433057, 0.91177174, 0.8507659 ],\n",
              "         [0.42165843, 1.        , 0.42102474, 0.99390507, 0.98958957,\n",
              "          0.9640235 , 0.9069839 , 0.87624107],\n",
              "         [0.38582962, 0.99961187, 0.41050237, 1.        , 0.98843195,\n",
              "          0.95731801, 0.90351684, 0.87199519]],\n",
              " \n",
              "        [[0.42165843, 1.        , 0.42102474, 0.99390507, 0.98958957,\n",
              "          0.9640235 , 0.9069839 , 0.87624107],\n",
              "         [0.38582962, 0.99961187, 0.41050237, 1.        , 0.98843195,\n",
              "          0.95731801, 0.90351684, 0.87199519],\n",
              "         [0.31680527, 0.99974039, 0.36846664, 1.00593424, 0.98527926,\n",
              "          0.95079588, 0.89760633, 0.85469725]],\n",
              " \n",
              "        [[0.38582962, 0.99961187, 0.41050237, 1.        , 0.98843195,\n",
              "          0.95731801, 0.90351684, 0.87199519],\n",
              "         [0.31680527, 0.99974039, 0.36846664, 1.00593424, 0.98527926,\n",
              "          0.95079588, 0.89760633, 0.85469725],\n",
              "         [0.36477423, 1.00435545, 0.38690157, 1.01173455, 0.98313642,\n",
              "          0.94530838, 0.90140358, 0.86004393]],\n",
              " \n",
              "        [[0.31680527, 0.99974039, 0.36846664, 1.00593424, 0.98527926,\n",
              "          0.95079588, 0.89760633, 0.85469725],\n",
              "         [0.36477423, 1.00435545, 0.38690157, 1.01173455, 0.98313642,\n",
              "          0.94530838, 0.90140358, 0.86004393],\n",
              "         [0.51700299, 1.02446008, 0.48819359, 1.01757819, 0.9800412 ,\n",
              "          0.94432613, 0.91012076, 0.892281  ]],\n",
              " \n",
              "        [[0.36477423, 1.00435545, 0.38690157, 1.01173455, 0.98313642,\n",
              "          0.94530838, 0.90140358, 0.86004393],\n",
              "         [0.51700299, 1.02446008, 0.48819359, 1.01757819, 0.9800412 ,\n",
              "          0.94432613, 0.91012076, 0.892281  ],\n",
              "         [0.65247275, 1.04187337, 0.51770943, 1.02345161, 0.97909704,\n",
              "          0.94380227, 0.91570105, 0.90281694]],\n",
              " \n",
              "        [[0.51700299, 1.02446008, 0.48819359, 1.01757819, 0.9800412 ,\n",
              "          0.94432613, 0.91012076, 0.892281  ],\n",
              "         [0.65247275, 1.04187337, 0.51770943, 1.02345161, 0.97909704,\n",
              "          0.94380227, 0.91570105, 0.90281694],\n",
              "         [0.72720007, 1.03624492, 0.55077022, 1.02912052, 0.97827603,\n",
              "          0.94452258, 0.92471539, 0.91492552]],\n",
              " \n",
              "        [[0.65247275, 1.04187337, 0.51770943, 1.02345161, 0.97909704,\n",
              "          0.94380227, 0.91570105, 0.90281694],\n",
              "         [0.72720007, 1.03624492, 0.55077022, 1.02912052, 0.97827603,\n",
              "          0.94452258, 0.92471539, 0.91492552],\n",
              "         [0.76210514, 1.04976099, 0.5491928 , 1.03477095, 0.97552564,\n",
              "          0.94414278, 0.93726282, 0.91445378]],\n",
              " \n",
              "        [[0.72720007, 1.03624492, 0.55077022, 1.02912052, 0.97827603,\n",
              "          0.94452258, 0.92471539, 0.91492552],\n",
              "         [0.76210514, 1.04976099, 0.5491928 , 1.03477095, 0.97552564,\n",
              "          0.94414278, 0.93726282, 0.91445378],\n",
              "         [0.78956645, 1.05705108, 0.56437325, 1.04045735, 0.97133026,\n",
              "          0.94585843, 0.94977723, 0.91964314]],\n",
              " \n",
              "        [[0.76210514, 1.04976099, 0.5491928 , 1.03477095, 0.97552564,\n",
              "          0.94414278, 0.93726282, 0.91445378],\n",
              "         [0.78956645, 1.05705108, 0.56437325, 1.04045735, 0.97133026,\n",
              "          0.94585843, 0.94977723, 0.91964314],\n",
              "         [0.77370692, 1.06143866, 0.56015827, 1.04581308, 0.96955687,\n",
              "          0.94835989, 0.95529148, 0.91854234]],\n",
              " \n",
              "        [[0.78956645, 1.05705108, 0.56437325, 1.04045735, 0.97133026,\n",
              "          0.94585843, 0.94977723, 0.91964314],\n",
              "         [0.77370692, 1.06143866, 0.56015827, 1.04581308, 0.96955687,\n",
              "          0.94835989, 0.95529148, 0.91854234],\n",
              "         [0.76556997, 1.06098062, 0.53585594, 1.05105114, 0.96848135,\n",
              "          0.95082206, 0.95730569, 0.9124095 ]],\n",
              " \n",
              "        [[0.77370692, 1.06143866, 0.56015827, 1.04581308, 0.96955687,\n",
              "          0.94835989, 0.95529148, 0.91854234],\n",
              "         [0.76556997, 1.06098062, 0.53585594, 1.05105114, 0.96848135,\n",
              "          0.95082206, 0.95730569, 0.9124095 ],\n",
              "         [0.71564642, 1.06021278, 0.56024239, 1.05654392, 0.96814473,\n",
              "          0.95727871, 0.95826326, 0.91948593]],\n",
              " \n",
              "        [[0.76556997, 1.06098062, 0.53585594, 1.05105114, 0.96848135,\n",
              "          0.95082206, 0.95730569, 0.9124095 ],\n",
              "         [0.71564642, 1.06021278, 0.56024239, 1.05654392, 0.96814473,\n",
              "          0.95727871, 0.95826326, 0.91948593],\n",
              "         [0.73238986, 1.0616531 , 0.57069852, 1.06199215, 0.96910531,\n",
              "          0.96325078, 0.95994725, 0.92247369]],\n",
              " \n",
              "        [[0.71564642, 1.06021278, 0.56024239, 1.05654392, 0.96814473,\n",
              "          0.95727871, 0.95826326, 0.91948593],\n",
              "         [0.73238986, 1.0616531 , 0.57069852, 1.06199215, 0.96910531,\n",
              "          0.96325078, 0.95994725, 0.92247369],\n",
              "         [0.69724621, 1.05830755, 0.57703151, 1.06717185, 0.96989349,\n",
              "          0.96724526, 0.96090483, 0.92420355]],\n",
              " \n",
              "        [[0.73238986, 1.0616531 , 0.57069852, 1.06199215, 0.96910531,\n",
              "          0.96325078, 0.95994725, 0.92247369],\n",
              "         [0.69724621, 1.05830755, 0.57703151, 1.06717185, 0.96989349,\n",
              "          0.96724526, 0.96090483, 0.92420355],\n",
              "         [0.62918213, 1.06012943, 0.57886506, 1.07204472, 0.97085407,\n",
              "          0.97163264, 0.9621926 , 0.92467529]],\n",
              " \n",
              "        [[0.69724621, 1.05830755, 0.57703151, 1.06717185, 0.96989349,\n",
              "          0.96724526, 0.96090483, 0.92420355],\n",
              "         [0.62918213, 1.06012943, 0.57886506, 1.07204472, 0.97085407,\n",
              "          0.97163264, 0.9621926 , 0.92467529],\n",
              "         [0.68260097, 1.07264115, 0.69270888, 1.07752869, 0.97293123,\n",
              "          0.98030263, 0.97193337, 0.95879943]],\n",
              " \n",
              "        [[0.62918213, 1.06012943, 0.57886506, 1.07204472, 0.97085407,\n",
              "          0.97163264, 0.9621926 , 0.92467529],\n",
              "         [0.68260097, 1.07264115, 0.69270888, 1.07752869, 0.97293123,\n",
              "          0.98030263, 0.97193337, 0.95879943],\n",
              "         [0.66726728, 1.08362478, 0.8212918 , 1.08346131, 0.9793105 ,\n",
              "          0.99372671, 0.99329703, 1.02122929]],\n",
              " \n",
              "        [[0.68260097, 1.07264115, 0.69270888, 1.07752869, 0.97293123,\n",
              "          0.98030263, 0.97193337, 0.95879943],\n",
              "         [0.66726728, 1.08362478, 0.8212918 , 1.08346131, 0.9793105 ,\n",
              "          0.99372671, 0.99329703, 1.02122929],\n",
              "         [0.49861689, 1.08033281, 0.69438864, 1.08924542, 0.9846635 ,\n",
              "          1.00195141, 1.00769357, 0.9910365 ]],\n",
              " \n",
              "        [[0.66726728, 1.08362478, 0.8212918 , 1.08346131, 0.9793105 ,\n",
              "          0.99372671, 0.99329703, 1.02122929],\n",
              "         [0.49861689, 1.08033281, 0.69438864, 1.08924542, 0.9846635 ,\n",
              "          1.00195141, 1.00769357, 0.9910365 ],\n",
              "         [0.37677036, 1.06653732, 0.52779461, 1.09445126, 0.9875781 ,\n",
              "          1.00493745, 1.01073138, 0.93867093]],\n",
              " \n",
              "        [[0.49861689, 1.08033281, 0.69438864, 1.08924542, 0.9846635 ,\n",
              "          1.00195141, 1.00769357, 0.9910365 ],\n",
              "         [0.37677036, 1.06653732, 0.52779461, 1.09445126, 0.9875781 ,\n",
              "          1.00493745, 1.01073138, 0.93867093],\n",
              "         [0.48823784, 1.0800537 , 0.53808409, 1.09971537, 0.99284899,\n",
              "          1.00726865, 1.01456164, 0.94291672]],\n",
              " \n",
              "        [[0.37677036, 1.06653732, 0.52779461, 1.09445126, 0.9875781 ,\n",
              "          1.00493745, 1.01073138, 0.93867093],\n",
              "         [0.48823784, 1.0800537 , 0.53808409, 1.09971537, 0.99284899,\n",
              "          1.00726865, 1.01456164, 0.94291672],\n",
              "         [0.46740614, 1.07800547, 0.53848756, 1.10491628, 0.99766834,\n",
              "          1.00965225, 1.01125968, 0.94307403]]]),\n",
              " array([0.85469725, 0.86004393, 0.892281  , 0.90281694, 0.91492552,\n",
              "        0.91445378, 0.91964314, 0.91854234, 0.9124095 , 0.91948593,\n",
              "        0.92247369, 0.92420355, 0.92467529, 0.95879943, 1.02122929,\n",
              "        0.9910365 , 0.93867093, 0.94291672, 0.94307403, 0.9775126 ]))"
            ]
          },
          "metadata": {},
          "execution_count": 43
        }
      ]
    },
    {
      "cell_type": "code",
      "metadata": {
        "id": "AEuBCBGcMYOL"
      },
      "source": [
        "inputs = new_data.iloc[len(new_data)-test_len-week:, :].values\n",
        "inputs = sc.transform(inputs)\n",
        "X_test = []\n",
        "y_test = []\n",
        "for i in range(week, len(inputs)):\n",
        "  X_test.append(inputs[i-week:i,0:column])\n",
        "  y_test.append(inputs[i,column-1])\n",
        "X_test,y_test = np.array(X_test), np.array(y_test)"
      ],
      "execution_count": 44,
      "outputs": []
    },
    {
      "cell_type": "code",
      "metadata": {
        "colab": {
          "base_uri": "https://localhost:8080/"
        },
        "id": "btPl-69LNA8P",
        "outputId": "ca2f0580-f1d7-4cfc-b663-571b313f591d"
      },
      "source": [
        "X_test,y_test"
      ],
      "execution_count": 45,
      "outputs": [
        {
          "output_type": "execute_result",
          "data": {
            "text/plain": [
              "(array([[[0.48823784, 1.0800537 , 0.53808409, 1.09971537, 0.99284899,\n",
              "          1.00726865, 1.01456164, 0.94291672],\n",
              "         [0.46740614, 1.07800547, 0.53848756, 1.10491628, 0.99766834,\n",
              "          1.00965225, 1.01125968, 0.94307403],\n",
              "         [0.44778477, 1.10318166, 0.62070318, 1.11043989, 1.00295565,\n",
              "          1.01447181, 1.00208023, 0.9775126 ]],\n",
              " \n",
              "        [[0.46740614, 1.07800547, 0.53848756, 1.10491628, 0.99766834,\n",
              "          1.00965225, 1.01125968, 0.94307403],\n",
              "         [0.44778477, 1.10318166, 0.62070318, 1.11043989, 1.00295565,\n",
              "          1.01447181, 1.00208023, 0.9775126 ],\n",
              "         [0.50829905, 1.10746802, 0.5362065 , 1.11562283, 1.00697862,\n",
              "          1.01701257, 0.993264  , 0.94904966]],\n",
              " \n",
              "        [[0.44778477, 1.10318166, 0.62070318, 1.11043989, 1.00295565,\n",
              "          1.01447181, 1.00208023, 0.9775126 ],\n",
              "         [0.50829905, 1.10746802, 0.5362065 , 1.11562283, 1.00697862,\n",
              "          1.01701257, 0.993264  , 0.94904966],\n",
              "         [0.4752267 , 1.1082409 , 0.57867553, 1.12099025, 1.01286528,\n",
              "          1.0215964 , 0.99930658, 0.9674484 ]],\n",
              " \n",
              "        [[0.50829905, 1.10746802, 0.5362065 , 1.11562283, 1.00697862,\n",
              "          1.01701257, 0.993264  , 0.94904966],\n",
              "         [0.4752267 , 1.1082409 , 0.57867553, 1.12099025, 1.01286528,\n",
              "          1.0215964 , 0.99930658, 0.9674484 ],\n",
              "         [0.41811921, 1.09745918, 0.56280715, 1.1260662 , 1.01819364,\n",
              "          1.02514559, 1.00333497, 0.96210173]],\n",
              " \n",
              "        [[0.4752267 , 1.1082409 , 0.57867553, 1.12099025, 1.01286528,\n",
              "          1.0215964 , 0.99930658, 0.9674484 ],\n",
              "         [0.41811921, 1.09745918, 0.56280715, 1.1260662 , 1.01819364,\n",
              "          1.02514559, 1.00333497, 0.96210173],\n",
              "         [0.3985998 , 1.09077557, 0.66167316, 1.13135391, 1.02431839,\n",
              "          1.03240114, 1.01730224, 1.00959246]],\n",
              " \n",
              "        [[0.41811921, 1.09745918, 0.56280715, 1.1260662 , 1.01819364,\n",
              "          1.02514559, 1.00333497, 0.96210173],\n",
              "         [0.3985998 , 1.09077557, 0.66167316, 1.13135391, 1.02431839,\n",
              "          1.03240114, 1.01730224, 1.00959246],\n",
              "         [0.39411561, 1.08323583, 0.59715787, 1.13629486, 1.02874365,\n",
              "          1.03767909, 1.0194155 , 0.98757689]],\n",
              " \n",
              "        [[0.3985998 , 1.09077557, 0.66167316, 1.13135391, 1.02431839,\n",
              "          1.03240114, 1.01730224, 1.00959246],\n",
              "         [0.39411561, 1.08323583, 0.59715787, 1.13629486, 1.02874365,\n",
              "          1.03767909, 1.0194155 , 0.98757689],\n",
              "         [0.36826557, 1.07375483, 0.58499918, 1.14113934, 1.03231506,\n",
              "          1.04256414, 1.02661376, 0.98333102]],\n",
              " \n",
              "        [[0.39411561, 1.08323583, 0.59715787, 1.13629486, 1.02874365,\n",
              "          1.03767909, 1.0194155 , 0.98757689],\n",
              "         [0.36826557, 1.07375483, 0.58499918, 1.14113934, 1.03231506,\n",
              "          1.04256414, 1.02661376, 0.98333102],\n",
              "         [0.40084189, 1.08778109, 0.65662809, 1.14633036, 1.03779942,\n",
              "          1.04761945, 1.03754323, 1.01949944]],\n",
              " \n",
              "        [[0.36826557, 1.07375483, 0.58499918, 1.14113934, 1.03231506,\n",
              "          1.04256414, 1.02661376, 0.98333102],\n",
              "         [0.40084189, 1.08778109, 0.65662809, 1.14633036, 1.03779942,\n",
              "          1.04761945, 1.03754323, 1.01949944],\n",
              "         [0.46612643, 1.09948996, 0.66553518, 1.15158365, 1.04326737,\n",
              "          1.04788138, 1.05061899, 1.02437437]],\n",
              " \n",
              "        [[0.40084189, 1.08778109, 0.65662809, 1.14633036, 1.03779942,\n",
              "          1.04761945, 1.03754323, 1.01949944],\n",
              "         [0.46612643, 1.09948996, 0.66553518, 1.15158365, 1.04326737,\n",
              "          1.04788138, 1.05061899, 1.02437437],\n",
              "         [0.37578318, 1.08490116, 0.59359694, 1.15656118, 1.04756126,\n",
              "          1.04869338, 1.0487699 , 1.00078627]]]),\n",
              " array([0.94904966, 0.9674484 , 0.96210173, 1.00959246, 0.98757689,\n",
              "        0.98333102, 1.01949944, 1.02437437, 1.00078627, 1.00298777]))"
            ]
          },
          "metadata": {},
          "execution_count": 45
        }
      ]
    },
    {
      "cell_type": "markdown",
      "metadata": {
        "id": "-mczWFV2q53U"
      },
      "source": [
        "Building and training the RNN"
      ]
    },
    {
      "cell_type": "markdown",
      "metadata": {
        "id": "RskoMkmprBOa"
      },
      "source": [
        "Importing the Keras library and packages"
      ]
    },
    {
      "cell_type": "code",
      "metadata": {
        "id": "LlPnnWDkrAf4"
      },
      "source": [
        "from tensorflow.keras.models import Sequential\n",
        "from tensorflow.keras.layers import Dense\n",
        "from tensorflow.keras.layers import LSTM\n",
        "from tensorflow.keras.layers import Dropout"
      ],
      "execution_count": 46,
      "outputs": []
    },
    {
      "cell_type": "markdown",
      "metadata": {
        "id": "IYpJb3svrouS"
      },
      "source": [
        "Initializing the RNN"
      ]
    },
    {
      "cell_type": "code",
      "metadata": {
        "id": "QKLrUt3Qrizq"
      },
      "source": [
        "regressor= Sequential()"
      ],
      "execution_count": 47,
      "outputs": []
    },
    {
      "cell_type": "markdown",
      "metadata": {
        "id": "scGLx703runK"
      },
      "source": [
        "Adding the first LSTM and some dropout regularization"
      ]
    },
    {
      "cell_type": "code",
      "metadata": {
        "id": "xB526bulrtX0"
      },
      "source": [
        "regressor.add(LSTM(units= 8, return_sequences= True, input_shape = (week,column)))\n",
        "regressor.add(Dropout(0.2))"
      ],
      "execution_count": 48,
      "outputs": []
    },
    {
      "cell_type": "markdown",
      "metadata": {
        "id": "n78PFiV_sQvk"
      },
      "source": [
        "Adding the second LSTM and some dropout regularization"
      ]
    },
    {
      "cell_type": "code",
      "metadata": {
        "id": "jAP34ZlQr6SR"
      },
      "source": [
        "regressor.add(LSTM(units= 6, return_sequences= True))\n",
        "regressor.add(Dropout(0.2))"
      ],
      "execution_count": 49,
      "outputs": []
    },
    {
      "cell_type": "markdown",
      "metadata": {
        "id": "WaQCHI1Dzz4v"
      },
      "source": [
        "Adding the second LSTM and some dropout regularization"
      ]
    },
    {
      "cell_type": "code",
      "metadata": {
        "id": "2aASRFBSzuRN"
      },
      "source": [
        "regressor.add(LSTM(units= 4, return_sequences= True))\n",
        "regressor.add(Dropout(0.2))"
      ],
      "execution_count": 50,
      "outputs": []
    },
    {
      "cell_type": "markdown",
      "metadata": {
        "id": "4txxDhB4sZ48"
      },
      "source": [
        "Adding the second LSTM and some dropout regularization"
      ]
    },
    {
      "cell_type": "code",
      "metadata": {
        "id": "r1ter2qCsPwT"
      },
      "source": [
        "regressor.add(LSTM(units= 2))\n",
        "regressor.add(Dropout(0.2))"
      ],
      "execution_count": 51,
      "outputs": []
    },
    {
      "cell_type": "markdown",
      "metadata": {
        "id": "HBdKIe2CsddC"
      },
      "source": [
        "Adding the output layer"
      ]
    },
    {
      "cell_type": "code",
      "metadata": {
        "id": "a6tVUx2vsfkZ"
      },
      "source": [
        "regressor.add(Dense(units= 1))"
      ],
      "execution_count": 52,
      "outputs": []
    },
    {
      "cell_type": "markdown",
      "metadata": {
        "id": "L_8d0H7tszL0"
      },
      "source": [
        "Compiling the RNN"
      ]
    },
    {
      "cell_type": "code",
      "metadata": {
        "id": "gSQYLKVLsm9U"
      },
      "source": [
        "regressor.compile(optimizer='adam',loss = 'mean_squared_error')"
      ],
      "execution_count": 53,
      "outputs": []
    },
    {
      "cell_type": "markdown",
      "metadata": {
        "id": "qzZV5LRjs41t"
      },
      "source": [
        "Defining the early stoppingto prevent overfitting"
      ]
    },
    {
      "cell_type": "code",
      "metadata": {
        "id": "JrQ-jSdWs2Rr"
      },
      "source": [
        "from tensorflow.keras.callbacks import EarlyStopping\n",
        "early_stop = EarlyStopping(monitor = 'val_loss', mode = 'min', verbose = 1, patience=10)"
      ],
      "execution_count": 54,
      "outputs": []
    },
    {
      "cell_type": "markdown",
      "metadata": {
        "id": "FLsu21NYtUlP"
      },
      "source": [
        "Fitting the RNN to the trainingset"
      ]
    },
    {
      "cell_type": "code",
      "metadata": {
        "colab": {
          "base_uri": "https://localhost:8080/"
        },
        "id": "HsiknaKWcQzD",
        "outputId": "41be63eb-a5aa-4c9d-d4c3-a76e9628e5dc"
      },
      "source": [
        "print(X_train.shape,y_train.shape, X_val.shape, y_val.shape)"
      ],
      "execution_count": 55,
      "outputs": [
        {
          "output_type": "stream",
          "name": "stdout",
          "text": [
            "(2080, 3, 8) (2080,) (20, 3, 8) (20,)\n"
          ]
        }
      ]
    },
    {
      "cell_type": "code",
      "metadata": {
        "id": "7Vl9prxLtZXx",
        "colab": {
          "base_uri": "https://localhost:8080/"
        },
        "outputId": "a980a25f-4ec7-42e1-f665-b92e25458878"
      },
      "source": [
        "regressor.fit(X_train, y_train, epochs=1000,validation_data=(X_val, y_val), callbacks=[early_stop])"
      ],
      "execution_count": 56,
      "outputs": [
        {
          "output_type": "stream",
          "name": "stdout",
          "text": [
            "Epoch 1/1000\n",
            "65/65 [==============================] - 7s 29ms/step - loss: 0.1270 - val_loss: 0.5212\n",
            "Epoch 2/1000\n",
            "65/65 [==============================] - 0s 7ms/step - loss: 0.0472 - val_loss: 0.2355\n",
            "Epoch 3/1000\n",
            "65/65 [==============================] - 0s 7ms/step - loss: 0.0298 - val_loss: 0.1314\n",
            "Epoch 4/1000\n",
            "65/65 [==============================] - 0s 7ms/step - loss: 0.0243 - val_loss: 0.0704\n",
            "Epoch 5/1000\n",
            "65/65 [==============================] - 0s 7ms/step - loss: 0.0205 - val_loss: 0.0521\n",
            "Epoch 6/1000\n",
            "65/65 [==============================] - 0s 7ms/step - loss: 0.0182 - val_loss: 0.0439\n",
            "Epoch 7/1000\n",
            "65/65 [==============================] - 0s 7ms/step - loss: 0.0164 - val_loss: 0.0388\n",
            "Epoch 8/1000\n",
            "65/65 [==============================] - 0s 7ms/step - loss: 0.0145 - val_loss: 0.0341\n",
            "Epoch 9/1000\n",
            "65/65 [==============================] - 0s 7ms/step - loss: 0.0159 - val_loss: 0.0336\n",
            "Epoch 10/1000\n",
            "65/65 [==============================] - 0s 7ms/step - loss: 0.0134 - val_loss: 0.0304\n",
            "Epoch 11/1000\n",
            "65/65 [==============================] - 0s 7ms/step - loss: 0.0125 - val_loss: 0.0340\n",
            "Epoch 12/1000\n",
            "65/65 [==============================] - 0s 7ms/step - loss: 0.0112 - val_loss: 0.0255\n",
            "Epoch 13/1000\n",
            "65/65 [==============================] - 0s 7ms/step - loss: 0.0107 - val_loss: 0.0305\n",
            "Epoch 14/1000\n",
            "65/65 [==============================] - 0s 7ms/step - loss: 0.0096 - val_loss: 0.0272\n",
            "Epoch 15/1000\n",
            "65/65 [==============================] - 0s 7ms/step - loss: 0.0098 - val_loss: 0.0225\n",
            "Epoch 16/1000\n",
            "65/65 [==============================] - 0s 7ms/step - loss: 0.0093 - val_loss: 0.0225\n",
            "Epoch 17/1000\n",
            "65/65 [==============================] - 0s 6ms/step - loss: 0.0083 - val_loss: 0.0180\n",
            "Epoch 18/1000\n",
            "65/65 [==============================] - 1s 8ms/step - loss: 0.0088 - val_loss: 0.0179\n",
            "Epoch 19/1000\n",
            "65/65 [==============================] - 0s 7ms/step - loss: 0.0075 - val_loss: 0.0230\n",
            "Epoch 20/1000\n",
            "65/65 [==============================] - 0s 7ms/step - loss: 0.0078 - val_loss: 0.0184\n",
            "Epoch 21/1000\n",
            "65/65 [==============================] - 0s 6ms/step - loss: 0.0071 - val_loss: 0.0156\n",
            "Epoch 22/1000\n",
            "65/65 [==============================] - 0s 7ms/step - loss: 0.0084 - val_loss: 0.0193\n",
            "Epoch 23/1000\n",
            "65/65 [==============================] - 0s 7ms/step - loss: 0.0073 - val_loss: 0.0210\n",
            "Epoch 24/1000\n",
            "65/65 [==============================] - 0s 7ms/step - loss: 0.0072 - val_loss: 0.0203\n",
            "Epoch 25/1000\n",
            "65/65 [==============================] - 0s 7ms/step - loss: 0.0071 - val_loss: 0.0202\n",
            "Epoch 26/1000\n",
            "65/65 [==============================] - 0s 7ms/step - loss: 0.0067 - val_loss: 0.0187\n",
            "Epoch 27/1000\n",
            "65/65 [==============================] - 0s 7ms/step - loss: 0.0068 - val_loss: 0.0173\n",
            "Epoch 28/1000\n",
            "65/65 [==============================] - 0s 7ms/step - loss: 0.0065 - val_loss: 0.0198\n",
            "Epoch 29/1000\n",
            "65/65 [==============================] - 0s 7ms/step - loss: 0.0069 - val_loss: 0.0177\n",
            "Epoch 30/1000\n",
            "65/65 [==============================] - 0s 7ms/step - loss: 0.0074 - val_loss: 0.0150\n",
            "Epoch 31/1000\n",
            "65/65 [==============================] - 0s 7ms/step - loss: 0.0069 - val_loss: 0.0115\n",
            "Epoch 32/1000\n",
            "65/65 [==============================] - 0s 7ms/step - loss: 0.0066 - val_loss: 0.0162\n",
            "Epoch 33/1000\n",
            "65/65 [==============================] - 0s 7ms/step - loss: 0.0069 - val_loss: 0.0124\n",
            "Epoch 34/1000\n",
            "65/65 [==============================] - 0s 7ms/step - loss: 0.0064 - val_loss: 0.0180\n",
            "Epoch 35/1000\n",
            "65/65 [==============================] - 0s 7ms/step - loss: 0.0067 - val_loss: 0.0212\n",
            "Epoch 36/1000\n",
            "65/65 [==============================] - 0s 7ms/step - loss: 0.0059 - val_loss: 0.0119\n",
            "Epoch 37/1000\n",
            "65/65 [==============================] - 0s 7ms/step - loss: 0.0063 - val_loss: 0.0124\n",
            "Epoch 38/1000\n",
            "65/65 [==============================] - 0s 7ms/step - loss: 0.0067 - val_loss: 0.0136\n",
            "Epoch 39/1000\n",
            "65/65 [==============================] - 0s 7ms/step - loss: 0.0070 - val_loss: 0.0148\n",
            "Epoch 40/1000\n",
            "65/65 [==============================] - 0s 7ms/step - loss: 0.0068 - val_loss: 0.0130\n",
            "Epoch 41/1000\n",
            "65/65 [==============================] - 0s 7ms/step - loss: 0.0073 - val_loss: 0.0106\n",
            "Epoch 42/1000\n",
            "65/65 [==============================] - 0s 7ms/step - loss: 0.0064 - val_loss: 0.0125\n",
            "Epoch 43/1000\n",
            "65/65 [==============================] - 0s 7ms/step - loss: 0.0066 - val_loss: 0.0128\n",
            "Epoch 44/1000\n",
            "65/65 [==============================] - 0s 6ms/step - loss: 0.0064 - val_loss: 0.0185\n",
            "Epoch 45/1000\n",
            "65/65 [==============================] - 0s 7ms/step - loss: 0.0067 - val_loss: 0.0157\n",
            "Epoch 46/1000\n",
            "65/65 [==============================] - 0s 7ms/step - loss: 0.0068 - val_loss: 0.0115\n",
            "Epoch 47/1000\n",
            "65/65 [==============================] - 0s 7ms/step - loss: 0.0062 - val_loss: 0.0157\n",
            "Epoch 48/1000\n",
            "65/65 [==============================] - 0s 7ms/step - loss: 0.0068 - val_loss: 0.0163\n",
            "Epoch 49/1000\n",
            "65/65 [==============================] - 0s 7ms/step - loss: 0.0067 - val_loss: 0.0147\n",
            "Epoch 50/1000\n",
            "65/65 [==============================] - 0s 7ms/step - loss: 0.0070 - val_loss: 0.0141\n",
            "Epoch 51/1000\n",
            "65/65 [==============================] - 0s 7ms/step - loss: 0.0066 - val_loss: 0.0117\n",
            "Epoch 00051: early stopping\n"
          ]
        },
        {
          "output_type": "execute_result",
          "data": {
            "text/plain": [
              "<keras.callbacks.History at 0x7ff691da4650>"
            ]
          },
          "metadata": {},
          "execution_count": 56
        }
      ]
    },
    {
      "cell_type": "markdown",
      "metadata": {
        "id": "-qts4mq7ttEo"
      },
      "source": [
        "Plotting Model training loss and validation loss"
      ]
    },
    {
      "cell_type": "code",
      "metadata": {
        "id": "yrktUpDTtwuy",
        "colab": {
          "base_uri": "https://localhost:8080/",
          "height": 282
        },
        "outputId": "196e3a93-908c-4968-ab9d-16fd37e6c333"
      },
      "source": [
        "loss_df = pd.DataFrame(regressor.history.history)\n",
        "loss_df.plot()"
      ],
      "execution_count": 57,
      "outputs": [
        {
          "output_type": "execute_result",
          "data": {
            "text/plain": [
              "<matplotlib.axes._subplots.AxesSubplot at 0x7ff68dbbaf50>"
            ]
          },
          "metadata": {},
          "execution_count": 57
        },
        {
          "output_type": "display_data",
          "data": {
            "image/png": "[encoded data removed]",
            "text/plain": [
              "<Figure size 432x288 with 1 Axes>"
            ]
          },
          "metadata": {
            "needs_background": "light"
          }
        }
      ]
    },
    {
      "cell_type": "markdown",
      "metadata": {
        "id": "hZ1dhZLit-E4"
      },
      "source": [
        "Predicting the data"
      ]
    },
    {
      "cell_type": "code",
      "metadata": {
        "id": "E1noC2TKt_9M",
        "colab": {
          "base_uri": "https://localhost:8080/"
        },
        "outputId": "8d751478-7573-499d-c7fc-d86677db42b2"
      },
      "source": [
        "y_pred = regressor.predict(X_test)\n",
        "y_pred = sc_output.inverse_transform(y_pred)\n",
        "y_pred"
      ],
      "execution_count": 58,
      "outputs": [
        {
          "output_type": "execute_result",
          "data": {
            "text/plain": [
              "array([[406.73978],\n",
              "       [407.08148],\n",
              "       [407.90598],\n",
              "       [407.02277],\n",
              "       [408.23904],\n",
              "       [408.87598],\n",
              "       [410.56543],\n",
              "       [409.98196],\n",
              "       [411.21075],\n",
              "       [413.37152]], dtype=float32)"
            ]
          },
          "metadata": {},
          "execution_count": 58
        }
      ]
    },
    {
      "cell_type": "code",
      "metadata": {
        "id": "0iA8XXqwuOoC"
      },
      "source": [
        "y_test=y_test.reshape(-1,1)\n",
        "y_test = sc_output.inverse_transform(y_test)"
      ],
      "execution_count": 59,
      "outputs": []
    },
    {
      "cell_type": "code",
      "metadata": {
        "id": "s6Z8G-kguZGf",
        "colab": {
          "base_uri": "https://localhost:8080/"
        },
        "outputId": "c36c2107-e17c-4e90-dccf-fe4f9c773017"
      },
      "source": [
        "np.concatenate((y_test,y_pred), axis =1)"
      ],
      "execution_count": 60,
      "outputs": [
        {
          "output_type": "execute_result",
          "data": {
            "text/plain": [
              "array([[440.75      , 406.73977661],\n",
              "       [446.6000061 , 407.08148193],\n",
              "       [444.8999939 , 407.90597534],\n",
              "       [460.        , 407.02276611],\n",
              "       [453.        , 408.23904419],\n",
              "       [451.6499939 , 408.87597656],\n",
              "       [463.1499939 , 410.56542969],\n",
              "       [464.70001221, 409.98196411],\n",
              "       [457.20001221, 411.21075439],\n",
              "       [457.8999939 , 413.371521  ]])"
            ]
          },
          "metadata": {},
          "execution_count": 60
        }
      ]
    },
    {
      "cell_type": "markdown",
      "metadata": {
        "id": "jeWA-JCwuhPf"
      },
      "source": [
        "Visualizing the data"
      ]
    },
    {
      "cell_type": "code",
      "metadata": {
        "id": "_1DrpKBAujig",
        "colab": {
          "base_uri": "https://localhost:8080/",
          "height": 295
        },
        "outputId": "1e271a89-6008-4bf2-97e5-98067a41d445"
      },
      "source": [
        "plt.plot(y_test, color = 'red', label='Real ASK')\n",
        "plt.plot(y_pred, color = 'blue', label='predicted data')\n",
        "plt.title('prediction comparison')\n",
        "plt.xlabel('Time')\n",
        "plt.ylabel('Stock price')\n",
        "plt.legend()\n",
        "plt.show()"
      ],
      "execution_count": 61,
      "outputs": [
        {
          "output_type": "display_data",
          "data": {
            "image/png": "[encoded data removed]",
            "text/plain": [
              "<Figure size 432x288 with 1 Axes>"
            ]
          },
          "metadata": {
            "needs_background": "light"
          }
        }
      ]
    },
    {
      "cell_type": "markdown",
      "metadata": {
        "id": "-LZi9j-XvQ1m"
      },
      "source": [
        "Calculating the ME(Mean absolute error) and RMSE(Root meansquare error)"
      ]
    },
    {
      "cell_type": "code",
      "metadata": {
        "id": "gZUlXsyGvbdo"
      },
      "source": [
        "from sklearn.metrics import mean_absolute_error, mean_squared_error\n",
        "ME = mean_absolute_error(y_test, y_pred)"
      ],
      "execution_count": 62,
      "outputs": []
    },
    {
      "cell_type": "code",
      "metadata": {
        "id": "eRVFgs6CvuR_",
        "colab": {
          "base_uri": "https://localhost:8080/"
        },
        "outputId": "10ec22be-4c9d-4d73-d7cb-37ee3de91d0f"
      },
      "source": [
        "100 - ME/np.mean(y_test)*100"
      ],
      "execution_count": 63,
      "outputs": [
        {
          "output_type": "execute_result",
          "data": {
            "text/plain": [
              "90.11299237731083"
            ]
          },
          "metadata": {},
          "execution_count": 63
        }
      ]
    },
    {
      "cell_type": "code",
      "metadata": {
        "id": "bC39uWATv2E6",
        "colab": {
          "base_uri": "https://localhost:8080/"
        },
        "outputId": "afec3d91-3dec-4de5-a175-70e83edd422d"
      },
      "source": [
        "MSE = mean_squared_error(y_test,y_pred)\n",
        "RMSE = MSE**.5\n",
        "RMSE"
      ],
      "execution_count": 64,
      "outputs": [
        {
          "output_type": "execute_result",
          "data": {
            "text/plain": [
              "45.36927529069464"
            ]
          },
          "metadata": {},
          "execution_count": 64
        }
      ]
    },
    {
      "cell_type": "code",
      "metadata": {
        "id": "TYvvYwFKwIQs",
        "colab": {
          "base_uri": "https://localhost:8080/"
        },
        "outputId": "16d81d62-e674-4b67-fa93-e8e1565f8392"
      },
      "source": [
        "100-RMSE/np.mean(y_test)*100"
      ],
      "execution_count": 65,
      "outputs": [
        {
          "output_type": "execute_result",
          "data": {
            "text/plain": [
              "90.00643738676415"
            ]
          },
          "metadata": {},
          "execution_count": 65
        }
      ]
    },
    {
      "cell_type": "code",
      "metadata": {
        "id": "r6N-s-7ZwQCI",
        "colab": {
          "base_uri": "https://localhost:8080/"
        },
        "outputId": "e71e4c38-b28a-4429-a431-73b320d33317"
      },
      "source": [
        "for i in range(0,len(y_test)):\n",
        "  print(100-RMSE/y_test[i]*100)"
      ],
      "execution_count": 66,
      "outputs": [
        {
          "output_type": "stream",
          "name": "stdout",
          "text": [
            "[89.70634707]\n",
            "[89.84118346]\n",
            "[89.80236549]\n",
            "[90.13711407]\n",
            "[89.98470744]\n",
            "[89.95477119]\n",
            "[90.20419391]\n",
            "[90.23686807]\n",
            "[90.07671171]\n",
            "[90.09188122]\n"
          ]
        }
      ]
    },
    {
      "cell_type": "markdown",
      "metadata": {
        "id": "k5DADaqTwd3Z"
      },
      "source": [
        "Predicting the next value"
      ]
    },
    {
      "cell_type": "code",
      "metadata": {
        "id": "j9Olh1PzFNm1"
      },
      "source": [
        "dataset_total = new_data"
      ],
      "execution_count": 67,
      "outputs": []
    },
    {
      "cell_type": "code",
      "metadata": {
        "id": "Kb_zJ-FRwh9y"
      },
      "source": [
        "#getting only last three actual data to predict the forth one\n",
        "inputs = dataset_total.iloc[len(dataset_total)-week:,:column].values\n",
        "inputs = sc.transform(inputs)\n",
        "next_day_value=[]\n",
        "next_day_value.append(inputs)\n",
        "next_day_value = np.array(next_day_value)\n",
        "\n",
        "predicted_data = regressor.predict(next_day_value)\n",
        "predicted_data = sc_output.inverse_transform(predicted_data)"
      ],
      "execution_count": 68,
      "outputs": []
    },
    {
      "cell_type": "code",
      "metadata": {
        "id": "LTjhvoqJxvlt",
        "colab": {
          "base_uri": "https://localhost:8080/"
        },
        "outputId": "8222d292-9ace-494e-b2c1-16745b486573"
      },
      "source": [
        "predicted_data"
      ],
      "execution_count": 69,
      "outputs": [
        {
          "output_type": "execute_result",
          "data": {
            "text/plain": [
              "array([[413.42325]], dtype=float32)"
            ]
          },
          "metadata": {},
          "execution_count": 69
        }
      ]
    },
    {
      "cell_type": "code",
      "metadata": {
        "id": "nL_SUNVhGT9p"
      },
      "source": [
        "pred_actual=np.concatenate((y_test,y_pred), axis =1)[9][1]"
      ],
      "execution_count": 70,
      "outputs": []
    },
    {
      "cell_type": "code",
      "metadata": {
        "colab": {
          "base_uri": "https://localhost:8080/"
        },
        "id": "g4rwnv7UkAGn",
        "outputId": "30aa2202-13c0-4f50-c7d2-fb1ee138053b"
      },
      "source": [
        "#Predicted growth\n",
        "print((predicted_data/pred_actual-1))"
      ],
      "execution_count": 71,
      "outputs": [
        {
          "output_type": "stream",
          "name": "stdout",
          "text": [
            "[[0.00012517]]\n"
          ]
        }
      ]
    },
    {
      "cell_type": "markdown",
      "metadata": {
        "id": "gXT39SjwUht7"
      },
      "source": [
        "# Finish"
      ]
    },
    {
      "cell_type": "code",
      "metadata": {
        "id": "nNM07PKYUkk6"
      },
      "source": [
        ""
      ],
      "execution_count": 71,
      "outputs": []
    }
  ]
}